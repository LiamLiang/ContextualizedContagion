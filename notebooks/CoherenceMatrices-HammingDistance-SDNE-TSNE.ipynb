{
 "cells": [
  {
   "cell_type": "code",
   "execution_count": 5,
   "metadata": {
    "pycharm": {
     "is_executing": false
    }
   },
   "outputs": [],
   "source": [
    "import numpy as np\n",
    "import pandas as pd\n",
    "import AgentClass\n",
    "import const\n",
    "import random\n",
    "import networkx as nx\n",
    "import os, shutil\n",
    "\n",
    "from scipy import stats\n",
    "from collections import defaultdict\n",
    "import json\n",
    "import utilities\n",
    "import copy\n",
    "\n",
    "import matplotlib.pyplot as plt\n",
    "%matplotlib inline\n",
    "import matplotlib\n",
    "import seaborn as sns\n",
    "from random import shuffle\n",
    "\n",
    "from scipy.spatial import distance\n",
    "\n",
    "\n",
    "sns.set(style='darkgrid', rc={'figure.figsize':(10,6)}, font_scale=1.25)\n",
    "\n",
    "\n",
    "num_agents = 1024\n",
    "number_of_bits = 10\n",
    "\n",
    "def get_tau_distr():\n",
    "    lower = 0\n",
    "    upper = 1\n",
    "    mu = 0.5\n",
    "    sigma = 0.1\n",
    "    N = num_agents\n",
    "\n",
    "    samples = stats.truncnorm.rvs(\n",
    "          (lower-mu)/sigma,(upper-mu)/sigma,loc=mu,scale=sigma,size=N)\n",
    "\n",
    "    return samples\n",
    "\n",
    "def create_even_bits_init_states():\n",
    "    eq_bits = [[0 for i in range(num_agents//2)] + [1 for i in range(num_agents//2)] for i in range(number_of_bits)]\n",
    "    for i in eq_bits:\n",
    "        shuffle(i)\n",
    "    return [[bit.pop() for bit in eq_bits] for i in range(num_agents)]  \n",
    "\n",
    "\n",
    "def binary_rep(n):\n",
    "    fmt = '{0:0'+str(number_of_bits)+'b}'\n",
    "    return [[int(i) for i in fmt.format(x)] for x in n]\n",
    "  \n",
    "def create_environment(inital_states):\n",
    "    list_agents = []\n",
    "    tau_distr = get_tau_distr()\n",
    "    for i in range(num_agents):\n",
    "        in_state = inital_states.pop()\n",
    "        a = AgentClass.Agent(name='agent{}'.format(i), tau=random.choice(tau_distr), initial_state=in_state)\n",
    "        list_agents.append(a)\n",
    "\n",
    "    # create network\n",
    "    G = nx.barabasi_albert_graph(num_agents, 2, seed= 0)\n",
    "    df = nx.to_pandas_adjacency(G, dtype=int)\n",
    "\n",
    "    tmp_edges = df.apply(lambda row: row.to_numpy().nonzero()).to_dict()\n",
    "    edges = {k: v[0].tolist() for k, v in tmp_edges.items()}\n",
    "\n",
    "    # make random connections with agents\n",
    "    for k, v in edges.items():\n",
    "        for ngh in v:\n",
    "            list_agents[k].add_neighbors(list_agents[ngh])\n",
    "\n",
    "    return list_agents\n",
    "\n",
    "def reinit_agents(agents,initial_states):\n",
    "    copy = []+initial_states\n",
    "    for a in agents:\n",
    "        if len(initial_states)==0:\n",
    "            print(\"Recycling state vector\")\n",
    "            initial_states = []+copy\n",
    "        a.reset_state(initial_states.pop())\n",
    "\n",
    "def get_network_df(list_agents):\n",
    "    network_df = pd.DataFrame({'source':[], 'target':[]})\n",
    "    for agt in list_agents:\n",
    "        neighbors = agt.get_neighbors_name()\n",
    "        for n in neighbors:\n",
    "            network_df = network_df.append({'source':agt.name,\n",
    "                                        'target':n}, ignore_index=True)\n",
    "    return network_df\n",
    "\n",
    "def run_simulation(alpha, coherence, bit_mat, list_agents, end_time, exp):\n",
    "    d = []\n",
    "    generations = 0\n",
    "    for t in range(end_time):\n",
    "        # compute next state for all agents\n",
    "        for agt in list_agents:\n",
    "            agt.update_knowledge(alpha, coherence, bit_mat)\n",
    "\n",
    "        # keep record of current record and all other values\n",
    "        for agt in list_agents:\n",
    "            row = {'Agent_Number': int(agt.name.split('t')[1]),\n",
    "                   'Time':t,\n",
    "                   # at any time step we will need normalized how many neighbors disagree on bits\n",
    "                   'bits_disagreement':np.mean(agt.state_disagreements),\n",
    "                   #'Current_Knowledge_State':agt.knowledge_state,\n",
    "                   'Current': utilities.bool2int(agt.knowledge_state),\n",
    "                   'alpha':alpha,\n",
    "                   'Next': utilities.bool2int(agt.next_state),\n",
    "                   #'Next_Knowledge_State':agt.next_state,\n",
    "                   \"Experiment\":exp}\n",
    "\n",
    "            d.append(row)\n",
    "\n",
    "        # now update all agents next state with computed next state\n",
    "        for agt in list_agents:\n",
    "            agt.knowledge_state = agt.next_state\n",
    "            agt.next_state = None\n",
    "            agt.dissonance_lst = None\n",
    "\n",
    "        generations+=1\n",
    "\n",
    "    return pd.DataFrame(d)\n",
    "\n",
    "def normalize_rows(m,noise=.001):\n",
    "    for i, row in enumerate(m):\n",
    "        \n",
    "        for j, col in enumerate(row):\n",
    "            if m[i][j] ==0:\n",
    "                m[i][j] += noise\n",
    "                \n",
    "        \n",
    "        # normalizing        \n",
    "        summing = sum(row)\n",
    "        for j, col in enumerate(row):\n",
    "            m[i][j] = m[i][j]/summing  \n",
    "\n",
    "def create_graph_from_records(records:pd.DataFrame, remove_self_loops = True):\n",
    "    records[\"weight\"] = 1\n",
    "    x=records[[\"Current\",\"Next\",\"weight\"]].groupby([\"Current\",\"Next\"]).agg('count').reset_index()\n",
    "    if remove_self_loops:\n",
    "        x.drop(x[x.Current == x.Next].index, inplace=True)\n",
    "    xg = nx.from_pandas_edgelist(x,\"Current\",\"Next\",\"weight\",create_using = nx.MultiDiGraph)\n",
    "    return xg\n",
    "\n",
    "def hamming(a,b):\n",
    "    return(bin(a^b).count(\"1\"))\n",
    "\n",
    "def save_experiment(sim,config,results_df:pd.DataFrame,network_df:pd.DataFrame,name=\"empirical_data\"):\n",
    "    path = \"./simulations/s{}\".format(sim)\n",
    "    if not os.path.isdir(path):\n",
    "        os.mkdir(path)\n",
    "    with open(\"{}/config.txt\".format(path),\"w\") as f:\n",
    "        f.write(str(config))\n",
    "    \n",
    "    shutil.copyfile(\"attractors.csv\",path+\"/attractors.csv\")\n",
    "    shutil.copyfile(\"coherence_matrix.csv\",path+\"/coherence_matrix.csv\")\n",
    "        \n",
    "    results_df.to_csv(path+\"/{}\".format(name)+\".csv\")\n",
    "    network_df.to_csv(path+\"/{}_network.csv\".format(name))\n",
    "    \n",
    "def produce_init_states(num):\n",
    "    n = list(range(num))\n",
    "    random.shuffle(n)\n",
    "    return binary_rep(n)\n",
    "\n",
    "def init_coherence_matrix(attractors,search_distance,inertial_weight=.5):\n",
    "    attrctr_space_vec = np.zeros(2**number_of_bits)\n",
    "    attractor_df = []\n",
    "    for a in attractors:\n",
    "        location = a[0]\n",
    "        depth = a[1]\n",
    "        radius = a[2]\n",
    "                \n",
    "        for j in range(2**number_of_bits):\n",
    "                diff = hamming(j, location)\n",
    "                attractor_df.append({\"attractor\":a,\"position\":j,\"depth\":depth,\"distance\":diff,\"inbasin\":diff<=radius})\n",
    "                #diff = abs(j-k) ### Uncomment if needed to look into euclidean space\n",
    "                if diff <= radius:\n",
    "                    attrctr_state_distance = (1-diff/radius)*depth\n",
    "                    attrctr_space_vec[j] = max(attrctr_space_vec[j], attrctr_state_distance)\n",
    "    \n",
    "    attrctr_space_mat = np.tile(attrctr_space_vec, (2**number_of_bits, 1))            \n",
    "    \n",
    "    pd.DataFrame(attractor_df).to_csv(\"attractors.csv\")\n",
    "    with open(\"attractors.csv\",\"a\") as f:\n",
    "        line = \"# inertia {}\".format(inertial_weight)\n",
    "        f.write(line)\n",
    "    \n",
    "    # create inertial matrix\n",
    "    inertia_matrix = np.zeros((2**number_of_bits, 2**number_of_bits))\n",
    "            \n",
    "    for row_st, row in enumerate(inertia_matrix):\n",
    "        for col_st, col in enumerate(row):\n",
    "            bits_difference = hamming(row_st, col_st)\n",
    "    #         bits_difference = np.abs(row_st- col_st)\n",
    "            inertia_matrix[row_st, col_st] = max(0, 1- bits_difference *(1/search_distance))\n",
    "            \n",
    "   \n",
    "    \n",
    "    coherence_matrix = (1-inertial_weight)*attrctr_space_mat + inertial_weight*inertia_matrix\n",
    "    normalize_rows(coherence_matrix)\n",
    "    pd.DataFrame(coherence_matrix).to_csv(\"coherence_matrix.csv\")\n",
    "    \n",
    "    return attrctr_space_mat,inertia_matrix,coherence_matrix    \n",
    "\n",
    "def run_full_experiment(coherence_matrix,id,end_simulation_time = 100, exp_times = 5,reset_graph= False,alphas = None ):\n",
    "    if alphas is None:\n",
    "        alphas = [0,.2,.5,.7,.9]\n",
    "    \n",
    "    # first create environment\n",
    "    agents_list = None\n",
    "    constants = const.Constants()\n",
    "    bit_mat = constants.get_bit_matrix()\n",
    "    record_df = pd.DataFrame()\n",
    "    for i in range(exp_times):\n",
    "        print(\"Experiment {} or {}: {} agents for {} time steps\".format(i,exp_times,num_agents,end_simulation_time))\n",
    "        # run simulation\n",
    "        for alpha in alphas:\n",
    "            print(\".\",end=\"\")\n",
    "            init_state = produce_init_states(2**number_of_bits)\n",
    "            if reset_graph or agents_list is None:\n",
    "                agents_list = create_environment(init_state)\n",
    "            else:\n",
    "                reinit_agents(agents_list,init_state)\n",
    "            tmp_record_df = run_simulation(alpha, coherence_matrix, bit_mat, agents_list, end_simulation_time,i)\n",
    "            record_df = record_df.append(tmp_record_df)\n",
    "    config = {\"num_agents\":num_agents,\"num_bits\":number_of_bits}\n",
    "    save_experiment(id,config,record_df,get_network_df(agents_list),\"simulation_data\")\n",
    "    return record_df\n",
    "            \n",
    "\n",
    "\n"
   ]
  },
  {
   "cell_type": "markdown",
   "metadata": {},
   "source": [
    "### Simulation 11: High inertia, complex space"
   ]
  },
  {
   "cell_type": "code",
   "execution_count": 8,
   "metadata": {
    "pycharm": {
     "is_executing": false
    }
   },
   "outputs": [
    {
     "name": "stdout",
     "text": [
      "Initializing matrix using bitblock method again\n",
      "Experiment 0 or 5: 1024 agents for 100 time steps\n",
      ".....Experiment 1 or 5: 1024 agents for 100 time steps\n",
      ".....Experiment 2 or 5: 1024 agents for 100 time steps\n",
      ".....Experiment 3 or 5: 1024 agents for 100 time steps\n",
      ".....Experiment 4 or 5: 1024 agents for 100 time steps\n",
      "....."
     ],
     "output_type": "stream"
    }
   ],
   "source": [
    "\n",
    "random.seed(3)\n",
    "attractors = [[768,1,2],[192,.5,5],[48,1,5],[12,.5,5],[3,1,2]]\n",
    "cm = init_coherence_matrix(attractors,.7)\n",
    "run_full_experiment(cm,\"ss11\")"
   ]
  },
  {
   "cell_type": "code",
   "execution_count": null,
   "outputs": [],
   "source": [],
   "metadata": {
    "collapsed": false,
    "pycharm": {
     "name": "#%%\n"
    }
   }
  },
  {
   "cell_type": "markdown",
   "source": [
    "### Simulation 12: Reducing inertia, complex space"
   ],
   "metadata": {
    "collapsed": false
   }
  },
  {
   "cell_type": "code",
   "execution_count": 12,
   "outputs": [
    {
     "name": "stdout",
     "text": [
      "Initializing matrix using bitblock method again\n",
      "Experiment 0 or 5: 1024 agents for 100 time steps\n",
      ".....Experiment 1 or 5: 1024 agents for 100 time steps\n",
      ".....Experiment 2 or 5: 1024 agents for 100 time steps\n",
      ".....Experiment 3 or 5: 1024 agents for 100 time steps\n",
      ".....Experiment 4 or 5: 1024 agents for 100 time steps\n",
      "....."
     ],
     "output_type": "stream"
    }
   ],
   "source": [
    "random.seed(3)\n",
    "attractors = [[768,1,2],[192,.5,5],[48,1,5],[12,.5,5],[3,1,2]]\n",
    "cm = init_coherence_matrix(attractors,.6)\n",
    "record_df = run_full_experiment(cm,\"ss12\")  "
   ],
   "metadata": {
    "collapsed": false,
    "pycharm": {
     "name": "#%%\n",
     "is_executing": false
    }
   }
  },
  {
   "cell_type": "markdown",
   "source": [
    "### Simulation 13: Systematic investigation"
   ],
   "metadata": {
    "collapsed": false,
    "pycharm": {
     "name": "#%% md\n"
    }
   }
  },
  {
   "cell_type": "code",
   "execution_count": 18,
   "outputs": [
    {
     "name": "stdout",
     "text": [
      "Initializing matrix using bitblock method again\n",
      "Experiment 0 or 5: 1024 agents for 100 time steps\n",
      ".....Experiment 1 or 5: 1024 agents for 100 time steps\n",
      ".....Experiment 2 or 5: 1024 agents for 100 time steps\n",
      ".....Experiment 3 or 5: 1024 agents for 100 time steps\n",
      ".....Experiment 4 or 5: 1024 agents for 100 time steps\n",
      ".....Initializing matrix using bitblock method again\n",
      "Experiment 0 or 5: 1024 agents for 100 time steps\n",
      ".....Experiment 1 or 5: 1024 agents for 100 time steps\n",
      ".....Experiment 2 or 5: 1024 agents for 100 time steps\n",
      ".....Experiment 3 or 5: 1024 agents for 100 time steps\n",
      ".....Experiment 4 or 5: 1024 agents for 100 time steps\n",
      ".....Initializing matrix using bitblock method again\n",
      "Experiment 0 or 5: 1024 agents for 100 time steps\n",
      ".....Experiment 1 or 5: 1024 agents for 100 time steps\n",
      ".....Experiment 2 or 5: 1024 agents for 100 time steps\n",
      ".....Experiment 3 or 5: 1024 agents for 100 time steps\n",
      ".....Experiment 4 or 5: 1024 agents for 100 time steps\n",
      ".....Initializing matrix using bitblock method again\n",
      "Experiment 0 or 5: 1024 agents for 100 time steps\n",
      ".....Experiment 1 or 5: 1024 agents for 100 time steps\n",
      ".....Experiment 2 or 5: 1024 agents for 100 time steps\n",
      ".....Experiment 3 or 5: 1024 agents for 100 time steps\n",
      ".....Experiment 4 or 5: 1024 agents for 100 time steps\n",
      ".....Initializing matrix using bitblock method again\n",
      "Experiment 0 or 5: 1024 agents for 100 time steps\n",
      ".....Experiment 1 or 5: 1024 agents for 100 time steps\n",
      ".....Experiment 2 or 5: 1024 agents for 100 time steps\n",
      ".....Experiment 3 or 5: 1024 agents for 100 time steps\n",
      ".....Experiment 4 or 5: 1024 agents for 100 time steps\n",
      ".....Initializing matrix using bitblock method again\n",
      "Experiment 0 or 5: 1024 agents for 100 time steps\n",
      ".....Experiment 1 or 5: 1024 agents for 100 time steps\n",
      ".....Experiment 2 or 5: 1024 agents for 100 time steps\n",
      ".....Experiment 3 or 5: 1024 agents for 100 time steps\n",
      ".....Experiment 4 or 5: 1024 agents for 100 time steps\n",
      "....."
     ],
     "output_type": "stream"
    }
   ],
   "source": [
    "random.seed(3)\n",
    "attractors = [[768,1,2],[192,.5,5],[48,1,5],[12,.5,5],[3,1,2]]\n",
    "\n",
    "for i in range(0,11,2):\n",
    "    cm = init_coherence_matrix(attractors,5,i/10)[2]\n",
    "    run_full_experiment(cm,\"inertia{}\".format(i))"
   ],
   "metadata": {
    "collapsed": false,
    "pycharm": {
     "name": "#%%\n",
     "is_executing": false
    }
   }
  },
  {
   "cell_type": "code",
   "execution_count": null,
   "outputs": [],
   "source": [],
   "metadata": {
    "collapsed": false,
    "pycharm": {
     "name": "#%%\n"
    }
   }
  },
  {
   "cell_type": "markdown",
   "source": [
    "### Simulation 14: Systematic investigation with crowded space"
   ],
   "metadata": {
    "collapsed": false
   }
  },
  {
   "cell_type": "code",
   "execution_count": 19,
   "outputs": [
    {
     "name": "stdout",
     "text": [
      "Initializing matrix using bitblock method again\n",
      "Experiment 0 or 5: 1024 agents for 100 time steps\n",
      ".....Experiment 1 or 5: 1024 agents for 100 time steps\n",
      ".....Experiment 2 or 5: 1024 agents for 100 time steps\n",
      ".....Experiment 3 or 5: 1024 agents for 100 time steps\n",
      ".....Experiment 4 or 5: 1024 agents for 100 time steps\n",
      ".....Initializing matrix using bitblock method again\n",
      "Experiment 0 or 5: 1024 agents for 100 time steps\n",
      ".....Experiment 1 or 5: 1024 agents for 100 time steps\n",
      ".....Experiment 2 or 5: 1024 agents for 100 time steps\n",
      ".....Experiment 3 or 5: 1024 agents for 100 time steps\n",
      ".....Experiment 4 or 5: 1024 agents for 100 time steps\n",
      ".....Initializing matrix using bitblock method again\n",
      "Experiment 0 or 5: 1024 agents for 100 time steps\n",
      ".....Experiment 1 or 5: 1024 agents for 100 time steps\n",
      ".....Experiment 2 or 5: 1024 agents for 100 time steps\n",
      ".....Experiment 3 or 5: 1024 agents for 100 time steps\n",
      ".....Experiment 4 or 5: 1024 agents for 100 time steps\n",
      ".....Initializing matrix using bitblock method again\n",
      "Experiment 0 or 5: 1024 agents for 100 time steps\n",
      ".....Experiment 1 or 5: 1024 agents for 100 time steps\n",
      ".....Experiment 2 or 5: 1024 agents for 100 time steps\n",
      ".....Experiment 3 or 5: 1024 agents for 100 time steps\n",
      ".....Experiment 4 or 5: 1024 agents for 100 time steps\n",
      "....."
     ],
     "output_type": "stream"
    }
   ],
   "source": [
    "random.seed(3)\n",
    "attractors = [[768,.8,5],[192,.2,5],[48,1,1],[12,.8,5],[3,.2,5]]\n",
    "for i in range(0,11,3):\n",
    "    cm = init_coherence_matrix(attractors,5,i/10)[2]\n",
    "    run_full_experiment(cm,\"hidden_attractor{}\".format(i))  "
   ],
   "metadata": {
    "collapsed": false,
    "pycharm": {
     "name": "#%%\n",
     "is_executing": false
    }
   }
  },
  {
   "cell_type": "code",
   "execution_count": null,
   "outputs": [],
   "source": [],
   "metadata": {
    "collapsed": false,
    "pycharm": {
     "name": "#%%\n"
    }
   }
  },
  {
   "cell_type": "markdown",
   "source": [
    "### Simulation 15: Systematic investigation with simple space"
   ],
   "metadata": {
    "collapsed": false
   }
  },
  {
   "cell_type": "code",
   "execution_count": 2,
   "outputs": [
    {
     "name": "stdout",
     "text": [
      "Initializing matrix using bitblock method again\n",
      "Experiment 0 or 5: 1024 agents for 100 time steps\n",
      ".....Experiment 1 or 5: 1024 agents for 100 time steps\n",
      ".....Experiment 2 or 5: 1024 agents for 100 time steps\n",
      ".....Experiment 3 or 5: 1024 agents for 100 time steps\n",
      ".....Experiment 4 or 5: 1024 agents for 100 time steps\n",
      ".....Initializing matrix using bitblock method again\n",
      "Experiment 0 or 5: 1024 agents for 100 time steps\n",
      ".....Experiment 1 or 5: 1024 agents for 100 time steps\n",
      ".....Experiment 2 or 5: 1024 agents for 100 time steps\n",
      ".....Experiment 3 or 5: 1024 agents for 100 time steps\n",
      ".....Experiment 4 or 5: 1024 agents for 100 time steps\n",
      ".....Initializing matrix using bitblock method again\n",
      "Experiment 0 or 5: 1024 agents for 100 time steps\n",
      ".....Experiment 1 or 5: 1024 agents for 100 time steps\n",
      ".....Experiment 2 or 5: 1024 agents for 100 time steps\n",
      ".....Experiment 3 or 5: 1024 agents for 100 time steps\n",
      ".....Experiment 4 or 5: 1024 agents for 100 time steps\n",
      ".....Initializing matrix using bitblock method again\n",
      "Experiment 0 or 5: 1024 agents for 100 time steps\n",
      ".....Experiment 1 or 5: 1024 agents for 100 time steps\n",
      ".....Experiment 2 or 5: 1024 agents for 100 time steps\n",
      ".....Experiment 3 or 5: 1024 agents for 100 time steps\n",
      ".....Experiment 4 or 5: 1024 agents for 100 time steps\n",
      "....."
     ],
     "output_type": "stream"
    }
   ],
   "source": [
    "random.seed(3)\n",
    "attractors = [[768,.6,3],[48,1,3],[3,.6,3]]\n",
    "for i in range(0,11,3):\n",
    "    cm = init_coherence_matrix(attractors,5,i/10)[2]\n",
    "    run_full_experiment(cm,\"simple_attractor{}\".format(i))  "
   ],
   "metadata": {
    "collapsed": false,
    "pycharm": {
     "name": "#%%\n",
     "is_executing": false
    }
   }
  },
  {
   "cell_type": "code",
   "execution_count": null,
   "outputs": [],
   "source": [],
   "metadata": {
    "collapsed": false,
    "pycharm": {
     "name": "#%%\n"
    }
   }
  },
  {
   "cell_type": "markdown",
   "source": [
    "### Simulation 16: Systematic investigation with simple competition"
   ],
   "metadata": {
    "collapsed": false
   }
  },
  {
   "cell_type": "code",
   "execution_count": 3,
   "outputs": [
    {
     "name": "stdout",
     "text": [
      "Initializing matrix using bitblock method again\n",
      "Experiment 0 or 5: 1024 agents for 100 time steps\n",
      ".....Experiment 1 or 5: 1024 agents for 100 time steps\n",
      ".....Experiment 2 or 5: 1024 agents for 100 time steps\n",
      ".....Experiment 3 or 5: 1024 agents for 100 time steps\n",
      ".....Experiment 4 or 5: 1024 agents for 100 time steps\n",
      ".....Initializing matrix using bitblock method again\n",
      "Experiment 0 or 5: 1024 agents for 100 time steps\n",
      ".....Experiment 1 or 5: 1024 agents for 100 time steps\n",
      ".....Experiment 2 or 5: 1024 agents for 100 time steps\n",
      ".....Experiment 3 or 5: 1024 agents for 100 time steps\n",
      ".....Experiment 4 or 5: 1024 agents for 100 time steps\n",
      ".....Initializing matrix using bitblock method again\n",
      "Experiment 0 or 5: 1024 agents for 100 time steps\n",
      ".....Experiment 1 or 5: 1024 agents for 100 time steps\n",
      ".....Experiment 2 or 5: 1024 agents for 100 time steps\n",
      ".....Experiment 3 or 5: 1024 agents for 100 time steps\n",
      ".....Experiment 4 or 5: 1024 agents for 100 time steps\n",
      ".....Initializing matrix using bitblock method again\n",
      "Experiment 0 or 5: 1024 agents for 100 time steps\n",
      ".....Experiment 1 or 5: 1024 agents for 100 time steps\n",
      ".....Experiment 2 or 5: 1024 agents for 100 time steps\n",
      ".....Experiment 3 or 5: 1024 agents for 100 time steps\n",
      ".....Experiment 4 or 5: 1024 agents for 100 time steps\n",
      "....."
     ],
     "output_type": "stream"
    }
   ],
   "source": [
    "random.seed(3)\n",
    "attractors = [[768,1,3],[3,1,3]]\n",
    "for i in range(0,11,3):\n",
    "    cm = init_coherence_matrix(attractors,5,i/10)[2]\n",
    "    run_full_experiment(cm,\"simple_competition{}\".format(i))  "
   ],
   "metadata": {
    "collapsed": false,
    "pycharm": {
     "name": "#%%\n",
     "is_executing": false
    }
   }
  },
  {
   "cell_type": "markdown",
   "source": [
    "### Simulation 17: Systematic investigation with one attractor"
   ],
   "metadata": {
    "collapsed": false,
    "pycharm": {
     "name": "#%% md\n"
    }
   }
  },
  {
   "cell_type": "code",
   "execution_count": null,
   "outputs": [
    {
     "name": "stdout",
     "text": [
      "Initializing matrix using bitblock method again\n",
      "Experiment 0 or 5: 1024 agents for 100 time steps\n",
      ".....Experiment 1 or 5: 1024 agents for 100 time steps\n",
      ".....Experiment 2 or 5: 1024 agents for 100 time steps\n",
      ".....Experiment 3 or 5: 1024 agents for 100 time steps\n",
      ".....Experiment 4 or 5: 1024 agents for 100 time steps\n",
      ".....Initializing matrix using bitblock method again\n",
      "Experiment 0 or 5: 1024 agents for 100 time steps\n",
      ".....Experiment 1 or 5: 1024 agents for 100 time steps\n",
      "."
     ],
     "output_type": "stream"
    }
   ],
   "source": [
    "random.seed(3)\n",
    "attractors = [[48,1,3]]\n",
    "for i in range(0,11,3):\n",
    "    cm = init_coherence_matrix(attractors,5,i/10)[2]\n",
    "    run_full_experiment(cm,\"simple_competition{}\".format(i))  "
   ],
   "metadata": {
    "collapsed": false,
    "pycharm": {
     "name": "#%%\n",
     "is_executing": true
    }
   }
  },
  {
   "cell_type": "code",
   "execution_count": null,
   "outputs": [],
   "source": [
    "\n",
    "state_transitions = pd.crosstab(record_df['Current'], record_df['Next'])\n",
    "sns.set(style='darkgrid', rc={'figure.figsize':(15,10)}, font_scale=1.25)\n",
    "sns.heatmap(state_transitions);"
   ],
   "metadata": {
    "collapsed": false,
    "pycharm": {
     "name": "#%%\n"
    }
   }
  },
  {
   "cell_type": "markdown",
   "source": [
    "## Running embedding"
   ],
   "metadata": {
    "collapsed": false
   }
  },
  {
   "cell_type": "code",
   "execution_count": null,
   "outputs": [],
   "source": [
    "import analysis as az\n",
    "import config\n",
    "\n",
    "config.n2v_num_walks = 30\n",
    "config.n2v_walk_length = 200\n",
    "G = create_graph_from_records(record_df)\n",
    "G.edges.data(\"weight\")\n",
    "nx.write_edgelist(G,'coherence.edgelist',data=['weight'])\n",
    "az.create_embedding(ndim=2,p=1.7,q=.9   )\n",
    "save_experiment(2,record_df)"
   ],
   "metadata": {
    "collapsed": false,
    "pycharm": {
     "name": "#%%\n",
     "is_executing": true
    }
   }
  },
  {
   "cell_type": "code",
   "execution_count": null,
   "outputs": [],
   "source": [
    "import SDNE_impl1 as s1\n",
    "import analysis as az\n",
    "from time import time\n",
    "# The following is from the implementation in SDNE_impl1.py.  Not currently using\n",
    "G = nx.read_edgelist(az.coh_network_file, nodetype=int, data=(('weight',float),), create_using=nx.DiGraph())\n",
    "model = s1.SDNE(G,hidden_size=[256,128]) #init model\n",
    "model.train(batch_size=3000,epochs=1000,verbose=1)# train model\n",
    "embeddings = model.get_embeddings()# get embedding vectors\n",
    "\n",
    "\n",
    "# Taken from https://github.com/palash1992/GEM\n",
    "# embedding = SDNE(d=2, beta=5, alpha=1e-5, nu1=1e-6, nu2=1e-6, K=3, n_units=[50, 15,], n_iter=50, xeta=0.01, n_batch=500,\n",
    "#                 modelfile=['enc_model.json', 'dec_model.json'],\n",
    "#                 weightfile=['enc_weights.hdf5', 'dec_weights.hdf5'])\n",
    "# G = create_graph_from_records(record_df)\n",
    "# print ('Num nodes: %d, num edges: %d' % (G.number_of_nodes(), G.number_of_edges()))\n",
    "# t1 = time()\n",
    "# # Learn embedding - accepts a networkx graph or file with edge list\n",
    "# Y, t = embedding.learn_embedding(graph=G, edge_f=None, is_weighted=True, no_python=True)\n",
    "# print (embedding._method_name+':\\n\\tTraining time: %f' % (time() - t1))\n",
    "\n",
    "\n",
    "\n",
    "\n",
    "\n",
    "\n"
   ],
   "metadata": {
    "collapsed": false,
    "pycharm": {
     "name": "#%%\n"
    }
   }
  }
 ],
 "metadata": {
  "kernelspec": {
   "display_name": "Python 3",
   "language": "python",
   "name": "python3"
  },
  "language_info": {
   "codemirror_mode": {
    "name": "ipython",
    "version": 3
   },
   "file_extension": ".py",
   "mimetype": "text/x-python",
   "name": "python",
   "nbconvert_exporter": "python",
   "pygments_lexer": "ipython3",
   "version": "3.7.3"
  },
  "pycharm": {
   "stem_cell": {
    "cell_type": "raw",
    "source": [],
    "metadata": {
     "collapsed": false
    }
   }
  }
 },
 "nbformat": 4,
 "nbformat_minor": 2
}