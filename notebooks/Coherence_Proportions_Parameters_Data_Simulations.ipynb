{
 "cells": [
  {
   "cell_type": "code",
   "execution_count": 1,
   "metadata": {},
   "outputs": [],
   "source": [
    "import numpy as np\n",
    "import pandas as pd\n",
    "from AgentClass import Agent\n",
    "import const\n",
    "import random\n",
    "import networkx as nx\n",
    "from config import number_of_bits\n",
    "from scipy import stats\n",
    "from collections import defaultdict\n",
    "import json\n",
    "import utilities\n",
    "import copy\n",
    "\n",
    "import matplotlib.pyplot as plt\n",
    "%matplotlib inline\n",
    "import matplotlib\n",
    "import seaborn as sns\n",
    "from random import shuffle\n",
    "\n",
    "import analysis\n",
    "\n",
    "from scipy.spatial import distance"
   ]
  },
  {
   "cell_type": "code",
   "execution_count": 2,
   "metadata": {},
   "outputs": [],
   "source": [
    "num_agents = 100"
   ]
  },
  {
   "cell_type": "code",
   "execution_count": 3,
   "metadata": {},
   "outputs": [],
   "source": [
    "def get_tau_distr():\n",
    "    lower = 0.1\n",
    "    upper = 1\n",
    "    mu = 0.5\n",
    "    sigma = 0.1\n",
    "    N = 1000\n",
    "\n",
    "    samples = stats.truncnorm.rvs(\n",
    "          (lower-mu)/sigma,(upper-mu)/sigma,loc=mu,scale=sigma,size=N)\n",
    "\n",
    "    return samples"
   ]
  },
  {
   "cell_type": "code",
   "execution_count": null,
   "metadata": {},
   "outputs": [],
   "source": []
  },
  {
   "cell_type": "code",
   "execution_count": 4,
   "metadata": {},
   "outputs": [],
   "source": [
    "def create_environment(proportion, parameter):\n",
    "        \n",
    "    # bits shuffling for equal bits\n",
    "    \n",
    "    states = [utilities.int2bool(random.randint(0, 63), number_of_bits) for i in range(num_agents)]\n",
    "    tau_distr = get_tau_distr()\n",
    "    list_agents = []\n",
    "    \n",
    "    selected_agents = random.sample(list(range(num_agents)), int(proportion*100))\n",
    "    for i in range(num_agents):\n",
    "        \n",
    "        if i in selected_agents:\n",
    "            in_state = [0,0,0,0,0,0]\n",
    "        \n",
    "        else:\n",
    "            in_state = [1,1,1,1,1,1]\n",
    "\n",
    "        a = Agent(name='agent{}'.format(i), tau=random.choice(tau_distr), initial_state=in_state)\n",
    "        list_agents.append(a)\n",
    "\n",
    "    # create network\n",
    "    G = nx.watts_strogatz_graph(num_agents, 10, parameter, seed=0) # FIX THIS! change rewire parameters as from different starting, 1 means random graph as each node is going to rewired and no structure is saved\n",
    "    all_edges = G.edges()\n",
    "\n",
    "    for edge in all_edges:\n",
    "        list_agents[edge[0]].add_neighbors(list_agents[edge[1]])\n",
    "\n",
    "#     nx.draw(G, with_labels=True)\n",
    "    return list_agents, G"
   ]
  },
  {
   "cell_type": "code",
   "execution_count": null,
   "metadata": {},
   "outputs": [],
   "source": []
  },
  {
   "cell_type": "code",
   "execution_count": 5,
   "metadata": {},
   "outputs": [],
   "source": [
    "def get_network_df(list_agents):\n",
    "    network_df = pd.DataFrame({'Agent Name':[], 'Neighbors':[]})\n",
    "    for agt in list_agents:\n",
    "        neighbors = agt.get_neighbors_name()\n",
    "        network_df = network_df.append({'Agent Name':agt.name,\n",
    "                                        'Neighbors':neighbors}, ignore_index=True)\n",
    "    return network_df"
   ]
  },
  {
   "cell_type": "code",
   "execution_count": 6,
   "metadata": {},
   "outputs": [],
   "source": [
    "def run_simulation(alpha, coherence, bit_mat, end_time, proportion, parameter):\n",
    "    \n",
    "    list_agents, network_graph = create_environment(proportion, parameter)\n",
    "\n",
    "    # get network of the agents\n",
    "    agent_network_df = get_network_df(list_agents)\n",
    "    \n",
    "    d = []\n",
    "    generations = 0\n",
    "    \n",
    "    for t in range(end_time):\n",
    "        # compute next state for all agents\n",
    "        for agt in list_agents:\n",
    "            soc_mat = agt.update_knowledge(alpha, coherence, bit_mat)\n",
    "\n",
    "        # keep record of current record and all other values\n",
    "        for agt in list_agents:\n",
    "            row = {'Agent_Number': int(agt.name.split('t')[1]),\n",
    "                   'Time':t,\n",
    "                   # at any time step we will need normalized how many neighbors disagree on bits\n",
    "                   'bits_disagreement':np.array(agt.state_disagreements),\n",
    "                   'Current_Knowledge_State':agt.knowledge_state,\n",
    "                   'Current': utilities.bool2int(agt.knowledge_state),\n",
    "                   'alpha':alpha,\n",
    "                   'Next': utilities.bool2int(agt.next_state),\n",
    "                   'Next_Knowledge_State':agt.next_state,\n",
    "                   'Proportion': proportion, \n",
    "                    'Parameter': parameter}\n",
    "\n",
    "            d.append(row)\n",
    "\n",
    "        # now update all agents next state with computed next state\n",
    "        for agt in list_agents:\n",
    "            agt.knowledge_state = agt.next_state\n",
    "            agt.next_state = None\n",
    "            agt.dissonance_lst = None\n",
    "\n",
    "        generations+=1\n",
    "\n",
    "    return pd.DataFrame(d), soc_mat, list_agents, network_graph"
   ]
  },
  {
   "cell_type": "code",
   "execution_count": 7,
   "metadata": {},
   "outputs": [],
   "source": [
    "def hamming(a,b):\n",
    "    return(bin(a^b).count(\"1\"))"
   ]
  },
  {
   "cell_type": "code",
   "execution_count": 8,
   "metadata": {},
   "outputs": [
    {
     "data": {
      "text/plain": [
       "[[0, 100, 1], [63, 100, 1]]"
      ]
     },
     "execution_count": 8,
     "metadata": {},
     "output_type": "execute_result"
    }
   ],
   "source": [
    "attrctr1 = utilities.bool2int([1,1,1,1,1,1])\n",
    "attrctr2 = utilities.bool2int([0,0,0,0,0,0])\n",
    "\n",
    "attrctrs = [attrctr1, attrctr2]\n",
    "attractors = {}\n",
    "number_attractors = 0\n",
    "while  number_attractors< 2:\n",
    "    attractor_state = attrctrs.pop()\n",
    "    attractor_depth = random.randint(1, 4) # depth for each attractors is picked randomly\n",
    "    attractor_radius = random.randint(1, 2)\n",
    "    \n",
    "    attractors[attractor_state] = {'depth': attractor_depth, 'radius': attractor_radius}\n",
    "    number_attractors += 1\n",
    "\n",
    "attrctrs_1 = [[k, 100, 1] for k,v in attractors.items()]\n",
    "attrctrs_1        "
   ]
  },
  {
   "cell_type": "code",
   "execution_count": 9,
   "metadata": {},
   "outputs": [
    {
     "data": {
      "text/plain": [
       "[1, 1, 1, 1, 1, 0]"
      ]
     },
     "execution_count": 9,
     "metadata": {},
     "output_type": "execute_result"
    }
   ],
   "source": [
    "utilities.int2bool(31, 6)"
   ]
  },
  {
   "cell_type": "code",
   "execution_count": 10,
   "metadata": {},
   "outputs": [
    {
     "data": {
      "text/plain": [
       "63"
      ]
     },
     "execution_count": 10,
     "metadata": {},
     "output_type": "execute_result"
    }
   ],
   "source": [
    "attrctr1"
   ]
  },
  {
   "cell_type": "code",
   "execution_count": 11,
   "metadata": {},
   "outputs": [],
   "source": [
    "attrctr, inert, coh = analysis.init_coherence_matrix(number_of_bits, attrctrs_1, 3)"
   ]
  },
  {
   "cell_type": "code",
   "execution_count": 12,
   "metadata": {},
   "outputs": [
    {
     "data": {
      "text/plain": [
       "<matplotlib.axes._subplots.AxesSubplot at 0x24462aea6c8>"
      ]
     },
     "execution_count": 12,
     "metadata": {},
     "output_type": "execute_result"
    },
    {
     "data": {
      "image/png": "[encoded data removed]",
      "text/plain": [
       "<Figure size 432x288 with 2 Axes>"
      ]
     },
     "metadata": {
      "needs_background": "light"
     },
     "output_type": "display_data"
    }
   ],
   "source": [
    "sns.heatmap(coh)"
   ]
  },
  {
   "cell_type": "code",
   "execution_count": null,
   "metadata": {},
   "outputs": [],
   "source": []
  },
  {
   "cell_type": "code",
   "execution_count": 18,
   "metadata": {},
   "outputs": [
    {
     "name": "stdout",
     "output_type": "stream",
     "text": [
      "Initializing matrix using bitblock method again\n",
      "0.0\n",
      "0.1\n",
      "0.2\n",
      "0.3\n",
      "0.4\n",
      "0.5\n",
      "0.6\n",
      "0.7\n",
      "0.8\n",
      "0.9\n"
     ]
    }
   ],
   "source": [
    "### This cell is for generating the dataset\n",
    "# constants intialization\n",
    "\n",
    "network_parameters = np.arange(0, 1, 0.1).round(2)\n",
    "proportion_parameters = np.arange(0, 1, 0.1).round(2)\n",
    "end_simulation_time = 100\n",
    "alphas = np.arange(0, 1, 0.1).round(2)\n",
    "exp_times = 1\n",
    "\n",
    "constants = const.Constants()\n",
    "\n",
    "bit_mat = constants.get_bit_matrix()\n",
    "\n",
    "record_df_list = []\n",
    "\n",
    "for alpha in alphas:\n",
    "    \n",
    "    for j in proportion_parameters:\n",
    "        # first create environment\n",
    "        \n",
    "        \n",
    "        for i in network_parameters:\n",
    "\n",
    "            tmp_record_df, soc_mat, list_agents, network_graph = run_simulation(alpha, coh, bit_mat, end_simulation_time, i, j)\n",
    "            tmp_record_df = tmp_record_df[tmp_record_df['Time']==99]\n",
    "            record_df_list.append(tmp_record_df)\n",
    "print(alpha)"
   ]
  },
  {
   "cell_type": "code",
   "execution_count": 19,
   "metadata": {},
   "outputs": [],
   "source": [
    "x_df = pd.concat(record_df_list)#.to_csv('results.csv', index=False)\n",
    "x_df.to_csv('records_100.csv', index=False)"
   ]
  }
 ],
 "metadata": {
  "kernelspec": {
   "display_name": "Python 3",
   "language": "python",
   "name": "python3"
  },
  "language_info": {
   "codemirror_mode": {
    "name": "ipython",
    "version": 3
   },
   "file_extension": ".py",
   "mimetype": "text/x-python",
   "name": "python",
   "nbconvert_exporter": "python",
   "pygments_lexer": "ipython3",
   "version": "3.7.4"
  }
 },
 "nbformat": 4,
 "nbformat_minor": 2
}
