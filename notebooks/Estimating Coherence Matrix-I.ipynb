{
 "cells": [
  {
   "cell_type": "markdown",
   "metadata": {},
   "source": [
    "### In this notebook, we explore methods of reverse engineering coherenece matrix given the simulation result of random walk of agent/agents in the coherennce matrix."
   ]
  },
  {
   "cell_type": "code",
   "execution_count": 5,
   "metadata": {},
   "outputs": [
    {
     "ename": "ModuleNotFoundError",
     "evalue": "No module named '__main__.scripts'; '__main__' is not a package",
     "output_type": "error",
     "traceback": [
      "\u001b[1;31m---------------------------------------------------------------------------\u001b[0m",
      "\u001b[1;31mModuleNotFoundError\u001b[0m                       Traceback (most recent call last)",
      "\u001b[1;32m<ipython-input-5-9d3bc9e8f957>\u001b[0m in \u001b[0;36m<module>\u001b[1;34m\u001b[0m\n\u001b[0;32m      4\u001b[0m \u001b[1;32mfrom\u001b[0m \u001b[0mrandom\u001b[0m \u001b[1;32mimport\u001b[0m \u001b[0mshuffle\u001b[0m\u001b[1;33m,\u001b[0m \u001b[0mrandrange\u001b[0m\u001b[1;33m\u001b[0m\u001b[1;33m\u001b[0m\u001b[0m\n\u001b[0;32m      5\u001b[0m \u001b[1;32mfrom\u001b[0m \u001b[0mcollections\u001b[0m \u001b[1;32mimport\u001b[0m \u001b[0mdefaultdict\u001b[0m\u001b[1;33m\u001b[0m\u001b[1;33m\u001b[0m\u001b[0m\n\u001b[1;32m----> 6\u001b[1;33m \u001b[1;32mfrom\u001b[0m \u001b[1;33m.\u001b[0m\u001b[0mscripts\u001b[0m \u001b[1;32mimport\u001b[0m \u001b[0mutilities\u001b[0m\u001b[1;33m\u001b[0m\u001b[1;33m\u001b[0m\u001b[0m\n\u001b[0m\u001b[0;32m      7\u001b[0m \u001b[1;32mimport\u001b[0m \u001b[0mutilities\u001b[0m\u001b[1;33m\u001b[0m\u001b[1;33m\u001b[0m\u001b[0m\n\u001b[0;32m      8\u001b[0m \u001b[1;33m\u001b[0m\u001b[0m\n",
      "\u001b[1;31mModuleNotFoundError\u001b[0m: No module named '__main__.scripts'; '__main__' is not a package"
     ]
    }
   ],
   "source": [
    "import pandas as pd\n",
    "import numpy as np\n",
    "import random\n",
    "from random import shuffle, randrange\n",
    "from collections import defaultdict\n",
    "from .scripts import utilities\n",
    "import utilities\n",
    "\n",
    "import matplotlib.pyplot as plt\n",
    "import seaborn as sns"
   ]
  },
  {
   "cell_type": "code",
   "execution_count": 2,
   "metadata": {},
   "outputs": [],
   "source": [
    "%matplotlib inline"
   ]
  },
  {
   "cell_type": "markdown",
   "metadata": {},
   "source": [
    "Below is the coherence matrix generation function"
   ]
  },
  {
   "cell_type": "code",
   "execution_count": 3,
   "metadata": {},
   "outputs": [],
   "source": [
    "def coherence_function(k):\n",
    "    \"\"\"This function for generating coherence matrix \"\"\"\n",
    "    m = np.zeros((2**k, k))             # initialize matrix to all zeros same as Let m = matrix(len(states),numbits,0)\n",
    "    numbits = [i for i in range(10)]    # this is just the temporary variable for shuffling the bits order\n",
    "    for s, row in enumerate(m) :        # for s in states:  # walk through each row in the matrix\n",
    "        p = random.uniform(.5,.9)       # select an initial random val\n",
    "        bits = numbits[:]               # this is only for using the orderly list of 10 bits and next line shuffles every iteration\n",
    "        shuffle(bits)                   # this just randomly goes through the bits\n",
    "        for b in bits:\n",
    "            if p < 0.01: \n",
    "                break                   # if p is close enough to zero, just stop\n",
    "            m[s,b] = p                  # otherwise assign probability to the bit of that state where s is row/state and bit is column number of matrix\n",
    "            p = p/2                     # for next iteration divide the probability by 2\n",
    "    return m"
   ]
  },
  {
   "cell_type": "code",
   "execution_count": 4,
   "metadata": {},
   "outputs": [],
   "source": [
    "# creating coherence matrix\n",
    "coh_matrix = coherence_function(10)"
   ]
  },
  {
   "cell_type": "markdown",
   "metadata": {},
   "source": [
    "After creating coherence matrix, next we place an agent to random state i.e. some row of the coherence matrix, we also give random knowledge state for the state."
   ]
  },
  {
   "cell_type": "code",
   "execution_count": 5,
   "metadata": {},
   "outputs": [],
   "source": [
    "knowledge_state_index = randrange(1024) # select a random row/state from the matrix\n",
    "knowledge_state = np.random.randint(2, size=10).tolist() # we assign random value to start with\n",
    "\n",
    "knowledge_transition = defaultdict(list) # this is to keep track of list of values"
   ]
  },
  {
   "cell_type": "markdown",
   "metadata": {},
   "source": [
    "Then at each step, the probability of changing a bit is computed and next state is defined based on the result values."
   ]
  },
  {
   "cell_type": "code",
   "execution_count": 6,
   "metadata": {},
   "outputs": [],
   "source": [
    "\n",
    "# for 10000 time steps we will run the through the knowledge states\n",
    "for k in range(1000000):\n",
    "    next_state = [] # we will insert each bit of next state to list to keep track of bits flipped and it becomes current bits of state for next state\n",
    "    knowledge_state_probabilities = coh_matrix[knowledge_state_index] # select the row/state we are in (which initially was randomly selected)\n",
    "    \n",
    "    # once we have selected the row from the matrix we look into flipping each bit knowledge space\n",
    "    for i, flip_bit_probability in enumerate(knowledge_state_probabilities):\n",
    "        rand_val = np.random.rand() # this is rolling a random number which we check for whether or not to flip the bit\n",
    "        \n",
    "        if flip_bit_probability>rand_val: # if the flipping bit probability is higher than random value we flip from 1 to 0 or 0 to 1\n",
    "            next_state.append(1^knowledge_state[i]) # using XOR for 1 to 0 or 0 to 1\n",
    "            \n",
    "        else: # else we keep the state bit unchanged\n",
    "            next_state.append(knowledge_state[i])\n",
    "\n",
    "    # next we insert all these iteration values to defaultdict for further explorations\n",
    "    knowledge_transition['Current State'].append(utilities.bool2int(knowledge_state)) # keeping track of decimal value of current state\n",
    "    knowledge_transition['Current_Knowledge_State'].append(knowledge_state) # keeping raw bits of knowledge which we look for comparing number of bits flipped in each states \n",
    "    knowledge_transition['Next State'].append(utilities.bool2int(next_state)) # keeping track of decimal value of next state\n",
    "    knowledge_transition['Next_Knowledge_State'].append(next_state) # keeping raw bits of knowledge which we compare with current state to look into how many bits were flipped every time\n",
    "    knowledge_state_index = utilities.bool2int(next_state) # selecting next state for the walk\n",
    "    \n",
    "    # for next iteration knowledge state would change to next_state determined after looking into probablities\n",
    "    knowledge_state = next_state\n",
    "    \n",
    "# creating pandas dataframe so it may be easier for other analysis\n",
    "df = pd.DataFrame(knowledge_transition).reset_index()\n",
    "df.rename(columns={'index':'Time'}, inplace=True)\n",
    "\n",
    "df_states_count = df[['Time', 'Current State', 'Next State']].groupby(['Current State', 'Next State']).size().to_frame('Count')\n",
    "df_states_count.sort_values('Count', ascending=False, inplace=True)\n",
    "\n",
    "df = df_states_count.copy().reset_index()"
   ]
  },
  {
   "cell_type": "markdown",
   "metadata": {},
   "source": [
    "Viewing current and next state and the counts for the transitions."
   ]
  },
  {
   "cell_type": "code",
   "execution_count": 7,
   "metadata": {},
   "outputs": [
    {
     "data": {
      "text/html": [
       "<div>\n",
       "<style scoped>\n",
       "    .dataframe tbody tr th:only-of-type {\n",
       "        vertical-align: middle;\n",
       "    }\n",
       "\n",
       "    .dataframe tbody tr th {\n",
       "        vertical-align: top;\n",
       "    }\n",
       "\n",
       "    .dataframe thead th {\n",
       "        text-align: right;\n",
       "    }\n",
       "</style>\n",
       "<table border=\"1\" class=\"dataframe\">\n",
       "  <thead>\n",
       "    <tr style=\"text-align: right;\">\n",
       "      <th></th>\n",
       "      <th>Current State</th>\n",
       "      <th>Next State</th>\n",
       "      <th>Count</th>\n",
       "    </tr>\n",
       "  </thead>\n",
       "  <tbody>\n",
       "    <tr>\n",
       "      <td>0</td>\n",
       "      <td>702</td>\n",
       "      <td>686</td>\n",
       "      <td>1049</td>\n",
       "    </tr>\n",
       "    <tr>\n",
       "      <td>1</td>\n",
       "      <td>894</td>\n",
       "      <td>890</td>\n",
       "      <td>1038</td>\n",
       "    </tr>\n",
       "    <tr>\n",
       "      <td>2</td>\n",
       "      <td>605</td>\n",
       "      <td>597</td>\n",
       "      <td>978</td>\n",
       "    </tr>\n",
       "    <tr>\n",
       "      <td>3</td>\n",
       "      <td>292</td>\n",
       "      <td>420</td>\n",
       "      <td>928</td>\n",
       "    </tr>\n",
       "    <tr>\n",
       "      <td>4</td>\n",
       "      <td>605</td>\n",
       "      <td>605</td>\n",
       "      <td>902</td>\n",
       "    </tr>\n",
       "  </tbody>\n",
       "</table>\n",
       "</div>"
      ],
      "text/plain": [
       "   Current State  Next State  Count\n",
       "0            702         686   1049\n",
       "1            894         890   1038\n",
       "2            605         597    978\n",
       "3            292         420    928\n",
       "4            605         605    902"
      ]
     },
     "execution_count": 7,
     "metadata": {},
     "output_type": "execute_result"
    }
   ],
   "source": [
    "df.head()"
   ]
  },
  {
   "cell_type": "markdown",
   "metadata": {},
   "source": [
    "Once we have list of current states and next states, we look into building coherence matrix with states transitions results."
   ]
  },
  {
   "cell_type": "code",
   "execution_count": 8,
   "metadata": {},
   "outputs": [],
   "source": [
    "kbits_dict = defaultdict(list)\n",
    "\n",
    "for i in range(1024):\n",
    "    kbits_dict['State'].append(i)\n",
    "    kbits_dict['binary'].append('{0:010b}'.format(i))\n",
    "    \n",
    "    kbits_dict['binary_list'].append(list('{0:010b}'.format(i)))\n",
    "\n",
    "kbits_mapper_df = pd.DataFrame(kbits_dict)\n",
    "kbits_mapper_df.set_index('State', inplace=True)\n",
    "kbits_mapper_df.drop('binary', inplace=True, axis=1)"
   ]
  },
  {
   "cell_type": "code",
   "execution_count": 9,
   "metadata": {},
   "outputs": [
    {
     "data": {
      "text/html": [
       "<div>\n",
       "<style scoped>\n",
       "    .dataframe tbody tr th:only-of-type {\n",
       "        vertical-align: middle;\n",
       "    }\n",
       "\n",
       "    .dataframe tbody tr th {\n",
       "        vertical-align: top;\n",
       "    }\n",
       "\n",
       "    .dataframe thead th {\n",
       "        text-align: right;\n",
       "    }\n",
       "</style>\n",
       "<table border=\"1\" class=\"dataframe\">\n",
       "  <thead>\n",
       "    <tr style=\"text-align: right;\">\n",
       "      <th></th>\n",
       "      <th>binary_list</th>\n",
       "    </tr>\n",
       "    <tr>\n",
       "      <th>State</th>\n",
       "      <th></th>\n",
       "    </tr>\n",
       "  </thead>\n",
       "  <tbody>\n",
       "    <tr>\n",
       "      <td>0</td>\n",
       "      <td>[0, 0, 0, 0, 0, 0, 0, 0, 0, 0]</td>\n",
       "    </tr>\n",
       "    <tr>\n",
       "      <td>1</td>\n",
       "      <td>[0, 0, 0, 0, 0, 0, 0, 0, 0, 1]</td>\n",
       "    </tr>\n",
       "    <tr>\n",
       "      <td>2</td>\n",
       "      <td>[0, 0, 0, 0, 0, 0, 0, 0, 1, 0]</td>\n",
       "    </tr>\n",
       "    <tr>\n",
       "      <td>3</td>\n",
       "      <td>[0, 0, 0, 0, 0, 0, 0, 0, 1, 1]</td>\n",
       "    </tr>\n",
       "    <tr>\n",
       "      <td>4</td>\n",
       "      <td>[0, 0, 0, 0, 0, 0, 0, 1, 0, 0]</td>\n",
       "    </tr>\n",
       "  </tbody>\n",
       "</table>\n",
       "</div>"
      ],
      "text/plain": [
       "                          binary_list\n",
       "State                                \n",
       "0      [0, 0, 0, 0, 0, 0, 0, 0, 0, 0]\n",
       "1      [0, 0, 0, 0, 0, 0, 0, 0, 0, 1]\n",
       "2      [0, 0, 0, 0, 0, 0, 0, 0, 1, 0]\n",
       "3      [0, 0, 0, 0, 0, 0, 0, 0, 1, 1]\n",
       "4      [0, 0, 0, 0, 0, 0, 0, 1, 0, 0]"
      ]
     },
     "execution_count": 9,
     "metadata": {},
     "output_type": "execute_result"
    }
   ],
   "source": [
    "kbits_mapper_df.head()"
   ]
  },
  {
   "cell_type": "markdown",
   "metadata": {},
   "source": [
    "This bits and states are used as dicitionary for using which bits changes when states changes. There may be easier way."
   ]
  },
  {
   "cell_type": "code",
   "execution_count": 10,
   "metadata": {},
   "outputs": [],
   "source": [
    "kbits_mapper_df_dict = kbits_mapper_df.to_dict(orient='index')"
   ]
  },
  {
   "cell_type": "markdown",
   "metadata": {},
   "source": [
    "First create empty matrix with all zeros for the probability for coherence matrix esitmation:"
   ]
  },
  {
   "cell_type": "code",
   "execution_count": 11,
   "metadata": {},
   "outputs": [],
   "source": [
    "c = np.zeros((1024, 10))"
   ]
  },
  {
   "cell_type": "markdown",
   "metadata": {},
   "source": [
    "Next iterate through each state transisitons and look into which bits are changed and we estimate the probability by change in bits to the number of times transitions occured."
   ]
  },
  {
   "cell_type": "code",
   "execution_count": 12,
   "metadata": {},
   "outputs": [],
   "source": [
    "for state in range(1024):\n",
    "    state_bitschange_tracker = defaultdict(list)\n",
    "    \n",
    "    out_states_df =  df[df['Current State']==state]\n",
    "    in_binary = kbits_mapper_df_dict[state]['binary_list'][::-1]\n",
    "    for index, row in out_states_df.iterrows():\n",
    "        out_binary = kbits_mapper_df_dict[row['Next State']]['binary_list'][::-1]\n",
    "        for b in range(10):\n",
    "            if in_binary[b] != out_binary[b]:\n",
    "                state_bitschange_tracker[b].append(row['Count'])\n",
    "  \n",
    "    total = df[df['Current State'] == state]['Count'].sum()\n",
    "    \n",
    "    for k, v in state_bitschange_tracker.items():\n",
    "        c[state, k] = (sum(v)/total) \n"
   ]
  },
  {
   "cell_type": "markdown",
   "metadata": {},
   "source": [
    "Viewing top 5 for simple comparision on how it looks for tru coherence matrix and estimated coherence matrix."
   ]
  },
  {
   "cell_type": "code",
   "execution_count": 13,
   "metadata": {},
   "outputs": [
    {
     "name": "stdout",
     "output_type": "stream",
     "text": [
      "True Coherence Matrix\n"
     ]
    },
    {
     "data": {
      "text/html": [
       "<div>\n",
       "<style scoped>\n",
       "    .dataframe tbody tr th:only-of-type {\n",
       "        vertical-align: middle;\n",
       "    }\n",
       "\n",
       "    .dataframe tbody tr th {\n",
       "        vertical-align: top;\n",
       "    }\n",
       "\n",
       "    .dataframe thead th {\n",
       "        text-align: right;\n",
       "    }\n",
       "</style>\n",
       "<table border=\"1\" class=\"dataframe\">\n",
       "  <thead>\n",
       "    <tr style=\"text-align: right;\">\n",
       "      <th></th>\n",
       "      <th>0</th>\n",
       "      <th>1</th>\n",
       "      <th>2</th>\n",
       "      <th>3</th>\n",
       "      <th>4</th>\n",
       "      <th>5</th>\n",
       "      <th>6</th>\n",
       "      <th>7</th>\n",
       "      <th>8</th>\n",
       "      <th>9</th>\n",
       "    </tr>\n",
       "  </thead>\n",
       "  <tbody>\n",
       "    <tr>\n",
       "      <td>0</td>\n",
       "      <td>0.000000</td>\n",
       "      <td>0.070648</td>\n",
       "      <td>0.000000</td>\n",
       "      <td>0.000000</td>\n",
       "      <td>0.141296</td>\n",
       "      <td>0.565186</td>\n",
       "      <td>0.282593</td>\n",
       "      <td>0.017662</td>\n",
       "      <td>0.035324</td>\n",
       "      <td>0.000000</td>\n",
       "    </tr>\n",
       "    <tr>\n",
       "      <td>1</td>\n",
       "      <td>0.000000</td>\n",
       "      <td>0.000000</td>\n",
       "      <td>0.000000</td>\n",
       "      <td>0.046654</td>\n",
       "      <td>0.186616</td>\n",
       "      <td>0.373233</td>\n",
       "      <td>0.023327</td>\n",
       "      <td>0.011664</td>\n",
       "      <td>0.093308</td>\n",
       "      <td>0.746465</td>\n",
       "    </tr>\n",
       "    <tr>\n",
       "      <td>2</td>\n",
       "      <td>0.215594</td>\n",
       "      <td>0.862375</td>\n",
       "      <td>0.053898</td>\n",
       "      <td>0.000000</td>\n",
       "      <td>0.107797</td>\n",
       "      <td>0.026949</td>\n",
       "      <td>0.000000</td>\n",
       "      <td>0.000000</td>\n",
       "      <td>0.431188</td>\n",
       "      <td>0.013475</td>\n",
       "    </tr>\n",
       "    <tr>\n",
       "      <td>3</td>\n",
       "      <td>0.000000</td>\n",
       "      <td>0.019194</td>\n",
       "      <td>0.076776</td>\n",
       "      <td>0.000000</td>\n",
       "      <td>0.614209</td>\n",
       "      <td>0.153552</td>\n",
       "      <td>0.038388</td>\n",
       "      <td>0.000000</td>\n",
       "      <td>0.000000</td>\n",
       "      <td>0.307105</td>\n",
       "    </tr>\n",
       "    <tr>\n",
       "      <td>4</td>\n",
       "      <td>0.096809</td>\n",
       "      <td>0.000000</td>\n",
       "      <td>0.000000</td>\n",
       "      <td>0.387236</td>\n",
       "      <td>0.774471</td>\n",
       "      <td>0.024202</td>\n",
       "      <td>0.193618</td>\n",
       "      <td>0.012101</td>\n",
       "      <td>0.048404</td>\n",
       "      <td>0.000000</td>\n",
       "    </tr>\n",
       "  </tbody>\n",
       "</table>\n",
       "</div>"
      ],
      "text/plain": [
       "          0         1         2         3         4         5         6  \\\n",
       "0  0.000000  0.070648  0.000000  0.000000  0.141296  0.565186  0.282593   \n",
       "1  0.000000  0.000000  0.000000  0.046654  0.186616  0.373233  0.023327   \n",
       "2  0.215594  0.862375  0.053898  0.000000  0.107797  0.026949  0.000000   \n",
       "3  0.000000  0.019194  0.076776  0.000000  0.614209  0.153552  0.038388   \n",
       "4  0.096809  0.000000  0.000000  0.387236  0.774471  0.024202  0.193618   \n",
       "\n",
       "          7         8         9  \n",
       "0  0.017662  0.035324  0.000000  \n",
       "1  0.011664  0.093308  0.746465  \n",
       "2  0.000000  0.431188  0.013475  \n",
       "3  0.000000  0.000000  0.307105  \n",
       "4  0.012101  0.048404  0.000000  "
      ]
     },
     "execution_count": 13,
     "metadata": {},
     "output_type": "execute_result"
    }
   ],
   "source": [
    "print('True Coherence Matrix')\n",
    "pd.DataFrame(coh_matrix).head()"
   ]
  },
  {
   "cell_type": "code",
   "execution_count": 14,
   "metadata": {},
   "outputs": [
    {
     "name": "stdout",
     "output_type": "stream",
     "text": [
      "Esitmated Coherence Matrix\n"
     ]
    },
    {
     "data": {
      "text/html": [
       "<div>\n",
       "<style scoped>\n",
       "    .dataframe tbody tr th:only-of-type {\n",
       "        vertical-align: middle;\n",
       "    }\n",
       "\n",
       "    .dataframe tbody tr th {\n",
       "        vertical-align: top;\n",
       "    }\n",
       "\n",
       "    .dataframe thead th {\n",
       "        text-align: right;\n",
       "    }\n",
       "</style>\n",
       "<table border=\"1\" class=\"dataframe\">\n",
       "  <thead>\n",
       "    <tr style=\"text-align: right;\">\n",
       "      <th></th>\n",
       "      <th>0</th>\n",
       "      <th>1</th>\n",
       "      <th>2</th>\n",
       "      <th>3</th>\n",
       "      <th>4</th>\n",
       "      <th>5</th>\n",
       "      <th>6</th>\n",
       "      <th>7</th>\n",
       "      <th>8</th>\n",
       "      <th>9</th>\n",
       "    </tr>\n",
       "  </thead>\n",
       "  <tbody>\n",
       "    <tr>\n",
       "      <td>0</td>\n",
       "      <td>0.000000</td>\n",
       "      <td>0.077331</td>\n",
       "      <td>0.000000</td>\n",
       "      <td>0.000000</td>\n",
       "      <td>0.130297</td>\n",
       "      <td>0.557733</td>\n",
       "      <td>0.276483</td>\n",
       "      <td>0.013771</td>\n",
       "      <td>0.035487</td>\n",
       "      <td>0.000000</td>\n",
       "    </tr>\n",
       "    <tr>\n",
       "      <td>1</td>\n",
       "      <td>0.000000</td>\n",
       "      <td>0.000000</td>\n",
       "      <td>0.000000</td>\n",
       "      <td>0.039301</td>\n",
       "      <td>0.180980</td>\n",
       "      <td>0.357108</td>\n",
       "      <td>0.020378</td>\n",
       "      <td>0.009219</td>\n",
       "      <td>0.098496</td>\n",
       "      <td>0.731198</td>\n",
       "    </tr>\n",
       "    <tr>\n",
       "      <td>2</td>\n",
       "      <td>0.253846</td>\n",
       "      <td>0.838462</td>\n",
       "      <td>0.067308</td>\n",
       "      <td>0.000000</td>\n",
       "      <td>0.121154</td>\n",
       "      <td>0.032692</td>\n",
       "      <td>0.000000</td>\n",
       "      <td>0.000000</td>\n",
       "      <td>0.442308</td>\n",
       "      <td>0.009615</td>\n",
       "    </tr>\n",
       "    <tr>\n",
       "      <td>3</td>\n",
       "      <td>0.000000</td>\n",
       "      <td>0.019462</td>\n",
       "      <td>0.082484</td>\n",
       "      <td>0.000000</td>\n",
       "      <td>0.627433</td>\n",
       "      <td>0.179796</td>\n",
       "      <td>0.048193</td>\n",
       "      <td>0.000000</td>\n",
       "      <td>0.000000</td>\n",
       "      <td>0.324374</td>\n",
       "    </tr>\n",
       "    <tr>\n",
       "      <td>4</td>\n",
       "      <td>0.096916</td>\n",
       "      <td>0.000000</td>\n",
       "      <td>0.000000</td>\n",
       "      <td>0.384728</td>\n",
       "      <td>0.760646</td>\n",
       "      <td>0.024963</td>\n",
       "      <td>0.182085</td>\n",
       "      <td>0.010279</td>\n",
       "      <td>0.046990</td>\n",
       "      <td>0.000000</td>\n",
       "    </tr>\n",
       "  </tbody>\n",
       "</table>\n",
       "</div>"
      ],
      "text/plain": [
       "          0         1         2         3         4         5         6  \\\n",
       "0  0.000000  0.077331  0.000000  0.000000  0.130297  0.557733  0.276483   \n",
       "1  0.000000  0.000000  0.000000  0.039301  0.180980  0.357108  0.020378   \n",
       "2  0.253846  0.838462  0.067308  0.000000  0.121154  0.032692  0.000000   \n",
       "3  0.000000  0.019462  0.082484  0.000000  0.627433  0.179796  0.048193   \n",
       "4  0.096916  0.000000  0.000000  0.384728  0.760646  0.024963  0.182085   \n",
       "\n",
       "          7         8         9  \n",
       "0  0.013771  0.035487  0.000000  \n",
       "1  0.009219  0.098496  0.731198  \n",
       "2  0.000000  0.442308  0.009615  \n",
       "3  0.000000  0.000000  0.324374  \n",
       "4  0.010279  0.046990  0.000000  "
      ]
     },
     "execution_count": 14,
     "metadata": {},
     "output_type": "execute_result"
    }
   ],
   "source": [
    "print('Esitmated Coherence Matrix')\n",
    "pd.DataFrame(c).head()"
   ]
  },
  {
   "cell_type": "markdown",
   "metadata": {},
   "source": [
    "Viewing the difference in real and coherence matrix with box plot and statistical descriptions. We looked into worst case by looking into maximum possible difference for each row that is state transitions probablities."
   ]
  },
  {
   "cell_type": "code",
   "execution_count": 15,
   "metadata": {},
   "outputs": [
    {
     "data": {
      "image/png": "[encoded data removed]",
      "text/plain": [
       "<Figure size 432x288 with 1 Axes>"
      ]
     },
     "metadata": {
      "needs_background": "light"
     },
     "output_type": "display_data"
    }
   ],
   "source": [
    "diff_mat = pd.DataFrame(np.abs(coh_matrix - c)).max(axis=1)\n",
    "diff_mat.plot(kind='box');"
   ]
  },
  {
   "cell_type": "code",
   "execution_count": 16,
   "metadata": {},
   "outputs": [
    {
     "data": {
      "text/html": [
       "<div>\n",
       "<style scoped>\n",
       "    .dataframe tbody tr th:only-of-type {\n",
       "        vertical-align: middle;\n",
       "    }\n",
       "\n",
       "    .dataframe tbody tr th {\n",
       "        vertical-align: top;\n",
       "    }\n",
       "\n",
       "    .dataframe thead th {\n",
       "        text-align: right;\n",
       "    }\n",
       "</style>\n",
       "<table border=\"1\" class=\"dataframe\">\n",
       "  <thead>\n",
       "    <tr style=\"text-align: right;\">\n",
       "      <th></th>\n",
       "      <th>count</th>\n",
       "      <th>mean</th>\n",
       "      <th>std</th>\n",
       "      <th>min</th>\n",
       "      <th>25%</th>\n",
       "      <th>50%</th>\n",
       "      <th>75%</th>\n",
       "      <th>max</th>\n",
       "    </tr>\n",
       "  </thead>\n",
       "  <tbody>\n",
       "    <tr>\n",
       "      <td>0</td>\n",
       "      <td>1024.0</td>\n",
       "      <td>0.021561</td>\n",
       "      <td>0.010908</td>\n",
       "      <td>0.003576</td>\n",
       "      <td>0.013546</td>\n",
       "      <td>0.01926</td>\n",
       "      <td>0.027187</td>\n",
       "      <td>0.090421</td>\n",
       "    </tr>\n",
       "  </tbody>\n",
       "</table>\n",
       "</div>"
      ],
      "text/plain": [
       "    count      mean       std       min       25%      50%       75%       max\n",
       "0  1024.0  0.021561  0.010908  0.003576  0.013546  0.01926  0.027187  0.090421"
      ]
     },
     "execution_count": 16,
     "metadata": {},
     "output_type": "execute_result"
    }
   ],
   "source": [
    "pd.DataFrame(diff_mat.describe()).T"
   ]
  },
  {
   "cell_type": "markdown",
   "metadata": {},
   "source": [
    "We can see the estimates were not off by too much."
   ]
  },
  {
   "cell_type": "code",
   "execution_count": 17,
   "metadata": {},
   "outputs": [
    {
     "data": {
      "text/html": [
       "<div>\n",
       "<style scoped>\n",
       "    .dataframe tbody tr th:only-of-type {\n",
       "        vertical-align: middle;\n",
       "    }\n",
       "\n",
       "    .dataframe tbody tr th {\n",
       "        vertical-align: top;\n",
       "    }\n",
       "\n",
       "    .dataframe thead th {\n",
       "        text-align: right;\n",
       "    }\n",
       "</style>\n",
       "<table border=\"1\" class=\"dataframe\">\n",
       "  <thead>\n",
       "    <tr style=\"text-align: right;\">\n",
       "      <th></th>\n",
       "      <th>0</th>\n",
       "      <th>1</th>\n",
       "      <th>2</th>\n",
       "      <th>3</th>\n",
       "      <th>4</th>\n",
       "      <th>5</th>\n",
       "      <th>6</th>\n",
       "      <th>7</th>\n",
       "      <th>8</th>\n",
       "      <th>9</th>\n",
       "    </tr>\n",
       "  </thead>\n",
       "  <tbody>\n",
       "    <tr>\n",
       "      <td>0</td>\n",
       "      <td>0.000000</td>\n",
       "      <td>0.006682</td>\n",
       "      <td>0.000000</td>\n",
       "      <td>0.000000</td>\n",
       "      <td>0.011000</td>\n",
       "      <td>0.007453</td>\n",
       "      <td>0.006110</td>\n",
       "      <td>0.003891</td>\n",
       "      <td>0.000163</td>\n",
       "      <td>0.000000</td>\n",
       "    </tr>\n",
       "    <tr>\n",
       "      <td>1</td>\n",
       "      <td>0.000000</td>\n",
       "      <td>0.000000</td>\n",
       "      <td>0.000000</td>\n",
       "      <td>0.007353</td>\n",
       "      <td>0.005636</td>\n",
       "      <td>0.016124</td>\n",
       "      <td>0.002949</td>\n",
       "      <td>0.002445</td>\n",
       "      <td>0.005188</td>\n",
       "      <td>0.015267</td>\n",
       "    </tr>\n",
       "    <tr>\n",
       "      <td>2</td>\n",
       "      <td>0.038252</td>\n",
       "      <td>0.023914</td>\n",
       "      <td>0.013409</td>\n",
       "      <td>0.000000</td>\n",
       "      <td>0.013357</td>\n",
       "      <td>0.005743</td>\n",
       "      <td>0.000000</td>\n",
       "      <td>0.000000</td>\n",
       "      <td>0.011120</td>\n",
       "      <td>0.003859</td>\n",
       "    </tr>\n",
       "    <tr>\n",
       "      <td>3</td>\n",
       "      <td>0.000000</td>\n",
       "      <td>0.000268</td>\n",
       "      <td>0.005708</td>\n",
       "      <td>0.000000</td>\n",
       "      <td>0.013223</td>\n",
       "      <td>0.026244</td>\n",
       "      <td>0.009805</td>\n",
       "      <td>0.000000</td>\n",
       "      <td>0.000000</td>\n",
       "      <td>0.017270</td>\n",
       "    </tr>\n",
       "    <tr>\n",
       "      <td>4</td>\n",
       "      <td>0.000107</td>\n",
       "      <td>0.000000</td>\n",
       "      <td>0.000000</td>\n",
       "      <td>0.002507</td>\n",
       "      <td>0.013825</td>\n",
       "      <td>0.000761</td>\n",
       "      <td>0.011533</td>\n",
       "      <td>0.001822</td>\n",
       "      <td>0.001415</td>\n",
       "      <td>0.000000</td>\n",
       "    </tr>\n",
       "    <tr>\n",
       "      <td>...</td>\n",
       "      <td>...</td>\n",
       "      <td>...</td>\n",
       "      <td>...</td>\n",
       "      <td>...</td>\n",
       "      <td>...</td>\n",
       "      <td>...</td>\n",
       "      <td>...</td>\n",
       "      <td>...</td>\n",
       "      <td>...</td>\n",
       "      <td>...</td>\n",
       "    </tr>\n",
       "    <tr>\n",
       "      <td>1019</td>\n",
       "      <td>0.032806</td>\n",
       "      <td>0.000000</td>\n",
       "      <td>0.000000</td>\n",
       "      <td>0.011347</td>\n",
       "      <td>0.006291</td>\n",
       "      <td>0.004045</td>\n",
       "      <td>0.000000</td>\n",
       "      <td>0.002022</td>\n",
       "      <td>0.017414</td>\n",
       "      <td>0.006404</td>\n",
       "    </tr>\n",
       "    <tr>\n",
       "      <td>1020</td>\n",
       "      <td>0.000000</td>\n",
       "      <td>0.009160</td>\n",
       "      <td>0.000811</td>\n",
       "      <td>0.000000</td>\n",
       "      <td>0.010300</td>\n",
       "      <td>0.003951</td>\n",
       "      <td>0.000000</td>\n",
       "      <td>0.000216</td>\n",
       "      <td>0.000776</td>\n",
       "      <td>0.000000</td>\n",
       "    </tr>\n",
       "    <tr>\n",
       "      <td>1021</td>\n",
       "      <td>0.000000</td>\n",
       "      <td>0.000000</td>\n",
       "      <td>0.003903</td>\n",
       "      <td>0.004180</td>\n",
       "      <td>0.007199</td>\n",
       "      <td>0.002990</td>\n",
       "      <td>0.004693</td>\n",
       "      <td>0.001549</td>\n",
       "      <td>0.000000</td>\n",
       "      <td>0.001312</td>\n",
       "    </tr>\n",
       "    <tr>\n",
       "      <td>1022</td>\n",
       "      <td>0.000000</td>\n",
       "      <td>0.010655</td>\n",
       "      <td>0.000300</td>\n",
       "      <td>0.002551</td>\n",
       "      <td>0.000000</td>\n",
       "      <td>0.002288</td>\n",
       "      <td>0.000375</td>\n",
       "      <td>0.002705</td>\n",
       "      <td>0.000000</td>\n",
       "      <td>0.010806</td>\n",
       "    </tr>\n",
       "    <tr>\n",
       "      <td>1023</td>\n",
       "      <td>0.001139</td>\n",
       "      <td>0.000000</td>\n",
       "      <td>0.006298</td>\n",
       "      <td>0.023479</td>\n",
       "      <td>0.000000</td>\n",
       "      <td>0.011417</td>\n",
       "      <td>0.001070</td>\n",
       "      <td>0.000000</td>\n",
       "      <td>0.001146</td>\n",
       "      <td>0.008151</td>\n",
       "    </tr>\n",
       "  </tbody>\n",
       "</table>\n",
       "<p>1024 rows × 10 columns</p>\n",
       "</div>"
      ],
      "text/plain": [
       "             0         1         2         3         4         5         6  \\\n",
       "0     0.000000  0.006682  0.000000  0.000000  0.011000  0.007453  0.006110   \n",
       "1     0.000000  0.000000  0.000000  0.007353  0.005636  0.016124  0.002949   \n",
       "2     0.038252  0.023914  0.013409  0.000000  0.013357  0.005743  0.000000   \n",
       "3     0.000000  0.000268  0.005708  0.000000  0.013223  0.026244  0.009805   \n",
       "4     0.000107  0.000000  0.000000  0.002507  0.013825  0.000761  0.011533   \n",
       "...        ...       ...       ...       ...       ...       ...       ...   \n",
       "1019  0.032806  0.000000  0.000000  0.011347  0.006291  0.004045  0.000000   \n",
       "1020  0.000000  0.009160  0.000811  0.000000  0.010300  0.003951  0.000000   \n",
       "1021  0.000000  0.000000  0.003903  0.004180  0.007199  0.002990  0.004693   \n",
       "1022  0.000000  0.010655  0.000300  0.002551  0.000000  0.002288  0.000375   \n",
       "1023  0.001139  0.000000  0.006298  0.023479  0.000000  0.011417  0.001070   \n",
       "\n",
       "             7         8         9  \n",
       "0     0.003891  0.000163  0.000000  \n",
       "1     0.002445  0.005188  0.015267  \n",
       "2     0.000000  0.011120  0.003859  \n",
       "3     0.000000  0.000000  0.017270  \n",
       "4     0.001822  0.001415  0.000000  \n",
       "...        ...       ...       ...  \n",
       "1019  0.002022  0.017414  0.006404  \n",
       "1020  0.000216  0.000776  0.000000  \n",
       "1021  0.001549  0.000000  0.001312  \n",
       "1022  0.002705  0.000000  0.010806  \n",
       "1023  0.000000  0.001146  0.008151  \n",
       "\n",
       "[1024 rows x 10 columns]"
      ]
     },
     "execution_count": 17,
     "metadata": {},
     "output_type": "execute_result"
    }
   ],
   "source": [
    "pd.DataFrame(np.abs(coh_matrix - c))"
   ]
  },
  {
   "cell_type": "code",
   "execution_count": null,
   "metadata": {},
   "outputs": [],
   "source": []
  }
 ],
 "metadata": {
  "kernelspec": {
   "display_name": "Python 3",
   "language": "python",
   "name": "python3"
  },
  "language_info": {
   "codemirror_mode": {
    "name": "ipython",
    "version": 3
   },
   "file_extension": ".py",
   "mimetype": "text/x-python",
   "name": "python",
   "nbconvert_exporter": "python",
   "pygments_lexer": "ipython3",
   "version": "3.7.4"
  }
 },
 "nbformat": 4,
 "nbformat_minor": 2
}
