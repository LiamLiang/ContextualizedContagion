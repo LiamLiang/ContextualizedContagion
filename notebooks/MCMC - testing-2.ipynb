{
 "cells": [
  {
   "cell_type": "code",
   "execution_count": 1,
   "metadata": {},
   "outputs": [],
   "source": [
    "import numpy as np\n",
    "import pandas as pd\n",
    "import AgentClass\n",
    "import const\n",
    "import random\n",
    "import networkx as nx\n",
    "from config import num_agents,number_of_bits\n",
    "from scipy import stats\n",
    "from collections import defaultdict\n",
    "import json\n",
    "import utilities\n",
    "\n",
    "import matplotlib.pyplot as plt\n",
    "%matplotlib inline\n",
    "from IPython.core.pylabtools import figsize\n",
    "import matplotlib\n",
    "import seaborn as sns\n",
    "\n",
    "import pymc3 as pm\n"
   ]
  },
  {
   "cell_type": "code",
   "execution_count": 2,
   "metadata": {},
   "outputs": [],
   "source": [
    "def get_tau_distr():\n",
    "    lower = 0\n",
    "    upper = 1\n",
    "    mu = 0.5\n",
    "    sigma = 0.1\n",
    "    N = 1000\n",
    "\n",
    "    samples = stats.truncnorm.rvs(\n",
    "          (lower-mu)/sigma,(upper-mu)/sigma,loc=mu,scale=sigma,size=N)\n",
    "\n",
    "    return samples"
   ]
  },
  {
   "cell_type": "code",
   "execution_count": 3,
   "metadata": {},
   "outputs": [],
   "source": [
    "def create_environment():\n",
    "    list_agents = []\n",
    "    tau_distr = get_tau_distr()\n",
    "\n",
    "    for i in range(num_agents):\n",
    "        in_state = np.random.randint(2, size=number_of_bits).tolist()\n",
    "        a = AgentClass.Agent(name='agent{}'.format(i), tau=random.choice(tau_distr), initial_state=in_state)\n",
    "        list_agents.append(a)\n",
    "\n",
    "    # create network\n",
    "    G = nx.newman_watts_strogatz_graph(num_agents, 5, 0.5, seed= 0)\n",
    "#    nx.draw(G, with_labels=True, font_weight='bold') # to draw agents\n",
    "    df = nx.to_pandas_adjacency(G, dtype=int)\n",
    "\n",
    "    tmp_edges = df.apply(lambda row: row.to_numpy().nonzero()).to_dict()\n",
    "    edges = {k: v[0].tolist() for k, v in tmp_edges.items()}\n",
    "\n",
    "    # make random connections with agents\n",
    "    for k, v in edges.items():\n",
    "        for ngh in v:\n",
    "            list_agents[k].add_neighbors(list_agents[ngh])\n",
    "\n",
    "    return list_agents"
   ]
  },
  {
   "cell_type": "code",
   "execution_count": 4,
   "metadata": {},
   "outputs": [],
   "source": [
    "def get_network_df(list_agents):\n",
    "    network_df = pd.DataFrame({'Agent Name':[], 'Neighbors':[]})\n",
    "    for agt in list_agents:\n",
    "        neighbors = agt.get_neighbors_name()\n",
    "        network_df = network_df.append({'Agent Name':agt.name,\n",
    "                                        'Neighbors':neighbors}, ignore_index=True)\n",
    "    return network_df"
   ]
  },
  {
   "cell_type": "code",
   "execution_count": 5,
   "metadata": {},
   "outputs": [],
   "source": [
    "def run_simulation(alpha, const:const.Constants, list_agents, end_time):\n",
    "    d = []\n",
    "    generations = 0\n",
    "    for t in range(end_time):\n",
    "        # compute next state for all agents\n",
    "        for agt in list_agents:\n",
    "            agt.update_knowledge(alpha, const.coh_transition_matrix, const.bit_matrix)\n",
    "\n",
    "        # keep record of current record and all other values\n",
    "        for agt in list_agents:\n",
    "            row = {'Agent_Name':agt.name,\n",
    "                   'Agent_Dissonance':np.array(agt.dissonance_lst),\n",
    "                   'Time':t,\n",
    "                   'probs':agt.soc_probs,\n",
    "                   'Current_Knowledge_State':agt.knowledge_state,\n",
    "                   'Current': utilities.bool2int(agt.knowledge_state),\n",
    "                   'Next': utilities.bool2int(agt.next_state),\n",
    "                   'Next_Knowledge_State':agt.next_state}\n",
    "\n",
    "            d.append(row)\n",
    "\n",
    "        # now update all agents next state with computed next state\n",
    "        for agt in list_agents:\n",
    "            agt.knowledge_state = agt.next_state\n",
    "            agt.next_state = None\n",
    "            agt.dissonance_lst = None\n",
    "\n",
    "        generations+=1\n",
    "#         if generations%10 == 0:\n",
    "#             print(\"alpha = {}; {} generations\".format(alpha,generations))\n",
    "\n",
    "    return pd.DataFrame(d)"
   ]
  },
  {
   "cell_type": "code",
   "execution_count": 6,
   "metadata": {},
   "outputs": [],
   "source": [
    " # constants intialization\n",
    "end_simulation_time = 100\n",
    "alphas = [0.7]\n",
    "exp_times = 1\n",
    "\n",
    "# first create environment\n",
    "agents_list = create_environment()\n",
    "\n",
    "# get network of the agents\n",
    "agent_network_df = get_network_df(agents_list)\n",
    "\n",
    "results = {}\n",
    "\n",
    "# for saving\n",
    "agent_network_df.to_json('test_network.json',orient='records', lines=True)\n",
    "\n",
    "for i in range(exp_times):\n",
    "\n",
    "    random.seed(i)\n",
    "    results['seed'] = i\n",
    "\n",
    "    constants = const.Constants()\n",
    "\n",
    "    results['coherence_matrix'] = coherence_matrix = constants.get_coh_tx_matrix().tolist()\n",
    "\n",
    "\n",
    "    results['alphas'] = defaultdict(list)\n",
    "\n",
    "    # run simulation\n",
    "    for alpha in alphas:\n",
    "#            record_df = pd.DataFrame({'Agent_Name':[], 'Agent_Dissonance':[], 'Time':[], 'Current_Knowledge_State':[], 'Next_Knowledge_State':[]})\n",
    "\n",
    "        record_df = run_simulation(alpha, constants, agents_list, end_simulation_time)\n",
    "#         results['alphas'][alpha].append(record_df.to_json(orient='records', lines=True))"
   ]
  },
  {
   "cell_type": "code",
   "execution_count": 7,
   "metadata": {},
   "outputs": [],
   "source": [
    "knowledge_states = record_df['Current_Knowledge_State'].tolist()\n",
    "int_knowledge_vals = np.array([utilities.bool2int(i) for i in knowledge_states])\n",
    "K = np.zeros((len(int_knowledge_vals), 2**number_of_bits))\n",
    "K[np.arange(len(int_knowledge_vals)), int_knowledge_vals] = 1\n",
    "\n",
    "\n",
    "next_states = record_df['Next_Knowledge_State'].tolist()\n",
    "int_nextstates_vals = np.array([utilities.bool2int(i) for i in next_states])\n",
    "N = np.zeros((len(int_nextstates_vals), 2**number_of_bits))\n",
    "N[np.arange(len(int_nextstates_vals)), int_nextstates_vals] = 1\n",
    "\n",
    "soc_probs = record_df['probs'].tolist()\n"
   ]
  },
  {
   "cell_type": "code",
   "execution_count": 8,
   "metadata": {},
   "outputs": [
    {
     "data": {
      "text/html": [
       "<div>\n",
       "<style scoped>\n",
       "    .dataframe tbody tr th:only-of-type {\n",
       "        vertical-align: middle;\n",
       "    }\n",
       "\n",
       "    .dataframe tbody tr th {\n",
       "        vertical-align: top;\n",
       "    }\n",
       "\n",
       "    .dataframe thead th {\n",
       "        text-align: right;\n",
       "    }\n",
       "</style>\n",
       "<table border=\"1\" class=\"dataframe\">\n",
       "  <thead>\n",
       "    <tr style=\"text-align: right;\">\n",
       "      <th></th>\n",
       "      <th>0</th>\n",
       "      <th>1</th>\n",
       "      <th>2</th>\n",
       "      <th>3</th>\n",
       "      <th>4</th>\n",
       "      <th>5</th>\n",
       "      <th>6</th>\n",
       "      <th>7</th>\n",
       "      <th>8</th>\n",
       "      <th>9</th>\n",
       "      <th>10</th>\n",
       "      <th>11</th>\n",
       "      <th>12</th>\n",
       "      <th>13</th>\n",
       "      <th>14</th>\n",
       "      <th>15</th>\n",
       "    </tr>\n",
       "  </thead>\n",
       "  <tbody>\n",
       "    <tr>\n",
       "      <td>0</td>\n",
       "      <td>0.046033</td>\n",
       "      <td>0.054227</td>\n",
       "      <td>0.030705</td>\n",
       "      <td>0.032208</td>\n",
       "      <td>0.223309</td>\n",
       "      <td>0.097468</td>\n",
       "      <td>0.048820</td>\n",
       "      <td>0.003503</td>\n",
       "      <td>0.000000</td>\n",
       "      <td>0.093137</td>\n",
       "      <td>0.263270</td>\n",
       "      <td>0.034892</td>\n",
       "      <td>0.006184</td>\n",
       "      <td>0.007707</td>\n",
       "      <td>0.042345</td>\n",
       "      <td>0.016192</td>\n",
       "    </tr>\n",
       "    <tr>\n",
       "      <td>1</td>\n",
       "      <td>0.047623</td>\n",
       "      <td>0.001110</td>\n",
       "      <td>0.077476</td>\n",
       "      <td>0.265202</td>\n",
       "      <td>0.033773</td>\n",
       "      <td>0.100289</td>\n",
       "      <td>0.091319</td>\n",
       "      <td>0.016896</td>\n",
       "      <td>0.028286</td>\n",
       "      <td>0.068266</td>\n",
       "      <td>0.016749</td>\n",
       "      <td>0.087637</td>\n",
       "      <td>0.049248</td>\n",
       "      <td>0.012079</td>\n",
       "      <td>0.088490</td>\n",
       "      <td>0.015557</td>\n",
       "    </tr>\n",
       "    <tr>\n",
       "      <td>2</td>\n",
       "      <td>0.096670</td>\n",
       "      <td>0.102881</td>\n",
       "      <td>0.229255</td>\n",
       "      <td>0.230130</td>\n",
       "      <td>0.073571</td>\n",
       "      <td>0.015801</td>\n",
       "      <td>0.016779</td>\n",
       "      <td>0.018433</td>\n",
       "      <td>0.002801</td>\n",
       "      <td>0.043533</td>\n",
       "      <td>0.038091</td>\n",
       "      <td>0.044787</td>\n",
       "      <td>0.018478</td>\n",
       "      <td>0.006265</td>\n",
       "      <td>0.016282</td>\n",
       "      <td>0.046243</td>\n",
       "    </tr>\n",
       "    <tr>\n",
       "      <td>3</td>\n",
       "      <td>0.058886</td>\n",
       "      <td>0.070261</td>\n",
       "      <td>0.012974</td>\n",
       "      <td>0.045486</td>\n",
       "      <td>0.011325</td>\n",
       "      <td>0.028818</td>\n",
       "      <td>0.062900</td>\n",
       "      <td>0.091143</td>\n",
       "      <td>0.118446</td>\n",
       "      <td>0.118775</td>\n",
       "      <td>0.068109</td>\n",
       "      <td>0.181243</td>\n",
       "      <td>0.026620</td>\n",
       "      <td>0.000000</td>\n",
       "      <td>0.055830</td>\n",
       "      <td>0.049185</td>\n",
       "    </tr>\n",
       "    <tr>\n",
       "      <td>4</td>\n",
       "      <td>0.008631</td>\n",
       "      <td>0.058703</td>\n",
       "      <td>0.059486</td>\n",
       "      <td>0.075186</td>\n",
       "      <td>0.175310</td>\n",
       "      <td>0.038277</td>\n",
       "      <td>0.122450</td>\n",
       "      <td>0.006139</td>\n",
       "      <td>0.090821</td>\n",
       "      <td>0.009670</td>\n",
       "      <td>0.010666</td>\n",
       "      <td>0.007787</td>\n",
       "      <td>0.122931</td>\n",
       "      <td>0.034648</td>\n",
       "      <td>0.086248</td>\n",
       "      <td>0.093047</td>\n",
       "    </tr>\n",
       "    <tr>\n",
       "      <td>5</td>\n",
       "      <td>0.237184</td>\n",
       "      <td>0.000000</td>\n",
       "      <td>0.074793</td>\n",
       "      <td>0.039594</td>\n",
       "      <td>0.091982</td>\n",
       "      <td>0.021567</td>\n",
       "      <td>0.069096</td>\n",
       "      <td>0.008498</td>\n",
       "      <td>0.047060</td>\n",
       "      <td>0.168196</td>\n",
       "      <td>0.041434</td>\n",
       "      <td>0.074824</td>\n",
       "      <td>0.026314</td>\n",
       "      <td>0.009833</td>\n",
       "      <td>0.077075</td>\n",
       "      <td>0.012549</td>\n",
       "    </tr>\n",
       "    <tr>\n",
       "      <td>6</td>\n",
       "      <td>0.004187</td>\n",
       "      <td>0.029999</td>\n",
       "      <td>0.038971</td>\n",
       "      <td>0.001619</td>\n",
       "      <td>0.102181</td>\n",
       "      <td>0.066324</td>\n",
       "      <td>0.097264</td>\n",
       "      <td>0.001328</td>\n",
       "      <td>0.031057</td>\n",
       "      <td>0.077675</td>\n",
       "      <td>0.087786</td>\n",
       "      <td>0.025286</td>\n",
       "      <td>0.015638</td>\n",
       "      <td>0.104724</td>\n",
       "      <td>0.292964</td>\n",
       "      <td>0.022998</td>\n",
       "    </tr>\n",
       "    <tr>\n",
       "      <td>7</td>\n",
       "      <td>0.044337</td>\n",
       "      <td>0.012664</td>\n",
       "      <td>0.027219</td>\n",
       "      <td>0.018244</td>\n",
       "      <td>0.134622</td>\n",
       "      <td>0.044223</td>\n",
       "      <td>0.081115</td>\n",
       "      <td>0.051293</td>\n",
       "      <td>0.008261</td>\n",
       "      <td>0.025363</td>\n",
       "      <td>0.094569</td>\n",
       "      <td>0.160774</td>\n",
       "      <td>0.049260</td>\n",
       "      <td>0.232829</td>\n",
       "      <td>0.015227</td>\n",
       "      <td>0.000000</td>\n",
       "    </tr>\n",
       "    <tr>\n",
       "      <td>8</td>\n",
       "      <td>0.054528</td>\n",
       "      <td>0.014425</td>\n",
       "      <td>0.002562</td>\n",
       "      <td>0.213124</td>\n",
       "      <td>0.018369</td>\n",
       "      <td>0.011257</td>\n",
       "      <td>0.154366</td>\n",
       "      <td>0.048422</td>\n",
       "      <td>0.015181</td>\n",
       "      <td>0.046628</td>\n",
       "      <td>0.019044</td>\n",
       "      <td>0.226497</td>\n",
       "      <td>0.032209</td>\n",
       "      <td>0.020679</td>\n",
       "      <td>0.089047</td>\n",
       "      <td>0.033662</td>\n",
       "    </tr>\n",
       "    <tr>\n",
       "      <td>9</td>\n",
       "      <td>0.005137</td>\n",
       "      <td>0.252077</td>\n",
       "      <td>0.158157</td>\n",
       "      <td>0.022507</td>\n",
       "      <td>0.029780</td>\n",
       "      <td>0.080844</td>\n",
       "      <td>0.093318</td>\n",
       "      <td>0.004080</td>\n",
       "      <td>0.068614</td>\n",
       "      <td>0.031203</td>\n",
       "      <td>0.128843</td>\n",
       "      <td>0.017100</td>\n",
       "      <td>0.002729</td>\n",
       "      <td>0.016439</td>\n",
       "      <td>0.070990</td>\n",
       "      <td>0.018183</td>\n",
       "    </tr>\n",
       "    <tr>\n",
       "      <td>10</td>\n",
       "      <td>0.016400</td>\n",
       "      <td>0.004419</td>\n",
       "      <td>0.150751</td>\n",
       "      <td>0.025517</td>\n",
       "      <td>0.083698</td>\n",
       "      <td>0.041012</td>\n",
       "      <td>0.056073</td>\n",
       "      <td>0.161877</td>\n",
       "      <td>0.067775</td>\n",
       "      <td>0.081189</td>\n",
       "      <td>0.099643</td>\n",
       "      <td>0.050778</td>\n",
       "      <td>0.071534</td>\n",
       "      <td>0.027829</td>\n",
       "      <td>0.044455</td>\n",
       "      <td>0.017051</td>\n",
       "    </tr>\n",
       "    <tr>\n",
       "      <td>11</td>\n",
       "      <td>0.033880</td>\n",
       "      <td>0.102607</td>\n",
       "      <td>0.058560</td>\n",
       "      <td>0.113647</td>\n",
       "      <td>0.054289</td>\n",
       "      <td>0.064922</td>\n",
       "      <td>0.010701</td>\n",
       "      <td>0.074016</td>\n",
       "      <td>0.025792</td>\n",
       "      <td>0.092686</td>\n",
       "      <td>0.151292</td>\n",
       "      <td>0.080610</td>\n",
       "      <td>0.079114</td>\n",
       "      <td>0.043843</td>\n",
       "      <td>0.002280</td>\n",
       "      <td>0.011761</td>\n",
       "    </tr>\n",
       "    <tr>\n",
       "      <td>12</td>\n",
       "      <td>0.002090</td>\n",
       "      <td>0.033123</td>\n",
       "      <td>0.000000</td>\n",
       "      <td>0.039286</td>\n",
       "      <td>0.007061</td>\n",
       "      <td>0.180110</td>\n",
       "      <td>0.029543</td>\n",
       "      <td>0.077760</td>\n",
       "      <td>0.000000</td>\n",
       "      <td>0.004626</td>\n",
       "      <td>0.017904</td>\n",
       "      <td>0.008333</td>\n",
       "      <td>0.344994</td>\n",
       "      <td>0.040391</td>\n",
       "      <td>0.083647</td>\n",
       "      <td>0.131133</td>\n",
       "    </tr>\n",
       "    <tr>\n",
       "      <td>13</td>\n",
       "      <td>0.014440</td>\n",
       "      <td>0.014790</td>\n",
       "      <td>0.041799</td>\n",
       "      <td>0.046929</td>\n",
       "      <td>0.074292</td>\n",
       "      <td>0.024439</td>\n",
       "      <td>0.013786</td>\n",
       "      <td>0.105771</td>\n",
       "      <td>0.235436</td>\n",
       "      <td>0.018792</td>\n",
       "      <td>0.015045</td>\n",
       "      <td>0.201265</td>\n",
       "      <td>0.070570</td>\n",
       "      <td>0.080066</td>\n",
       "      <td>0.016834</td>\n",
       "      <td>0.025746</td>\n",
       "    </tr>\n",
       "    <tr>\n",
       "      <td>14</td>\n",
       "      <td>0.010283</td>\n",
       "      <td>0.024345</td>\n",
       "      <td>0.083857</td>\n",
       "      <td>0.028939</td>\n",
       "      <td>0.043279</td>\n",
       "      <td>0.135456</td>\n",
       "      <td>0.052768</td>\n",
       "      <td>0.266549</td>\n",
       "      <td>0.002539</td>\n",
       "      <td>0.006011</td>\n",
       "      <td>0.005061</td>\n",
       "      <td>0.019284</td>\n",
       "      <td>0.168824</td>\n",
       "      <td>0.012354</td>\n",
       "      <td>0.106665</td>\n",
       "      <td>0.033785</td>\n",
       "    </tr>\n",
       "    <tr>\n",
       "      <td>15</td>\n",
       "      <td>0.057936</td>\n",
       "      <td>0.025324</td>\n",
       "      <td>0.033761</td>\n",
       "      <td>0.072434</td>\n",
       "      <td>0.037169</td>\n",
       "      <td>0.213989</td>\n",
       "      <td>0.025999</td>\n",
       "      <td>0.009126</td>\n",
       "      <td>0.139520</td>\n",
       "      <td>0.097443</td>\n",
       "      <td>0.019953</td>\n",
       "      <td>0.114592</td>\n",
       "      <td>0.076757</td>\n",
       "      <td>0.002297</td>\n",
       "      <td>0.000000</td>\n",
       "      <td>0.073700</td>\n",
       "    </tr>\n",
       "  </tbody>\n",
       "</table>\n",
       "</div>"
      ],
      "text/plain": [
       "           0         1         2         3         4         5         6  \\\n",
       "0   0.046033  0.054227  0.030705  0.032208  0.223309  0.097468  0.048820   \n",
       "1   0.047623  0.001110  0.077476  0.265202  0.033773  0.100289  0.091319   \n",
       "2   0.096670  0.102881  0.229255  0.230130  0.073571  0.015801  0.016779   \n",
       "3   0.058886  0.070261  0.012974  0.045486  0.011325  0.028818  0.062900   \n",
       "4   0.008631  0.058703  0.059486  0.075186  0.175310  0.038277  0.122450   \n",
       "5   0.237184  0.000000  0.074793  0.039594  0.091982  0.021567  0.069096   \n",
       "6   0.004187  0.029999  0.038971  0.001619  0.102181  0.066324  0.097264   \n",
       "7   0.044337  0.012664  0.027219  0.018244  0.134622  0.044223  0.081115   \n",
       "8   0.054528  0.014425  0.002562  0.213124  0.018369  0.011257  0.154366   \n",
       "9   0.005137  0.252077  0.158157  0.022507  0.029780  0.080844  0.093318   \n",
       "10  0.016400  0.004419  0.150751  0.025517  0.083698  0.041012  0.056073   \n",
       "11  0.033880  0.102607  0.058560  0.113647  0.054289  0.064922  0.010701   \n",
       "12  0.002090  0.033123  0.000000  0.039286  0.007061  0.180110  0.029543   \n",
       "13  0.014440  0.014790  0.041799  0.046929  0.074292  0.024439  0.013786   \n",
       "14  0.010283  0.024345  0.083857  0.028939  0.043279  0.135456  0.052768   \n",
       "15  0.057936  0.025324  0.033761  0.072434  0.037169  0.213989  0.025999   \n",
       "\n",
       "           7         8         9        10        11        12        13  \\\n",
       "0   0.003503  0.000000  0.093137  0.263270  0.034892  0.006184  0.007707   \n",
       "1   0.016896  0.028286  0.068266  0.016749  0.087637  0.049248  0.012079   \n",
       "2   0.018433  0.002801  0.043533  0.038091  0.044787  0.018478  0.006265   \n",
       "3   0.091143  0.118446  0.118775  0.068109  0.181243  0.026620  0.000000   \n",
       "4   0.006139  0.090821  0.009670  0.010666  0.007787  0.122931  0.034648   \n",
       "5   0.008498  0.047060  0.168196  0.041434  0.074824  0.026314  0.009833   \n",
       "6   0.001328  0.031057  0.077675  0.087786  0.025286  0.015638  0.104724   \n",
       "7   0.051293  0.008261  0.025363  0.094569  0.160774  0.049260  0.232829   \n",
       "8   0.048422  0.015181  0.046628  0.019044  0.226497  0.032209  0.020679   \n",
       "9   0.004080  0.068614  0.031203  0.128843  0.017100  0.002729  0.016439   \n",
       "10  0.161877  0.067775  0.081189  0.099643  0.050778  0.071534  0.027829   \n",
       "11  0.074016  0.025792  0.092686  0.151292  0.080610  0.079114  0.043843   \n",
       "12  0.077760  0.000000  0.004626  0.017904  0.008333  0.344994  0.040391   \n",
       "13  0.105771  0.235436  0.018792  0.015045  0.201265  0.070570  0.080066   \n",
       "14  0.266549  0.002539  0.006011  0.005061  0.019284  0.168824  0.012354   \n",
       "15  0.009126  0.139520  0.097443  0.019953  0.114592  0.076757  0.002297   \n",
       "\n",
       "          14        15  \n",
       "0   0.042345  0.016192  \n",
       "1   0.088490  0.015557  \n",
       "2   0.016282  0.046243  \n",
       "3   0.055830  0.049185  \n",
       "4   0.086248  0.093047  \n",
       "5   0.077075  0.012549  \n",
       "6   0.292964  0.022998  \n",
       "7   0.015227  0.000000  \n",
       "8   0.089047  0.033662  \n",
       "9   0.070990  0.018183  \n",
       "10  0.044455  0.017051  \n",
       "11  0.002280  0.011761  \n",
       "12  0.083647  0.131133  \n",
       "13  0.016834  0.025746  \n",
       "14  0.106665  0.033785  \n",
       "15  0.000000  0.073700  "
      ]
     },
     "execution_count": 8,
     "metadata": {},
     "output_type": "execute_result"
    }
   ],
   "source": [
    "pd.DataFrame(coherence_matrix)"
   ]
  },
  {
   "cell_type": "code",
   "execution_count": 9,
   "metadata": {},
   "outputs": [
    {
     "data": {
      "text/plain": [
       "20000"
      ]
     },
     "execution_count": 9,
     "metadata": {},
     "output_type": "execute_result"
    }
   ],
   "source": [
    "len(int_nextstates_vals)"
   ]
  },
  {
   "cell_type": "code",
   "execution_count": 10,
   "metadata": {},
   "outputs": [
    {
     "data": {
      "text/plain": [
       "<matplotlib.axes._subplots.AxesSubplot at 0x1eea2d755c8>"
      ]
     },
     "execution_count": 10,
     "metadata": {},
     "output_type": "execute_result"
    },
    {
     "data": {
      "image/png": "[encoded data removed]",
      "text/plain": [
       "<Figure size 432x288 with 1 Axes>"
      ]
     },
     "metadata": {
      "needs_background": "light"
     },
     "output_type": "display_data"
    }
   ],
   "source": [
    "sns.countplot(x='Current', data=record_df)"
   ]
  },
  {
   "cell_type": "code",
   "execution_count": 11,
   "metadata": {},
   "outputs": [],
   "source": [
    "sel_state = 2"
   ]
  },
  {
   "cell_type": "code",
   "execution_count": 12,
   "metadata": {},
   "outputs": [],
   "source": [
    "data = record_df[record_df['Current']==sel_state]"
   ]
  },
  {
   "cell_type": "code",
   "execution_count": 13,
   "metadata": {},
   "outputs": [
    {
     "data": {
      "text/plain": [
       "<matplotlib.axes._subplots.AxesSubplot at 0x1eea90b7c48>"
      ]
     },
     "execution_count": 13,
     "metadata": {},
     "output_type": "execute_result"
    },
    {
     "data": {
      "image/png": "[encoded data removed]",
      "text/plain": [
       "<Figure size 432x288 with 1 Axes>"
      ]
     },
     "metadata": {
      "needs_background": "light"
     },
     "output_type": "display_data"
    }
   ],
   "source": [
    "sns.countplot(x='Next', data=data)"
   ]
  },
  {
   "cell_type": "code",
   "execution_count": 14,
   "metadata": {},
   "outputs": [],
   "source": [
    "soc_probs = np.asarray(data['probs'].tolist())"
   ]
  },
  {
   "cell_type": "code",
   "execution_count": null,
   "metadata": {},
   "outputs": [],
   "source": []
  },
  {
   "cell_type": "code",
   "execution_count": 15,
   "metadata": {},
   "outputs": [],
   "source": [
    "y = np.asarray(data.groupby(['Current','Next']).size().to_frame('Count')['Count'].tolist())"
   ]
  },
  {
   "cell_type": "code",
   "execution_count": 16,
   "metadata": {},
   "outputs": [
    {
     "data": {
      "text/plain": [
       "array([ 0, 10, 12, ...,  0, 15,  2])"
      ]
     },
     "execution_count": 16,
     "metadata": {},
     "output_type": "execute_result"
    }
   ],
   "source": [
    "y = np.asarray(data['Next'].tolist())\n",
    "y"
   ]
  },
  {
   "cell_type": "code",
   "execution_count": 17,
   "metadata": {},
   "outputs": [],
   "source": [
    "n = len(y)"
   ]
  },
  {
   "cell_type": "code",
   "execution_count": 18,
   "metadata": {},
   "outputs": [],
   "source": [
    "alpha = 0.3\n",
    "k = 16"
   ]
  },
  {
   "cell_type": "code",
   "execution_count": 19,
   "metadata": {},
   "outputs": [
    {
     "data": {
      "text/plain": [
       "1989"
      ]
     },
     "execution_count": 19,
     "metadata": {},
     "output_type": "execute_result"
    }
   ],
   "source": [
    "len(y)"
   ]
  },
  {
   "cell_type": "code",
   "execution_count": 21,
   "metadata": {},
   "outputs": [
    {
     "name": "stderr",
     "output_type": "stream",
     "text": [
      "C:\\Users\\niraj\\AppData\\Local\\Continuum\\anaconda3\\envs\\probabilistic\\lib\\site-packages\\theano\\tensor\\subtensor.py:2197: FutureWarning: Using a non-tuple sequence for multidimensional indexing is deprecated; use `arr[tuple(seq)]` instead of `arr[seq]`. In the future this will be interpreted as an array index, `arr[np.array(seq)]`, which will result either in an error or a different result.\n",
      "  rval = inputs[0].__getitem__(inputs[1:])\n"
     ]
    },
    {
     "ename": "ValueError",
     "evalue": "Input dimension mis-match. (input[0].shape[1] = 1989, input[1].shape[1] = 16)",
     "output_type": "error",
     "traceback": [
      "\u001b[1;31m---------------------------------------------------------------------------\u001b[0m",
      "\u001b[1;31mValueError\u001b[0m                                Traceback (most recent call last)",
      "\u001b[1;32m<ipython-input-21-18756dafb89a>\u001b[0m in \u001b[0;36m<module>\u001b[1;34m\u001b[0m\n\u001b[0;32m      6\u001b[0m     \u001b[0mtheta\u001b[0m \u001b[1;33m=\u001b[0m \u001b[0mpm\u001b[0m\u001b[1;33m.\u001b[0m\u001b[0mDirichlet\u001b[0m\u001b[1;33m(\u001b[0m\u001b[1;34m\"theta\"\u001b[0m\u001b[1;33m,\u001b[0m \u001b[0ma\u001b[0m\u001b[1;33m=\u001b[0m\u001b[0ma\u001b[0m\u001b[1;33m)\u001b[0m\u001b[1;33m\u001b[0m\u001b[1;33m\u001b[0m\u001b[0m\n\u001b[0;32m      7\u001b[0m     \u001b[0mtmp\u001b[0m \u001b[1;33m=\u001b[0m \u001b[0malpha\u001b[0m\u001b[1;33m*\u001b[0m\u001b[0msoc_probs\u001b[0m \u001b[1;33m+\u001b[0m \u001b[1;33m(\u001b[0m\u001b[1;36m1\u001b[0m\u001b[1;33m-\u001b[0m\u001b[0malpha\u001b[0m\u001b[1;33m)\u001b[0m\u001b[1;33m*\u001b[0m\u001b[0mtheta\u001b[0m\u001b[1;33m\u001b[0m\u001b[1;33m\u001b[0m\u001b[0m\n\u001b[1;32m----> 8\u001b[1;33m     \u001b[0mresults\u001b[0m \u001b[1;33m=\u001b[0m \u001b[0mpm\u001b[0m\u001b[1;33m.\u001b[0m\u001b[0mMultinomial\u001b[0m\u001b[1;33m(\u001b[0m\u001b[1;34m\"results\"\u001b[0m\u001b[1;33m,\u001b[0m \u001b[0mn\u001b[0m\u001b[1;33m=\u001b[0m\u001b[0mn\u001b[0m\u001b[1;33m,\u001b[0m \u001b[0mp\u001b[0m\u001b[1;33m=\u001b[0m\u001b[0mtmp\u001b[0m\u001b[1;33m,\u001b[0m \u001b[0mshape\u001b[0m\u001b[1;33m=\u001b[0m\u001b[1;36m16\u001b[0m\u001b[1;33m,\u001b[0m \u001b[0mobserved\u001b[0m\u001b[1;33m=\u001b[0m\u001b[0my\u001b[0m\u001b[1;33m)\u001b[0m\u001b[1;33m\u001b[0m\u001b[1;33m\u001b[0m\u001b[0m\n\u001b[0m",
      "\u001b[1;32m~\\AppData\\Local\\Continuum\\anaconda3\\envs\\probabilistic\\lib\\site-packages\\pymc3\\distributions\\distribution.py\u001b[0m in \u001b[0;36m__new__\u001b[1;34m(cls, name, *args, **kwargs)\u001b[0m\n\u001b[0;32m     40\u001b[0m             \u001b[0mtotal_size\u001b[0m \u001b[1;33m=\u001b[0m \u001b[0mkwargs\u001b[0m\u001b[1;33m.\u001b[0m\u001b[0mpop\u001b[0m\u001b[1;33m(\u001b[0m\u001b[1;34m'total_size'\u001b[0m\u001b[1;33m,\u001b[0m \u001b[1;32mNone\u001b[0m\u001b[1;33m)\u001b[0m\u001b[1;33m\u001b[0m\u001b[1;33m\u001b[0m\u001b[0m\n\u001b[0;32m     41\u001b[0m             \u001b[0mdist\u001b[0m \u001b[1;33m=\u001b[0m \u001b[0mcls\u001b[0m\u001b[1;33m.\u001b[0m\u001b[0mdist\u001b[0m\u001b[1;33m(\u001b[0m\u001b[1;33m*\u001b[0m\u001b[0margs\u001b[0m\u001b[1;33m,\u001b[0m \u001b[1;33m**\u001b[0m\u001b[0mkwargs\u001b[0m\u001b[1;33m)\u001b[0m\u001b[1;33m\u001b[0m\u001b[1;33m\u001b[0m\u001b[0m\n\u001b[1;32m---> 42\u001b[1;33m             \u001b[1;32mreturn\u001b[0m \u001b[0mmodel\u001b[0m\u001b[1;33m.\u001b[0m\u001b[0mVar\u001b[0m\u001b[1;33m(\u001b[0m\u001b[0mname\u001b[0m\u001b[1;33m,\u001b[0m \u001b[0mdist\u001b[0m\u001b[1;33m,\u001b[0m \u001b[0mdata\u001b[0m\u001b[1;33m,\u001b[0m \u001b[0mtotal_size\u001b[0m\u001b[1;33m)\u001b[0m\u001b[1;33m\u001b[0m\u001b[1;33m\u001b[0m\u001b[0m\n\u001b[0m\u001b[0;32m     43\u001b[0m         \u001b[1;32melse\u001b[0m\u001b[1;33m:\u001b[0m\u001b[1;33m\u001b[0m\u001b[1;33m\u001b[0m\u001b[0m\n\u001b[0;32m     44\u001b[0m             \u001b[1;32mraise\u001b[0m \u001b[0mTypeError\u001b[0m\u001b[1;33m(\u001b[0m\u001b[1;34m\"Name needs to be a string but got: {}\"\u001b[0m\u001b[1;33m.\u001b[0m\u001b[0mformat\u001b[0m\u001b[1;33m(\u001b[0m\u001b[0mname\u001b[0m\u001b[1;33m)\u001b[0m\u001b[1;33m)\u001b[0m\u001b[1;33m\u001b[0m\u001b[1;33m\u001b[0m\u001b[0m\n",
      "\u001b[1;32m~\\AppData\\Local\\Continuum\\anaconda3\\envs\\probabilistic\\lib\\site-packages\\pymc3\\model.py\u001b[0m in \u001b[0;36mVar\u001b[1;34m(self, name, dist, data, total_size)\u001b[0m\n\u001b[0;32m    837\u001b[0m                 var = ObservedRV(name=name, data=data,\n\u001b[0;32m    838\u001b[0m                                  \u001b[0mdistribution\u001b[0m\u001b[1;33m=\u001b[0m\u001b[0mdist\u001b[0m\u001b[1;33m,\u001b[0m\u001b[1;33m\u001b[0m\u001b[1;33m\u001b[0m\u001b[0m\n\u001b[1;32m--> 839\u001b[1;33m                                  total_size=total_size, model=self)\n\u001b[0m\u001b[0;32m    840\u001b[0m             \u001b[0mself\u001b[0m\u001b[1;33m.\u001b[0m\u001b[0mobserved_RVs\u001b[0m\u001b[1;33m.\u001b[0m\u001b[0mappend\u001b[0m\u001b[1;33m(\u001b[0m\u001b[0mvar\u001b[0m\u001b[1;33m)\u001b[0m\u001b[1;33m\u001b[0m\u001b[1;33m\u001b[0m\u001b[0m\n\u001b[0;32m    841\u001b[0m             \u001b[1;32mif\u001b[0m \u001b[0mvar\u001b[0m\u001b[1;33m.\u001b[0m\u001b[0mmissing_values\u001b[0m\u001b[1;33m:\u001b[0m\u001b[1;33m\u001b[0m\u001b[1;33m\u001b[0m\u001b[0m\n",
      "\u001b[1;32m~\\AppData\\Local\\Continuum\\anaconda3\\envs\\probabilistic\\lib\\site-packages\\pymc3\\model.py\u001b[0m in \u001b[0;36m__init__\u001b[1;34m(self, type, owner, index, name, data, distribution, total_size, model)\u001b[0m\n\u001b[0;32m   1322\u001b[0m \u001b[1;33m\u001b[0m\u001b[0m\n\u001b[0;32m   1323\u001b[0m             \u001b[0mself\u001b[0m\u001b[1;33m.\u001b[0m\u001b[0mmissing_values\u001b[0m \u001b[1;33m=\u001b[0m \u001b[0mdata\u001b[0m\u001b[1;33m.\u001b[0m\u001b[0mmissing_values\u001b[0m\u001b[1;33m\u001b[0m\u001b[1;33m\u001b[0m\u001b[0m\n\u001b[1;32m-> 1324\u001b[1;33m             \u001b[0mself\u001b[0m\u001b[1;33m.\u001b[0m\u001b[0mlogp_elemwiset\u001b[0m \u001b[1;33m=\u001b[0m \u001b[0mdistribution\u001b[0m\u001b[1;33m.\u001b[0m\u001b[0mlogp\u001b[0m\u001b[1;33m(\u001b[0m\u001b[0mdata\u001b[0m\u001b[1;33m)\u001b[0m\u001b[1;33m\u001b[0m\u001b[1;33m\u001b[0m\u001b[0m\n\u001b[0m\u001b[0;32m   1325\u001b[0m             \u001b[1;31m# The logp might need scaling in minibatches.\u001b[0m\u001b[1;33m\u001b[0m\u001b[1;33m\u001b[0m\u001b[1;33m\u001b[0m\u001b[0m\n\u001b[0;32m   1326\u001b[0m             \u001b[1;31m# This is done in `Factor`.\u001b[0m\u001b[1;33m\u001b[0m\u001b[1;33m\u001b[0m\u001b[1;33m\u001b[0m\u001b[0m\n",
      "\u001b[1;32m~\\AppData\\Local\\Continuum\\anaconda3\\envs\\probabilistic\\lib\\site-packages\\pymc3\\distributions\\multivariate.py\u001b[0m in \u001b[0;36mlogp\u001b[1;34m(self, x)\u001b[0m\n\u001b[0;32m    637\u001b[0m \u001b[1;33m\u001b[0m\u001b[0m\n\u001b[0;32m    638\u001b[0m         return bound(\n\u001b[1;32m--> 639\u001b[1;33m             \u001b[0mfactln\u001b[0m\u001b[1;33m(\u001b[0m\u001b[0mn\u001b[0m\u001b[1;33m)\u001b[0m \u001b[1;33m+\u001b[0m \u001b[0mtt\u001b[0m\u001b[1;33m.\u001b[0m\u001b[0msum\u001b[0m\u001b[1;33m(\u001b[0m\u001b[1;33m-\u001b[0m\u001b[0mfactln\u001b[0m\u001b[1;33m(\u001b[0m\u001b[0mx\u001b[0m\u001b[1;33m)\u001b[0m \u001b[1;33m+\u001b[0m \u001b[0mlogpow\u001b[0m\u001b[1;33m(\u001b[0m\u001b[0mp\u001b[0m\u001b[1;33m,\u001b[0m \u001b[0mx\u001b[0m\u001b[1;33m)\u001b[0m\u001b[1;33m,\u001b[0m \u001b[0maxis\u001b[0m\u001b[1;33m=\u001b[0m\u001b[1;33m-\u001b[0m\u001b[1;36m1\u001b[0m\u001b[1;33m,\u001b[0m \u001b[0mkeepdims\u001b[0m\u001b[1;33m=\u001b[0m\u001b[1;32mTrue\u001b[0m\u001b[1;33m)\u001b[0m\u001b[1;33m,\u001b[0m\u001b[1;33m\u001b[0m\u001b[1;33m\u001b[0m\u001b[0m\n\u001b[0m\u001b[0;32m    640\u001b[0m             \u001b[0mtt\u001b[0m\u001b[1;33m.\u001b[0m\u001b[0mall\u001b[0m\u001b[1;33m(\u001b[0m\u001b[0mx\u001b[0m \u001b[1;33m>=\u001b[0m \u001b[1;36m0\u001b[0m\u001b[1;33m)\u001b[0m\u001b[1;33m,\u001b[0m\u001b[1;33m\u001b[0m\u001b[1;33m\u001b[0m\u001b[0m\n\u001b[0;32m    641\u001b[0m             \u001b[0mtt\u001b[0m\u001b[1;33m.\u001b[0m\u001b[0mall\u001b[0m\u001b[1;33m(\u001b[0m\u001b[0mtt\u001b[0m\u001b[1;33m.\u001b[0m\u001b[0meq\u001b[0m\u001b[1;33m(\u001b[0m\u001b[0mtt\u001b[0m\u001b[1;33m.\u001b[0m\u001b[0msum\u001b[0m\u001b[1;33m(\u001b[0m\u001b[0mx\u001b[0m\u001b[1;33m,\u001b[0m \u001b[0maxis\u001b[0m\u001b[1;33m=\u001b[0m\u001b[1;33m-\u001b[0m\u001b[1;36m1\u001b[0m\u001b[1;33m,\u001b[0m \u001b[0mkeepdims\u001b[0m\u001b[1;33m=\u001b[0m\u001b[1;32mTrue\u001b[0m\u001b[1;33m)\u001b[0m\u001b[1;33m,\u001b[0m \u001b[0mn\u001b[0m\u001b[1;33m)\u001b[0m\u001b[1;33m)\u001b[0m\u001b[1;33m,\u001b[0m\u001b[1;33m\u001b[0m\u001b[1;33m\u001b[0m\u001b[0m\n",
      "\u001b[1;32m~\\AppData\\Local\\Continuum\\anaconda3\\envs\\probabilistic\\lib\\site-packages\\pymc3\\distributions\\dist_math.py\u001b[0m in \u001b[0;36mlogpow\u001b[1;34m(x, m)\u001b[0m\n\u001b[0;32m     68\u001b[0m     \"\"\"\n\u001b[0;32m     69\u001b[0m     \u001b[1;31m# return m * log(x)\u001b[0m\u001b[1;33m\u001b[0m\u001b[1;33m\u001b[0m\u001b[1;33m\u001b[0m\u001b[0m\n\u001b[1;32m---> 70\u001b[1;33m     \u001b[1;32mreturn\u001b[0m \u001b[0mtt\u001b[0m\u001b[1;33m.\u001b[0m\u001b[0mswitch\u001b[0m\u001b[1;33m(\u001b[0m\u001b[0mtt\u001b[0m\u001b[1;33m.\u001b[0m\u001b[0meq\u001b[0m\u001b[1;33m(\u001b[0m\u001b[0mx\u001b[0m\u001b[1;33m,\u001b[0m \u001b[1;36m0\u001b[0m\u001b[1;33m)\u001b[0m\u001b[1;33m,\u001b[0m \u001b[0mtt\u001b[0m\u001b[1;33m.\u001b[0m\u001b[0mswitch\u001b[0m\u001b[1;33m(\u001b[0m\u001b[0mtt\u001b[0m\u001b[1;33m.\u001b[0m\u001b[0meq\u001b[0m\u001b[1;33m(\u001b[0m\u001b[0mm\u001b[0m\u001b[1;33m,\u001b[0m \u001b[1;36m0\u001b[0m\u001b[1;33m)\u001b[0m\u001b[1;33m,\u001b[0m \u001b[1;36m0.0\u001b[0m\u001b[1;33m,\u001b[0m \u001b[1;33m-\u001b[0m\u001b[0mnp\u001b[0m\u001b[1;33m.\u001b[0m\u001b[0minf\u001b[0m\u001b[1;33m)\u001b[0m\u001b[1;33m,\u001b[0m \u001b[0mm\u001b[0m \u001b[1;33m*\u001b[0m \u001b[0mtt\u001b[0m\u001b[1;33m.\u001b[0m\u001b[0mlog\u001b[0m\u001b[1;33m(\u001b[0m\u001b[0mx\u001b[0m\u001b[1;33m)\u001b[0m\u001b[1;33m)\u001b[0m\u001b[1;33m\u001b[0m\u001b[1;33m\u001b[0m\u001b[0m\n\u001b[0m\u001b[0;32m     71\u001b[0m \u001b[1;33m\u001b[0m\u001b[0m\n\u001b[0;32m     72\u001b[0m \u001b[1;33m\u001b[0m\u001b[0m\n",
      "\u001b[1;32m~\\AppData\\Local\\Continuum\\anaconda3\\envs\\probabilistic\\lib\\site-packages\\theano\\tensor\\var.py\u001b[0m in \u001b[0;36m__mul__\u001b[1;34m(self, other)\u001b[0m\n\u001b[0;32m    153\u001b[0m         \u001b[1;31m# and the return value in that case\u001b[0m\u001b[1;33m\u001b[0m\u001b[1;33m\u001b[0m\u001b[1;33m\u001b[0m\u001b[0m\n\u001b[0;32m    154\u001b[0m         \u001b[1;32mtry\u001b[0m\u001b[1;33m:\u001b[0m\u001b[1;33m\u001b[0m\u001b[1;33m\u001b[0m\u001b[0m\n\u001b[1;32m--> 155\u001b[1;33m             \u001b[1;32mreturn\u001b[0m \u001b[0mtheano\u001b[0m\u001b[1;33m.\u001b[0m\u001b[0mtensor\u001b[0m\u001b[1;33m.\u001b[0m\u001b[0mmul\u001b[0m\u001b[1;33m(\u001b[0m\u001b[0mself\u001b[0m\u001b[1;33m,\u001b[0m \u001b[0mother\u001b[0m\u001b[1;33m)\u001b[0m\u001b[1;33m\u001b[0m\u001b[1;33m\u001b[0m\u001b[0m\n\u001b[0m\u001b[0;32m    156\u001b[0m         \u001b[1;32mexcept\u001b[0m \u001b[1;33m(\u001b[0m\u001b[0mNotImplementedError\u001b[0m\u001b[1;33m,\u001b[0m \u001b[0mAsTensorError\u001b[0m\u001b[1;33m)\u001b[0m\u001b[1;33m:\u001b[0m\u001b[1;33m\u001b[0m\u001b[1;33m\u001b[0m\u001b[0m\n\u001b[0;32m    157\u001b[0m             \u001b[1;32mreturn\u001b[0m \u001b[0mNotImplemented\u001b[0m\u001b[1;33m\u001b[0m\u001b[1;33m\u001b[0m\u001b[0m\n",
      "\u001b[1;32m~\\AppData\\Local\\Continuum\\anaconda3\\envs\\probabilistic\\lib\\site-packages\\theano\\gof\\op.py\u001b[0m in \u001b[0;36m__call__\u001b[1;34m(self, *inputs, **kwargs)\u001b[0m\n\u001b[0;32m    672\u001b[0m                 \u001b[0mthunk\u001b[0m\u001b[1;33m.\u001b[0m\u001b[0moutputs\u001b[0m \u001b[1;33m=\u001b[0m \u001b[1;33m[\u001b[0m\u001b[0mstorage_map\u001b[0m\u001b[1;33m[\u001b[0m\u001b[0mv\u001b[0m\u001b[1;33m]\u001b[0m \u001b[1;32mfor\u001b[0m \u001b[0mv\u001b[0m \u001b[1;32min\u001b[0m \u001b[0mnode\u001b[0m\u001b[1;33m.\u001b[0m\u001b[0moutputs\u001b[0m\u001b[1;33m]\u001b[0m\u001b[1;33m\u001b[0m\u001b[1;33m\u001b[0m\u001b[0m\n\u001b[0;32m    673\u001b[0m \u001b[1;33m\u001b[0m\u001b[0m\n\u001b[1;32m--> 674\u001b[1;33m                 \u001b[0mrequired\u001b[0m \u001b[1;33m=\u001b[0m \u001b[0mthunk\u001b[0m\u001b[1;33m(\u001b[0m\u001b[1;33m)\u001b[0m\u001b[1;33m\u001b[0m\u001b[1;33m\u001b[0m\u001b[0m\n\u001b[0m\u001b[0;32m    675\u001b[0m                 \u001b[1;32massert\u001b[0m \u001b[1;32mnot\u001b[0m \u001b[0mrequired\u001b[0m  \u001b[1;31m# We provided all inputs\u001b[0m\u001b[1;33m\u001b[0m\u001b[1;33m\u001b[0m\u001b[0m\n\u001b[0;32m    676\u001b[0m \u001b[1;33m\u001b[0m\u001b[0m\n",
      "\u001b[1;32m~\\AppData\\Local\\Continuum\\anaconda3\\envs\\probabilistic\\lib\\site-packages\\theano\\gof\\op.py\u001b[0m in \u001b[0;36mrval\u001b[1;34m()\u001b[0m\n\u001b[0;32m    860\u001b[0m \u001b[1;33m\u001b[0m\u001b[0m\n\u001b[0;32m    861\u001b[0m         \u001b[1;32mdef\u001b[0m \u001b[0mrval\u001b[0m\u001b[1;33m(\u001b[0m\u001b[1;33m)\u001b[0m\u001b[1;33m:\u001b[0m\u001b[1;33m\u001b[0m\u001b[1;33m\u001b[0m\u001b[0m\n\u001b[1;32m--> 862\u001b[1;33m             \u001b[0mthunk\u001b[0m\u001b[1;33m(\u001b[0m\u001b[1;33m)\u001b[0m\u001b[1;33m\u001b[0m\u001b[1;33m\u001b[0m\u001b[0m\n\u001b[0m\u001b[0;32m    863\u001b[0m             \u001b[1;32mfor\u001b[0m \u001b[0mo\u001b[0m \u001b[1;32min\u001b[0m \u001b[0mnode\u001b[0m\u001b[1;33m.\u001b[0m\u001b[0moutputs\u001b[0m\u001b[1;33m:\u001b[0m\u001b[1;33m\u001b[0m\u001b[1;33m\u001b[0m\u001b[0m\n\u001b[0;32m    864\u001b[0m                 \u001b[0mcompute_map\u001b[0m\u001b[1;33m[\u001b[0m\u001b[0mo\u001b[0m\u001b[1;33m]\u001b[0m\u001b[1;33m[\u001b[0m\u001b[1;36m0\u001b[0m\u001b[1;33m]\u001b[0m \u001b[1;33m=\u001b[0m \u001b[1;32mTrue\u001b[0m\u001b[1;33m\u001b[0m\u001b[1;33m\u001b[0m\u001b[0m\n",
      "\u001b[1;32m~\\AppData\\Local\\Continuum\\anaconda3\\envs\\probabilistic\\lib\\site-packages\\theano\\gof\\cc.py\u001b[0m in \u001b[0;36m__call__\u001b[1;34m(self)\u001b[0m\n\u001b[0;32m   1733\u001b[0m                 \u001b[0mprint\u001b[0m\u001b[1;33m(\u001b[0m\u001b[0mself\u001b[0m\u001b[1;33m.\u001b[0m\u001b[0merror_storage\u001b[0m\u001b[1;33m,\u001b[0m \u001b[0mfile\u001b[0m\u001b[1;33m=\u001b[0m\u001b[0msys\u001b[0m\u001b[1;33m.\u001b[0m\u001b[0mstderr\u001b[0m\u001b[1;33m)\u001b[0m\u001b[1;33m\u001b[0m\u001b[1;33m\u001b[0m\u001b[0m\n\u001b[0;32m   1734\u001b[0m                 \u001b[1;32mraise\u001b[0m\u001b[1;33m\u001b[0m\u001b[1;33m\u001b[0m\u001b[0m\n\u001b[1;32m-> 1735\u001b[1;33m             \u001b[0mreraise\u001b[0m\u001b[1;33m(\u001b[0m\u001b[0mexc_type\u001b[0m\u001b[1;33m,\u001b[0m \u001b[0mexc_value\u001b[0m\u001b[1;33m,\u001b[0m \u001b[0mexc_trace\u001b[0m\u001b[1;33m)\u001b[0m\u001b[1;33m\u001b[0m\u001b[1;33m\u001b[0m\u001b[0m\n\u001b[0m\u001b[0;32m   1736\u001b[0m \u001b[1;33m\u001b[0m\u001b[0m\n\u001b[0;32m   1737\u001b[0m \u001b[1;33m\u001b[0m\u001b[0m\n",
      "\u001b[1;32m~\\AppData\\Local\\Continuum\\anaconda3\\envs\\probabilistic\\lib\\site-packages\\six.py\u001b[0m in \u001b[0;36mreraise\u001b[1;34m(tp, value, tb)\u001b[0m\n\u001b[0;32m    691\u001b[0m             \u001b[1;32mif\u001b[0m \u001b[0mvalue\u001b[0m\u001b[1;33m.\u001b[0m\u001b[0m__traceback__\u001b[0m \u001b[1;32mis\u001b[0m \u001b[1;32mnot\u001b[0m \u001b[0mtb\u001b[0m\u001b[1;33m:\u001b[0m\u001b[1;33m\u001b[0m\u001b[1;33m\u001b[0m\u001b[0m\n\u001b[0;32m    692\u001b[0m                 \u001b[1;32mraise\u001b[0m \u001b[0mvalue\u001b[0m\u001b[1;33m.\u001b[0m\u001b[0mwith_traceback\u001b[0m\u001b[1;33m(\u001b[0m\u001b[0mtb\u001b[0m\u001b[1;33m)\u001b[0m\u001b[1;33m\u001b[0m\u001b[1;33m\u001b[0m\u001b[0m\n\u001b[1;32m--> 693\u001b[1;33m             \u001b[1;32mraise\u001b[0m \u001b[0mvalue\u001b[0m\u001b[1;33m\u001b[0m\u001b[1;33m\u001b[0m\u001b[0m\n\u001b[0m\u001b[0;32m    694\u001b[0m         \u001b[1;32mfinally\u001b[0m\u001b[1;33m:\u001b[0m\u001b[1;33m\u001b[0m\u001b[1;33m\u001b[0m\u001b[0m\n\u001b[0;32m    695\u001b[0m             \u001b[0mvalue\u001b[0m \u001b[1;33m=\u001b[0m \u001b[1;32mNone\u001b[0m\u001b[1;33m\u001b[0m\u001b[1;33m\u001b[0m\u001b[0m\n",
      "\u001b[1;31mValueError\u001b[0m: Input dimension mis-match. (input[0].shape[1] = 1989, input[1].shape[1] = 16)"
     ]
    }
   ],
   "source": [
    "with pm.Model() as model:\n",
    "    \n",
    "    # initializes the Dirichlet distribution with a uniform prior:\n",
    "    a = np.ones(k) \n",
    "    \n",
    "    theta = pm.Dirichlet(\"theta\", a=a)\n",
    "    tmp = alpha*soc_probs + (1-alpha)*theta\n",
    "    results = pm.Multinomial(\"results\", n=n, p=tmp, shape=16, observed=y)"
   ]
  },
  {
   "cell_type": "code",
   "execution_count": null,
   "metadata": {},
   "outputs": [],
   "source": [
    "pm.model_to_graphviz(model)"
   ]
  },
  {
   "cell_type": "code",
   "execution_count": null,
   "metadata": {},
   "outputs": [],
   "source": [
    "with model:\n",
    "    step=pm.Metropolis()\n",
    "    trace = pm.sample(draws=1000, step=step) "
   ]
  },
  {
   "cell_type": "code",
   "execution_count": null,
   "metadata": {},
   "outputs": [],
   "source": [
    "with model:\n",
    "    pm.traceplot(trace, combined=True)"
   ]
  },
  {
   "cell_type": "code",
   "execution_count": null,
   "metadata": {},
   "outputs": [],
   "source": [
    "pm.summary(trace).round(2)[['mean']].T"
   ]
  },
  {
   "cell_type": "code",
   "execution_count": null,
   "metadata": {},
   "outputs": [],
   "source": [
    "pd.DataFrame(pd.DataFrame(coherence_matrix).iloc[sel_state]).T"
   ]
  },
  {
   "cell_type": "code",
   "execution_count": null,
   "metadata": {},
   "outputs": [],
   "source": [
    "axes = pm.plot_posterior(trace, \n",
    "                          varnames=[\"theta\"])\n",
    "for i, ax in enumerate(axes):\n",
    "    ax.set_title(f\"{i}\")"
   ]
  },
  {
   "cell_type": "code",
   "execution_count": null,
   "metadata": {},
   "outputs": [],
   "source": [
    "pd.DataFrame(pd.DataFrame(coherence_matrix).iloc[sel_state]).T"
   ]
  },
  {
   "cell_type": "code",
   "execution_count": null,
   "metadata": {},
   "outputs": [],
   "source": [
    "coherence_matrix"
   ]
  },
  {
   "cell_type": "code",
   "execution_count": null,
   "metadata": {},
   "outputs": [],
   "source": []
  }
 ],
 "metadata": {
  "kernelspec": {
   "display_name": "Python 3",
   "language": "python",
   "name": "python3"
  },
  "language_info": {
   "codemirror_mode": {
    "name": "ipython",
    "version": 3
   },
   "file_extension": ".py",
   "mimetype": "text/x-python",
   "name": "python",
   "nbconvert_exporter": "python",
   "pygments_lexer": "ipython3",
   "version": "3.7.4"
  }
 },
 "nbformat": 4,
 "nbformat_minor": 2
}
