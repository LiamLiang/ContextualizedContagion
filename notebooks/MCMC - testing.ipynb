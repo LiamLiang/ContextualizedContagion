{
 "cells": [
  {
   "cell_type": "code",
   "execution_count": 23,
   "metadata": {
    "collapsed": true
   },
   "outputs": [
    {
     "ename": "ModuleNotFoundError",
     "evalue": "No module named 'AgentClass'",
     "output_type": "error",
     "traceback": [
      "\u001b[1;31m---------------------------------------------------------------------------\u001b[0m",
      "\u001b[1;31mModuleNotFoundError\u001b[0m                       Traceback (most recent call last)",
      "\u001b[1;32m<ipython-input-23-ac6c91fe52e2>\u001b[0m in \u001b[0;36m<module>\u001b[1;34m\u001b[0m\n\u001b[0;32m      1\u001b[0m \u001b[1;32mimport\u001b[0m \u001b[0mnumpy\u001b[0m \u001b[1;32mas\u001b[0m \u001b[0mnp\u001b[0m\u001b[1;33m\u001b[0m\u001b[1;33m\u001b[0m\u001b[0m\n\u001b[0;32m      2\u001b[0m \u001b[1;32mimport\u001b[0m \u001b[0mpandas\u001b[0m \u001b[1;32mas\u001b[0m \u001b[0mpd\u001b[0m\u001b[1;33m\u001b[0m\u001b[1;33m\u001b[0m\u001b[0m\n\u001b[1;32m----> 3\u001b[1;33m \u001b[1;32mimport\u001b[0m \u001b[0mAgentClass\u001b[0m\u001b[1;33m\u001b[0m\u001b[1;33m\u001b[0m\u001b[0m\n\u001b[0m\u001b[0;32m      4\u001b[0m \u001b[1;32mimport\u001b[0m \u001b[0mconst\u001b[0m\u001b[1;33m\u001b[0m\u001b[1;33m\u001b[0m\u001b[0m\n\u001b[0;32m      5\u001b[0m \u001b[1;32mimport\u001b[0m \u001b[0mrandom\u001b[0m\u001b[1;33m\u001b[0m\u001b[1;33m\u001b[0m\u001b[0m\n",
      "\u001b[1;31mModuleNotFoundError\u001b[0m: No module named 'AgentClass'"
     ]
    }
   ],
   "source": [
    "import numpy as np\n",
    "import pandas as pd\n",
    "import AgentClass\n",
    "import const\n",
    "import random\n",
    "import networkx as nx\n",
    "from config import num_agents,number_of_bits\n",
    "from scipy import stats\n",
    "from collections import defaultdict\n",
    "import json\n",
    "import utilities"
   ]
  },
  {
   "cell_type": "code",
   "execution_count": 2,
   "metadata": {},
   "outputs": [],
   "source": [
    "def get_tau_distr():\n",
    "    lower = 0\n",
    "    upper = 1\n",
    "    mu = 0.5\n",
    "    sigma = 0.1\n",
    "    N = 1000\n",
    "\n",
    "    samples = stats.truncnorm.rvs(\n",
    "          (lower-mu)/sigma,(upper-mu)/sigma,loc=mu,scale=sigma,size=N)\n",
    "\n",
    "    return samples"
   ]
  },
  {
   "cell_type": "code",
   "execution_count": 3,
   "metadata": {},
   "outputs": [],
   "source": [
    "def create_environment():\n",
    "    list_agents = []\n",
    "    tau_distr = get_tau_distr()\n",
    "\n",
    "    for i in range(num_agents):\n",
    "        in_state = np.random.randint(2, size=number_of_bits).tolist()\n",
    "        a = AgentClass.Agent(name='agent{}'.format(i), tau=random.choice(tau_distr), initial_state=in_state)\n",
    "        list_agents.append(a)\n",
    "\n",
    "    # create network\n",
    "    G = nx.newman_watts_strogatz_graph(num_agents, 5, 0.5, seed= 0)\n",
    "#    nx.draw(G, with_labels=True, font_weight='bold') # to draw agents\n",
    "    df = nx.to_pandas_adjacency(G, dtype=int)\n",
    "\n",
    "    tmp_edges = df.apply(lambda row: row.to_numpy().nonzero()).to_dict()\n",
    "    edges = {k: v[0].tolist() for k, v in tmp_edges.items()}\n",
    "\n",
    "    # make random connections with agents\n",
    "    for k, v in edges.items():\n",
    "        for ngh in v:\n",
    "            list_agents[k].add_neighbors(list_agents[ngh])\n",
    "\n",
    "    return list_agents"
   ]
  },
  {
   "cell_type": "code",
   "execution_count": 4,
   "metadata": {},
   "outputs": [],
   "source": [
    "def get_network_df(list_agents):\n",
    "    network_df = pd.DataFrame({'Agent Name':[], 'Neighbors':[]})\n",
    "    for agt in list_agents:\n",
    "        neighbors = agt.get_neighbors_name()\n",
    "        network_df = network_df.append({'Agent Name':agt.name,\n",
    "                                        'Neighbors':neighbors}, ignore_index=True)\n",
    "    return network_df"
   ]
  },
  {
   "cell_type": "code",
   "execution_count": 5,
   "metadata": {},
   "outputs": [],
   "source": [
    "def run_simulation(alpha, const:const.Constants, list_agents, end_time):\n",
    "    d = []\n",
    "    generations = 0\n",
    "    for t in range(end_time):\n",
    "        # compute next state for all agents\n",
    "        for agt in list_agents:\n",
    "            agt.update_knowledge(alpha, const.coh_transition_matrix, const.bit_matrix)\n",
    "\n",
    "        # keep record of current record and all other values\n",
    "        for agt in list_agents:\n",
    "            row = {'Agent_Name':agt.name,\n",
    "                   'Agent_Dissonance':np.array(agt.dissonance_lst),\n",
    "                   'Time':t,\n",
    "                   'probs':agt.next_state_probs,\n",
    "                   'Current_Knowledge_State':agt.knowledge_state,\n",
    "                   'Next_Knowledge_State':agt.next_state}\n",
    "\n",
    "            d.append(row)\n",
    "\n",
    "        # now update all agents next state with computed next state\n",
    "        for agt in list_agents:\n",
    "            agt.knowledge_state = agt.next_state\n",
    "            agt.next_state = None\n",
    "            agt.dissonance_lst = None\n",
    "\n",
    "        generations+=1\n",
    "#         if generations%10 == 0:\n",
    "#             print(\"alpha = {}; {} generations\".format(alpha,generations))\n",
    "\n",
    "    return pd.DataFrame(d)"
   ]
  },
  {
   "cell_type": "code",
   "execution_count": 6,
   "metadata": {},
   "outputs": [],
   "source": [
    " # constants intialization\n",
    "end_simulation_time = 1000\n",
    "alphas = [0.7]\n",
    "exp_times = 1\n",
    "\n",
    "# first create environment\n",
    "agents_list = create_environment()\n",
    "\n",
    "# get network of the agents\n",
    "agent_network_df = get_network_df(agents_list)\n",
    "\n",
    "results = {}\n",
    "\n",
    "# for saving\n",
    "agent_network_df.to_json('test_network.json',orient='records', lines=True)\n",
    "\n",
    "for i in range(exp_times):\n",
    "\n",
    "    random.seed(i)\n",
    "    results['seed'] = i\n",
    "\n",
    "    constants = const.Constants()\n",
    "\n",
    "    results['coherence_matrix'] = coherence_matrix = constants.get_coh_tx_matrix().tolist()\n",
    "\n",
    "\n",
    "    results['alphas'] = defaultdict(list)\n",
    "\n",
    "    # run simulation\n",
    "    for alpha in alphas:\n",
    "#            record_df = pd.DataFrame({'Agent_Name':[], 'Agent_Dissonance':[], 'Time':[], 'Current_Knowledge_State':[], 'Next_Knowledge_State':[]})\n",
    "\n",
    "        record_df = run_simulation(alpha, constants, agents_list, end_simulation_time)\n",
    "#         results['alphas'][alpha].append(record_df.to_json(orient='records', lines=True))"
   ]
  },
  {
   "cell_type": "code",
   "execution_count": 7,
   "metadata": {},
   "outputs": [],
   "source": [
    "knowledge_states = record_df['Current_Knowledge_State'].tolist()\n",
    "int_knowledge_vals = np.array([utilities.bool2int(i) for i in knowledge_states])\n",
    "K = np.zeros((len(int_knowledge_vals), 2**number_of_bits))\n",
    "K[np.arange(len(int_knowledge_vals)), int_knowledge_vals] = 1\n",
    "\n",
    "\n",
    "next_states = record_df['Next_Knowledge_State'].tolist()\n",
    "int_nextstates_vals = np.array([utilities.bool2int(i) for i in next_states])\n",
    "N = np.zeros((len(int_nextstates_vals), 2**number_of_bits))\n",
    "N[np.arange(len(int_nextstates_vals)), int_nextstates_vals] = 1\n",
    "\n",
    "soc_probs = record_df['probs'].tolist()\n"
   ]
  },
  {
   "cell_type": "code",
   "execution_count": 8,
   "metadata": {},
   "outputs": [
    {
     "data": {
      "text/plain": [
       "20000"
      ]
     },
     "execution_count": 8,
     "metadata": {},
     "output_type": "execute_result"
    }
   ],
   "source": [
    "len(int_nextstates_vals)"
   ]
  },
  {
   "cell_type": "code",
   "execution_count": null,
   "metadata": {},
   "outputs": [],
   "source": []
  },
  {
   "cell_type": "code",
   "execution_count": 9,
   "metadata": {},
   "outputs": [],
   "source": [
    "# pandas and numpy for data manipulation\n",
    "import pandas as pd\n",
    "import numpy as np\n",
    "\n",
    "# scipy for algorithms\n",
    "import scipy\n",
    "from scipy import stats\n",
    "\n",
    "# pymc3 for Bayesian Inference, pymc built on t\n",
    "import pymc3 as pm\n",
    "import theano.tensor as tt\n",
    "import scipy\n",
    "from scipy import optimize\n",
    "\n",
    "# matplotlib for plotting\n",
    "import matplotlib.pyplot as plt\n",
    "%matplotlib inline\n",
    "from IPython.core.pylabtools import figsize\n",
    "import matplotlib\n",
    "\n",
    "import json\n",
    "\n",
    "matplotlib.rcParams['figure.figsize'] = (10, 3)\n",
    "matplotlib.rcParams['font.size'] = 14\n",
    "matplotlib.rcParams['ytick.major.size'] = 20\n",
    "\n",
    "# Number of samples for Markov Chain Monte Carlo\n",
    "N_SAMPLES = 500"
   ]
  },
  {
   "cell_type": "code",
   "execution_count": 10,
   "metadata": {},
   "outputs": [],
   "source": [
    "import seaborn as sns"
   ]
  },
  {
   "cell_type": "code",
   "execution_count": 11,
   "metadata": {},
   "outputs": [
    {
     "data": {
      "text/plain": [
       "<matplotlib.axes._subplots.AxesSubplot at 0x23162a77088>"
      ]
     },
     "execution_count": 11,
     "metadata": {},
     "output_type": "execute_result"
    },
    {
     "data": {
      "image/png": "[encoded data removed]",
      "text/plain": [
       "<Figure size 432x288 with 1 Axes>"
      ]
     },
     "metadata": {
      "needs_background": "light"
     },
     "output_type": "display_data"
    }
   ],
   "source": [
    "tmp_dataframe = pd.DataFrame(int_nextstates_vals)\n",
    "tmp_dataframe.columns = ['states']\n",
    "sns.countplot(x='states', data=tmp_dataframe)"
   ]
  },
  {
   "cell_type": "code",
   "execution_count": 12,
   "metadata": {},
   "outputs": [],
   "source": [
    "import theano as T\n",
    "import theano.tensor as tt"
   ]
  },
  {
   "cell_type": "code",
   "execution_count": 13,
   "metadata": {},
   "outputs": [],
   "source": [
    "# alphas = np.array([1, 1, 1])"
   ]
  },
  {
   "cell_type": "code",
   "execution_count": 17,
   "metadata": {},
   "outputs": [
    {
     "name": "stdout",
     "output_type": "stream",
     "text": [
      "output_fun __str__ = [20000     4]\n",
      "tmp __str__ = [20000]\n"
     ]
    },
    {
     "name": "stderr",
     "output_type": "stream",
     "text": [
      "Auto-assigning NUTS sampler...\n",
      "Initializing NUTS using jitter+adapt_diag...\n",
      "Sequential sampling (2 chains in 1 job)\n",
      "NUTS: [sigma, meta, alpha]\n",
      "100%|████████████████████████████████████████████████████████████████████████████████| 600/600 [05:26<00:00,  1.61it/s]\n",
      "100%|████████████████████████████████████████████████████████████████████████████████| 600/600 [05:47<00:00,  1.60it/s]\n",
      "The acceptance probability does not match the target. It is 0.7198909984236362, but should be close to 0.8. Try to increase the number of tuning steps.\n",
      "The chain reached the maximum tree depth. Increase max_treedepth, increase target_accept or reparameterize.\n",
      "The acceptance probability does not match the target. It is 0.7085743252496449, but should be close to 0.8. Try to increase the number of tuning steps.\n",
      "The chain reached the maximum tree depth. Increase max_treedepth, increase target_accept or reparameterize.\n",
      "The gelman-rubin statistic is larger than 1.4 for some parameters. The sampler did not converge.\n",
      "The estimated number of effective samples is smaller than 200 for some parameters.\n"
     ]
    }
   ],
   "source": [
    "with pm.Model() as model:\n",
    "    # Create the alpha and beta parameters\n",
    "    BoundedNormal = pm.Bound(pm.Normal, lower=0.0, upper=1.0)\n",
    "    alpha = pm.Uniform('alpha', 0, 1)\n",
    "\n",
    "    meta = pm.Dirichlet('meta', np.ones((2**number_of_bits, 2**number_of_bits)), shape=(2**number_of_bits, 2**number_of_bits))\n",
    "\n",
    "    \n",
    "    # Need to fix the output_fun\n",
    "    output_fun =  alpha * np.array(soc_probs) + (1-alpha) * T.dot(K, meta)\n",
    "    tmp = output_fun.argmax(axis=1)\n",
    "    tt.printing.Print('output_fun')(output_fun.shape)\n",
    "    tt.printing.Print('tmp')(tmp.shape)\n",
    "    \n",
    "    p = pm.Deterministic('p', tmp)\n",
    "    sigma = pm.HalfNormal('sigma', sd=1)\n",
    "\n",
    "    # Create the bernoulli parameter which uses the observed dat\n",
    "    observed = pm.Normal('obs', sd=sigma, mu=p, observed=int_nextstates_vals)\n",
    "    \n",
    "    # Hamiltonian MCMC with No U-Turn Sampler\n",
    "\n",
    "    # Sample from the posterior using the sampling method\n",
    "    trace = pm.sample(N_SAMPLES, njobs=1, tune=100);"
   ]
  },
  {
   "cell_type": "code",
   "execution_count": 18,
   "metadata": {},
   "outputs": [
    {
     "name": "stdout",
     "output_type": "stream",
     "text": [
      "tmp __str__ = [0 1 1 1 1 0 1 0 0 0]\n"
     ]
    },
    {
     "data": {
      "text/plain": [
       "Print{message='tmp', attrs=('__str__',), global_fn=<function _print_fn at 0x000002315FCBA168>}.0"
      ]
     },
     "execution_count": 18,
     "metadata": {},
     "output_type": "execute_result"
    }
   ],
   "source": [
    "tt.printing.Print('tmp')(tmp[500:510])"
   ]
  },
  {
   "cell_type": "code",
   "execution_count": 1,
   "metadata": {},
   "outputs": [
    {
     "ename": "NameError",
     "evalue": "name 'int_nextstates_vals' is not defined",
     "output_type": "error",
     "traceback": [
      "\u001b[1;31m---------------------------------------------------------------------------\u001b[0m",
      "\u001b[1;31mNameError\u001b[0m                                 Traceback (most recent call last)",
      "\u001b[1;32m<ipython-input-1-f241f4508309>\u001b[0m in \u001b[0;36m<module>\u001b[1;34m\u001b[0m\n\u001b[1;32m----> 1\u001b[1;33m \u001b[0mint_nextstates_vals\u001b[0m\u001b[1;33m[\u001b[0m\u001b[1;36m500\u001b[0m\u001b[1;33m:\u001b[0m\u001b[1;36m510\u001b[0m\u001b[1;33m]\u001b[0m\u001b[1;33m\u001b[0m\u001b[1;33m\u001b[0m\u001b[0m\n\u001b[0m",
      "\u001b[1;31mNameError\u001b[0m: name 'int_nextstates_vals' is not defined"
     ]
    }
   ],
   "source": [
    "int_nextstates_vals[500:510]"
   ]
  },
  {
   "cell_type": "code",
   "execution_count": 29,
   "metadata": {},
   "outputs": [
    {
     "data": {
      "text/plain": [
       "0.5458978599548315"
      ]
     },
     "execution_count": 29,
     "metadata": {},
     "output_type": "execute_result"
    }
   ],
   "source": [
    "trace['alpha'][100:].mean()"
   ]
  },
  {
   "cell_type": "code",
   "execution_count": 28,
   "metadata": {},
   "outputs": [
    {
     "data": {
      "text/plain": [
       "array([[0.21175123, 0.34195696, 0.26728912, 0.17900269],\n",
       "       [0.27936777, 0.16949744, 0.27716835, 0.27396645],\n",
       "       [0.24421428, 0.25812373, 0.18346122, 0.31420077],\n",
       "       [0.38440294, 0.11933941, 0.20571457, 0.29054308]])"
      ]
     },
     "execution_count": 28,
     "metadata": {},
     "output_type": "execute_result"
    }
   ],
   "source": [
    "trace['meta'][100:].mean(axis=0)"
   ]
  },
  {
   "cell_type": "code",
   "execution_count": 30,
   "metadata": {},
   "outputs": [
    {
     "data": {
      "text/plain": [
       "[[0.0, 1.0, 0.0, 0.0],\n",
       " [1.0, 0.0, 0.0, 0.0],\n",
       " [0.0, 0.0, 1.0, 0.0],\n",
       " [0.0, 0.0, 1.0, 0.0]]"
      ]
     },
     "execution_count": 30,
     "metadata": {},
     "output_type": "execute_result"
    }
   ],
   "source": [
    "coherence_matrix"
   ]
  },
  {
   "cell_type": "code",
   "execution_count": null,
   "metadata": {},
   "outputs": [],
   "source": []
  }
 ],
 "metadata": {
  "kernelspec": {
   "display_name": "Python 3",
   "language": "python",
   "name": "python3"
  },
  "language_info": {
   "codemirror_mode": {
    "name": "ipython",
    "version": 3
   },
   "file_extension": ".py",
   "mimetype": "text/x-python",
   "name": "python",
   "nbconvert_exporter": "python",
   "pygments_lexer": "ipython3",
   "version": "3.7.6"
  }
 },
 "nbformat": 4,
 "nbformat_minor": 2
}
