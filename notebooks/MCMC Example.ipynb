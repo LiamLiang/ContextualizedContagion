{
 "cells": [
  {
   "cell_type": "markdown",
   "metadata": {},
   "source": [
    "This notebook is for testing MCMC with toy example. The number of bits were changed to 3 in config file for this example."
   ]
  },
  {
   "cell_type": "code",
   "execution_count": 1,
   "metadata": {},
   "outputs": [],
   "source": [
    "# Importing libraries\n",
    "import pandas as pd\n",
    "import numpy as np\n",
    "import random\n",
    "from random import shuffle, randrange\n",
    "from collections import defaultdict\n",
    "import utilities\n",
    "\n",
    "import matplotlib.pyplot as plt\n",
    "import seaborn as sns\n",
    "\n",
    "import json\n",
    "\n",
    "import AgentClass\n",
    "import const\n",
    "import networkx as nx\n",
    "from config import num_agents,number_of_bits\n",
    "from scipy import stats\n",
    "from collections import defaultdict\n",
    "import copy"
   ]
  },
  {
   "cell_type": "code",
   "execution_count": 2,
   "metadata": {},
   "outputs": [],
   "source": [
    "%matplotlib inline"
   ]
  },
  {
   "cell_type": "code",
   "execution_count": 3,
   "metadata": {},
   "outputs": [],
   "source": [
    "def get_tau_distr():\n",
    "        lower = 0\n",
    "        upper = 1\n",
    "        mu = 0.5\n",
    "        sigma = 0.1\n",
    "        N = 1000\n",
    "        \n",
    "        samples = stats.truncnorm.rvs(\n",
    "          (lower-mu)/sigma,(upper-mu)/sigma,loc=mu,scale=sigma,size=N)\n",
    "        \n",
    "        return samples"
   ]
  },
  {
   "cell_type": "code",
   "execution_count": 4,
   "metadata": {},
   "outputs": [],
   "source": [
    "def create_environment():\n",
    "    list_agents = []\n",
    "    tau_distr = get_tau_distr()\n",
    "    \n",
    "    for i in range(num_agents):\n",
    "        in_state = np.random.randint(2, size=number_of_bits).tolist()\n",
    "        a = AgentClass.Agent(name='agent{}'.format(i), tau=random.choice(tau_distr), initial_state=in_state)\n",
    "        list_agents.append(a)\n",
    "        \n",
    "    # create network\n",
    "    G = nx.newman_watts_strogatz_graph(num_agents, 10, 0.5, seed= 0)\n",
    "#    nx.draw(G, with_labels=True, font_weight='bold') # to draw agents\n",
    "    df = nx.to_pandas_adjacency(G, dtype=int)\n",
    "    \n",
    "    tmp_edges = df.apply(lambda row: row.to_numpy().nonzero()).to_dict()\n",
    "    edges = {k: v[0].tolist() for k, v in tmp_edges.items()}\n",
    "    \n",
    "    # make random connections with agents\n",
    "    for k, v in edges.items():\n",
    "        for ngh in v:\n",
    "            list_agents[k].add_neighbors(list_agents[ngh])\n",
    "            \n",
    "    return list_agents"
   ]
  },
  {
   "cell_type": "code",
   "execution_count": 5,
   "metadata": {},
   "outputs": [],
   "source": [
    "def get_network_df(list_agents):\n",
    "    network_df = pd.DataFrame({'Agent Name':[], 'Neighbors':[]})\n",
    "    for agt in list_agents:\n",
    "        neighbors = agt.get_neighbors_name()\n",
    "        network_df = network_df.append({'Agent Name':agt.name, \n",
    "                                        'Neighbors':neighbors}, ignore_index=True)\n",
    "    return network_df"
   ]
  },
  {
   "cell_type": "code",
   "execution_count": 6,
   "metadata": {},
   "outputs": [],
   "source": [
    "def run_simulation(alpha, coh_matrix, list_agents, end_time):\n",
    "    d = []\n",
    "    for t in range(end_time):    \n",
    "        # compute next state for all agents\n",
    "        for agt in list_agents:\n",
    "            agt.update_knowledge(alpha, coh_matrix) \n",
    "         \n",
    "        # keep record of current record and all other values\n",
    "        for agt in list_agents:\n",
    "            row = {'Agent_Name':agt.name,\n",
    "                   'Agent_Dissonance':agt.dissonance_lst,\n",
    "                   'Time':t,\n",
    "                   'Current State':agt.knowledge_state,\n",
    "                   'Next State':agt.next_state}\n",
    "            \n",
    "            d.append(row)\n",
    "        \n",
    "        # now update all agents next state with computed next state\n",
    "        for agt in list_agents:\n",
    "            agt.knowledge_state = agt.next_state\n",
    "            agt.next_state = None\n",
    "            agt.dissonance_lst = None\n",
    "            \n",
    "    return pd.DataFrame(d)"
   ]
  },
  {
   "cell_type": "code",
   "execution_count": 7,
   "metadata": {},
   "outputs": [],
   "source": [
    "# kbits_dict = defaultdict(list)\n",
    "\n",
    "\n",
    "# for i in range(10):\n",
    "#     kbits_dict['State'].append(i)\n",
    "#     kbits_dict['binary'].append('{0:02b}'.format(i))\n",
    "    \n",
    "#     kbits_dict['binary_list'].append(list('{0:04b}'.format(i))[::-1])\n",
    "\n",
    "# kbits_mapper_df = pd.DataFrame(kbits_dict)\n",
    "# kbits_mapper_df.set_index('State', inplace=True)\n",
    "# kbits_mapper_df.drop('binary', inplace=True, axis=1)\n",
    "# kbits_mapper_df_dict = kbits_mapper_df.to_dict(orient='index')"
   ]
  },
  {
   "cell_type": "code",
   "execution_count": 8,
   "metadata": {},
   "outputs": [],
   "source": [
    "# '{0:04b}'.format(1)"
   ]
  },
  {
   "cell_type": "markdown",
   "metadata": {},
   "source": [
    "# Running simulation"
   ]
  },
  {
   "cell_type": "code",
   "execution_count": 9,
   "metadata": {},
   "outputs": [],
   "source": [
    "random.seed(1)\n",
    "np.random.seed(1)\n",
    "end_simulation_time = 100\n",
    "alphas = [0.5]\n",
    "    \n",
    "# first create environment\n",
    "agents_list = create_environment()\n",
    "    \n",
    "# get network of the agents\n",
    "agent_network_df = get_network_df(agents_list) \n",
    "        \n",
    "# for saving\n",
    "# agent_network_df.to_json('simulations_new/test_network.json',orient='records', lines=True)\n",
    "                \n",
    "constants = const.Constants()\n",
    "coherence_matrix = constants.get_coh_matrix().tolist()        \n",
    "    \n",
    "# run simulation\n",
    "for alpha in alphas:\n",
    "    \n",
    "    record_df = run_simulation(alpha, coherence_matrix, copy.deepcopy(agents_list), end_simulation_time)\n",
    "    record_df['Current State'] = record_df['Current State'].apply(lambda row: utilities.bool2int(row))\n",
    "    record_df['Next State'] = record_df['Next State'].apply(lambda row: utilities.bool2int(row))\n",
    "    df = record_df.groupby(['Current State', 'Next State']).size().to_frame('Count').reset_index()"
   ]
  },
  {
   "cell_type": "code",
   "execution_count": 10,
   "metadata": {},
   "outputs": [
    {
     "data": {
      "text/html": [
       "<div>\n",
       "<style scoped>\n",
       "    .dataframe tbody tr th:only-of-type {\n",
       "        vertical-align: middle;\n",
       "    }\n",
       "\n",
       "    .dataframe tbody tr th {\n",
       "        vertical-align: top;\n",
       "    }\n",
       "\n",
       "    .dataframe thead th {\n",
       "        text-align: right;\n",
       "    }\n",
       "</style>\n",
       "<table border=\"1\" class=\"dataframe\">\n",
       "  <thead>\n",
       "    <tr style=\"text-align: right;\">\n",
       "      <th></th>\n",
       "      <th>Agent_Name</th>\n",
       "      <th>Agent_Dissonance</th>\n",
       "      <th>Time</th>\n",
       "      <th>Current State</th>\n",
       "      <th>Next State</th>\n",
       "    </tr>\n",
       "  </thead>\n",
       "  <tbody>\n",
       "    <tr>\n",
       "      <td>0</td>\n",
       "      <td>agent0</td>\n",
       "      <td>[0.1312755144691944, 0.38273323822517796, 0.38...</td>\n",
       "      <td>0</td>\n",
       "      <td>3</td>\n",
       "      <td>3</td>\n",
       "    </tr>\n",
       "    <tr>\n",
       "      <td>1</td>\n",
       "      <td>agent1</td>\n",
       "      <td>[0.1339821467687179, 0.32665751559233436, 0.41...</td>\n",
       "      <td>0</td>\n",
       "      <td>3</td>\n",
       "      <td>3</td>\n",
       "    </tr>\n",
       "    <tr>\n",
       "      <td>2</td>\n",
       "      <td>agent2</td>\n",
       "      <td>[0.041093071215441285, 0.5866286134334713, 0.2...</td>\n",
       "      <td>0</td>\n",
       "      <td>5</td>\n",
       "      <td>5</td>\n",
       "    </tr>\n",
       "    <tr>\n",
       "      <td>3</td>\n",
       "      <td>agent3</td>\n",
       "      <td>[0.1648226993283943, 0.1648226993283943, 0.810...</td>\n",
       "      <td>0</td>\n",
       "      <td>7</td>\n",
       "      <td>6</td>\n",
       "    </tr>\n",
       "    <tr>\n",
       "      <td>4</td>\n",
       "      <td>agent4</td>\n",
       "      <td>[0.2447973505213831, 0.34829200110176955, 0.34...</td>\n",
       "      <td>0</td>\n",
       "      <td>3</td>\n",
       "      <td>7</td>\n",
       "    </tr>\n",
       "  </tbody>\n",
       "</table>\n",
       "</div>"
      ],
      "text/plain": [
       "  Agent_Name                                   Agent_Dissonance  Time  \\\n",
       "0     agent0  [0.1312755144691944, 0.38273323822517796, 0.38...     0   \n",
       "1     agent1  [0.1339821467687179, 0.32665751559233436, 0.41...     0   \n",
       "2     agent2  [0.041093071215441285, 0.5866286134334713, 0.2...     0   \n",
       "3     agent3  [0.1648226993283943, 0.1648226993283943, 0.810...     0   \n",
       "4     agent4  [0.2447973505213831, 0.34829200110176955, 0.34...     0   \n",
       "\n",
       "   Current State  Next State  \n",
       "0              3           3  \n",
       "1              3           3  \n",
       "2              5           5  \n",
       "3              7           6  \n",
       "4              3           7  "
      ]
     },
     "execution_count": 10,
     "metadata": {},
     "output_type": "execute_result"
    }
   ],
   "source": [
    "record_df.head()"
   ]
  },
  {
   "cell_type": "code",
   "execution_count": 11,
   "metadata": {},
   "outputs": [
    {
     "data": {
      "text/html": [
       "<div>\n",
       "<style scoped>\n",
       "    .dataframe tbody tr th:only-of-type {\n",
       "        vertical-align: middle;\n",
       "    }\n",
       "\n",
       "    .dataframe tbody tr th {\n",
       "        vertical-align: top;\n",
       "    }\n",
       "\n",
       "    .dataframe thead th {\n",
       "        text-align: right;\n",
       "    }\n",
       "</style>\n",
       "<table border=\"1\" class=\"dataframe\">\n",
       "  <thead>\n",
       "    <tr style=\"text-align: right;\">\n",
       "      <th></th>\n",
       "      <th>Current State</th>\n",
       "      <th>Next State</th>\n",
       "      <th>Count</th>\n",
       "    </tr>\n",
       "  </thead>\n",
       "  <tbody>\n",
       "    <tr>\n",
       "      <td>54</td>\n",
       "      <td>6</td>\n",
       "      <td>6</td>\n",
       "      <td>764</td>\n",
       "    </tr>\n",
       "    <tr>\n",
       "      <td>52</td>\n",
       "      <td>6</td>\n",
       "      <td>4</td>\n",
       "      <td>651</td>\n",
       "    </tr>\n",
       "    <tr>\n",
       "      <td>62</td>\n",
       "      <td>7</td>\n",
       "      <td>6</td>\n",
       "      <td>396</td>\n",
       "    </tr>\n",
       "    <tr>\n",
       "      <td>18</td>\n",
       "      <td>2</td>\n",
       "      <td>2</td>\n",
       "      <td>374</td>\n",
       "    </tr>\n",
       "    <tr>\n",
       "      <td>36</td>\n",
       "      <td>4</td>\n",
       "      <td>4</td>\n",
       "      <td>356</td>\n",
       "    </tr>\n",
       "  </tbody>\n",
       "</table>\n",
       "</div>"
      ],
      "text/plain": [
       "    Current State  Next State  Count\n",
       "54              6           6    764\n",
       "52              6           4    651\n",
       "62              7           6    396\n",
       "18              2           2    374\n",
       "36              4           4    356"
      ]
     },
     "execution_count": 11,
     "metadata": {},
     "output_type": "execute_result"
    }
   ],
   "source": [
    "df.sort_values(by='Count', ascending=False).head()"
   ]
  },
  {
   "cell_type": "code",
   "execution_count": null,
   "metadata": {},
   "outputs": [],
   "source": []
  },
  {
   "cell_type": "code",
   "execution_count": 12,
   "metadata": {},
   "outputs": [
    {
     "data": {
      "text/html": [
       "<div>\n",
       "<style scoped>\n",
       "    .dataframe tbody tr th:only-of-type {\n",
       "        vertical-align: middle;\n",
       "    }\n",
       "\n",
       "    .dataframe tbody tr th {\n",
       "        vertical-align: top;\n",
       "    }\n",
       "\n",
       "    .dataframe thead th {\n",
       "        text-align: right;\n",
       "    }\n",
       "</style>\n",
       "<table border=\"1\" class=\"dataframe\">\n",
       "  <thead>\n",
       "    <tr style=\"text-align: right;\">\n",
       "      <th></th>\n",
       "      <th>0</th>\n",
       "      <th>1</th>\n",
       "      <th>2</th>\n",
       "    </tr>\n",
       "  </thead>\n",
       "  <tbody>\n",
       "    <tr>\n",
       "      <td>0</td>\n",
       "      <td>0.209442</td>\n",
       "      <td>0.837769</td>\n",
       "      <td>0.418884</td>\n",
       "    </tr>\n",
       "    <tr>\n",
       "      <td>1</td>\n",
       "      <td>0.603567</td>\n",
       "      <td>0.301783</td>\n",
       "      <td>0.150892</td>\n",
       "    </tr>\n",
       "    <tr>\n",
       "      <td>2</td>\n",
       "      <td>0.661974</td>\n",
       "      <td>0.165493</td>\n",
       "      <td>0.330987</td>\n",
       "    </tr>\n",
       "    <tr>\n",
       "      <td>3</td>\n",
       "      <td>0.321610</td>\n",
       "      <td>0.160805</td>\n",
       "      <td>0.643220</td>\n",
       "    </tr>\n",
       "    <tr>\n",
       "      <td>4</td>\n",
       "      <td>0.153184</td>\n",
       "      <td>0.306368</td>\n",
       "      <td>0.612735</td>\n",
       "    </tr>\n",
       "    <tr>\n",
       "      <td>5</td>\n",
       "      <td>0.447452</td>\n",
       "      <td>0.894904</td>\n",
       "      <td>0.223726</td>\n",
       "    </tr>\n",
       "    <tr>\n",
       "      <td>6</td>\n",
       "      <td>0.312030</td>\n",
       "      <td>0.624059</td>\n",
       "      <td>0.156015</td>\n",
       "    </tr>\n",
       "    <tr>\n",
       "      <td>7</td>\n",
       "      <td>0.859535</td>\n",
       "      <td>0.429768</td>\n",
       "      <td>0.214884</td>\n",
       "    </tr>\n",
       "  </tbody>\n",
       "</table>\n",
       "</div>"
      ],
      "text/plain": [
       "          0         1         2\n",
       "0  0.209442  0.837769  0.418884\n",
       "1  0.603567  0.301783  0.150892\n",
       "2  0.661974  0.165493  0.330987\n",
       "3  0.321610  0.160805  0.643220\n",
       "4  0.153184  0.306368  0.612735\n",
       "5  0.447452  0.894904  0.223726\n",
       "6  0.312030  0.624059  0.156015\n",
       "7  0.859535  0.429768  0.214884"
      ]
     },
     "execution_count": 12,
     "metadata": {},
     "output_type": "execute_result"
    }
   ],
   "source": [
    "pd.DataFrame(coherence_matrix)"
   ]
  },
  {
   "cell_type": "code",
   "execution_count": 13,
   "metadata": {},
   "outputs": [
    {
     "data": {
      "text/html": [
       "<div>\n",
       "<style scoped>\n",
       "    .dataframe tbody tr th:only-of-type {\n",
       "        vertical-align: middle;\n",
       "    }\n",
       "\n",
       "    .dataframe tbody tr th {\n",
       "        vertical-align: top;\n",
       "    }\n",
       "\n",
       "    .dataframe thead th {\n",
       "        text-align: right;\n",
       "    }\n",
       "</style>\n",
       "<table border=\"1\" class=\"dataframe\">\n",
       "  <thead>\n",
       "    <tr style=\"text-align: right;\">\n",
       "      <th></th>\n",
       "      <th>Agent_Name</th>\n",
       "      <th>Agent_Dissonance</th>\n",
       "      <th>Time</th>\n",
       "      <th>Current State</th>\n",
       "      <th>Next State</th>\n",
       "    </tr>\n",
       "  </thead>\n",
       "  <tbody>\n",
       "    <tr>\n",
       "      <td>0</td>\n",
       "      <td>agent0</td>\n",
       "      <td>[0.1312755144691944, 0.38273323822517796, 0.38...</td>\n",
       "      <td>0</td>\n",
       "      <td>3</td>\n",
       "      <td>3</td>\n",
       "    </tr>\n",
       "    <tr>\n",
       "      <td>1</td>\n",
       "      <td>agent1</td>\n",
       "      <td>[0.1339821467687179, 0.32665751559233436, 0.41...</td>\n",
       "      <td>0</td>\n",
       "      <td>3</td>\n",
       "      <td>3</td>\n",
       "    </tr>\n",
       "    <tr>\n",
       "      <td>2</td>\n",
       "      <td>agent2</td>\n",
       "      <td>[0.041093071215441285, 0.5866286134334713, 0.2...</td>\n",
       "      <td>0</td>\n",
       "      <td>5</td>\n",
       "      <td>5</td>\n",
       "    </tr>\n",
       "    <tr>\n",
       "      <td>3</td>\n",
       "      <td>agent3</td>\n",
       "      <td>[0.1648226993283943, 0.1648226993283943, 0.810...</td>\n",
       "      <td>0</td>\n",
       "      <td>7</td>\n",
       "      <td>6</td>\n",
       "    </tr>\n",
       "    <tr>\n",
       "      <td>4</td>\n",
       "      <td>agent4</td>\n",
       "      <td>[0.2447973505213831, 0.34829200110176955, 0.34...</td>\n",
       "      <td>0</td>\n",
       "      <td>3</td>\n",
       "      <td>7</td>\n",
       "    </tr>\n",
       "    <tr>\n",
       "      <td>...</td>\n",
       "      <td>...</td>\n",
       "      <td>...</td>\n",
       "      <td>...</td>\n",
       "      <td>...</td>\n",
       "      <td>...</td>\n",
       "    </tr>\n",
       "    <tr>\n",
       "      <td>9995</td>\n",
       "      <td>agent95</td>\n",
       "      <td>[0.24751671168287026, 0.24751671168287026, 0.3...</td>\n",
       "      <td>99</td>\n",
       "      <td>6</td>\n",
       "      <td>3</td>\n",
       "    </tr>\n",
       "    <tr>\n",
       "      <td>9996</td>\n",
       "      <td>agent96</td>\n",
       "      <td>[0.47769553595374353, 0.7009654255230753, 0.59...</td>\n",
       "      <td>99</td>\n",
       "      <td>6</td>\n",
       "      <td>6</td>\n",
       "    </tr>\n",
       "    <tr>\n",
       "      <td>9997</td>\n",
       "      <td>agent97</td>\n",
       "      <td>[0.05588887745794994, 0.6460435293341216, 0.76...</td>\n",
       "      <td>99</td>\n",
       "      <td>0</td>\n",
       "      <td>2</td>\n",
       "    </tr>\n",
       "    <tr>\n",
       "      <td>9998</td>\n",
       "      <td>agent98</td>\n",
       "      <td>[0.8326781774610197, 0.25693918300295604, 0.25...</td>\n",
       "      <td>99</td>\n",
       "      <td>7</td>\n",
       "      <td>4</td>\n",
       "    </tr>\n",
       "    <tr>\n",
       "      <td>9999</td>\n",
       "      <td>agent99</td>\n",
       "      <td>[0.04292148970367782, 0.5569568337991343, 0.04...</td>\n",
       "      <td>99</td>\n",
       "      <td>4</td>\n",
       "      <td>4</td>\n",
       "    </tr>\n",
       "  </tbody>\n",
       "</table>\n",
       "<p>10000 rows × 5 columns</p>\n",
       "</div>"
      ],
      "text/plain": [
       "     Agent_Name                                   Agent_Dissonance  Time  \\\n",
       "0        agent0  [0.1312755144691944, 0.38273323822517796, 0.38...     0   \n",
       "1        agent1  [0.1339821467687179, 0.32665751559233436, 0.41...     0   \n",
       "2        agent2  [0.041093071215441285, 0.5866286134334713, 0.2...     0   \n",
       "3        agent3  [0.1648226993283943, 0.1648226993283943, 0.810...     0   \n",
       "4        agent4  [0.2447973505213831, 0.34829200110176955, 0.34...     0   \n",
       "...         ...                                                ...   ...   \n",
       "9995    agent95  [0.24751671168287026, 0.24751671168287026, 0.3...    99   \n",
       "9996    agent96  [0.47769553595374353, 0.7009654255230753, 0.59...    99   \n",
       "9997    agent97  [0.05588887745794994, 0.6460435293341216, 0.76...    99   \n",
       "9998    agent98  [0.8326781774610197, 0.25693918300295604, 0.25...    99   \n",
       "9999    agent99  [0.04292148970367782, 0.5569568337991343, 0.04...    99   \n",
       "\n",
       "      Current State  Next State  \n",
       "0                 3           3  \n",
       "1                 3           3  \n",
       "2                 5           5  \n",
       "3                 7           6  \n",
       "4                 3           7  \n",
       "...             ...         ...  \n",
       "9995              6           3  \n",
       "9996              6           6  \n",
       "9997              0           2  \n",
       "9998              7           4  \n",
       "9999              4           4  \n",
       "\n",
       "[10000 rows x 5 columns]"
      ]
     },
     "execution_count": 13,
     "metadata": {},
     "output_type": "execute_result"
    }
   ],
   "source": [
    "record_df"
   ]
  },
  {
   "cell_type": "markdown",
   "metadata": {},
   "source": [
    "# Using pyMC3"
   ]
  },
  {
   "cell_type": "code",
   "execution_count": 14,
   "metadata": {},
   "outputs": [],
   "source": [
    "# pandas and numpy for data manipulation\n",
    "import pandas as pd\n",
    "import numpy as np\n",
    "\n",
    "# scipy for algorithms\n",
    "import scipy\n",
    "from scipy import stats\n",
    "\n",
    "# pymc3 for Bayesian Inference, pymc built on t\n",
    "import pymc3 as pm\n",
    "import theano.tensor as tt\n",
    "import scipy\n",
    "from scipy import optimize\n",
    "\n",
    "# matplotlib for plotting\n",
    "import matplotlib.pyplot as plt\n",
    "%matplotlib inline\n",
    "from IPython.core.pylabtools import figsize\n",
    "import matplotlib\n",
    "\n",
    "import json\n",
    "\n",
    "matplotlib.rcParams['figure.figsize'] = (10, 3)\n",
    "matplotlib.rcParams['font.size'] = 14\n",
    "matplotlib.rcParams['ytick.major.size'] = 20\n",
    "\n",
    "# Number of samples for Markov Chain Monte Carlo\n",
    "N_SAMPLES = 500"
   ]
  },
  {
   "cell_type": "code",
   "execution_count": 15,
   "metadata": {},
   "outputs": [],
   "source": [
    "def int2bool(val):\n",
    "    bin_values = '{0:0{size}b}'.format(val, size=number_of_bits)\n",
    "    return list(map(int, bin_values))"
   ]
  },
  {
   "cell_type": "code",
   "execution_count": 18,
   "metadata": {},
   "outputs": [],
   "source": [
    "with pm.Model() as model:\n",
    "    # Create the alpha and beta parameters\n",
    "    BoundedNormal = pm.Bound(pm.Normal, lower=0.0, upper=1.0)\n",
    "    alpha = pm.Uniform('alpha', 0, 1)\n",
    "    beta = pm.Uniform('beta', 0, shape=(1,number_of_bits))\n",
    "    kappa = pm.Uniform('kappa', 0, 1)\n",
    "    meta = pm.Uniform('meta', 0, 1, shape=(2**number_of_bits,number_of_bits))\n",
    "    current_states = record_df['Current State'].tolist()\n",
    "    next_state = record_df['Next State'].tolist()\n",
    "    dissonance = np.array(record_df['Agent_Dissonance'].tolist())\n",
    "\n",
    "    next_states = np.array([int2bool(i) for i in next_state])"
   ]
  },
  {
   "cell_type": "code",
   "execution_count": null,
   "metadata": {},
   "outputs": [],
   "source": []
  },
  {
   "cell_type": "code",
   "execution_count": 19,
   "metadata": {},
   "outputs": [
    {
     "name": "stderr",
     "output_type": "stream",
     "text": [
      "Auto-assigning NUTS sampler...\n",
      "Initializing NUTS using jitter+adapt_diag...\n",
      "Multiprocess sampling (2 chains in 2 jobs)\n",
      "NUTS: [meta, kappa, beta, alpha]\n",
      "Sampling 2 chains: 100%|████████████████████████████████████████████████████████| 1600/1600 [07:43<00:00,  1.31draws/s]\n",
      "The acceptance probability does not match the target. It is 0.8898997079463062, but should be close to 0.8. Try to increase the number of tuning steps.\n",
      "The gelman-rubin statistic is larger than 1.05 for some parameters. This indicates slight problems during sampling.\n",
      "The estimated number of effective samples is smaller than 200 for some parameters.\n"
     ]
    }
   ],
   "source": [
    "with model:  \n",
    "    # Need to fix the output_fun\n",
    "    output_fun = alpha*(1. / (1. + tt.exp(-8.0*(beta - kappa)))) +(1-alpha)*meta[current_states]\n",
    "    p = pm.Deterministic('p', output_fun)\n",
    "    # Create the bernoulli parameter which uses the observed dat\n",
    "    observed = pm.Bernoulli('obs', p, observed=next_states)\n",
    "    \n",
    "    # Using Metropolis Hastings Sampling\n",
    "    step = pm.Metropolis()\n",
    "    \n",
    "    # Sample from the posterior using the sampling method\n",
    "    trace = pm.sample(N_SAMPLES, njobs=2, tune=300);"
   ]
  },
  {
   "cell_type": "code",
   "execution_count": null,
   "metadata": {},
   "outputs": [],
   "source": []
  },
  {
   "cell_type": "code",
   "execution_count": 20,
   "metadata": {},
   "outputs": [],
   "source": [
    "# Extract the alpha and beta samples\n",
    "alpha_samples = trace[\"alpha\"][500:, None]\n",
    "beta_samples = trace[\"beta\"][500:, None]\n",
    "kappa_samples = trace[\"kappa\"][500:, None]\n",
    "meta_samples = trace['meta'][500:, None]"
   ]
  },
  {
   "cell_type": "code",
   "execution_count": 21,
   "metadata": {},
   "outputs": [
    {
     "data": {
      "text/plain": [
       "Text(0, 0.5, 'Probability Density')"
      ]
     },
     "execution_count": 21,
     "metadata": {},
     "output_type": "execute_result"
    },
    {
     "data": {
      "image/png": "[encoded data removed]",
      "text/plain": [
       "<Figure size 1152x720 with 1 Axes>"
      ]
     },
     "metadata": {
      "needs_background": "light"
     },
     "output_type": "display_data"
    }
   ],
   "source": [
    "figsize(16, 10)\n",
    "\n",
    "plt.subplot(211)\n",
    "plt.title(r\"\"\"Distribution of $\\alpha$ with %d samples\"\"\" % N_SAMPLES)\n",
    "\n",
    "plt.hist(alpha_samples, histtype='stepfilled', \n",
    "         color = 'darkred', bins=30, alpha=0.8, density=True);\n",
    "plt.ylabel('Probability Density')"
   ]
  },
  {
   "cell_type": "code",
   "execution_count": 23,
   "metadata": {},
   "outputs": [
    {
     "data": {
      "image/png": "[encoded data removed]",
      "text/plain": [
       "<Figure size 1152x720 with 1 Axes>"
      ]
     },
     "metadata": {
      "needs_background": "light"
     },
     "output_type": "display_data"
    }
   ],
   "source": [
    "figsize(16, 10)\n",
    "\n",
    "plt.subplot(212)\n",
    "plt.title(r\"\"\"Distribution of $\\kappa$ with %d samples\"\"\" % N_SAMPLES)\n",
    "plt.hist(kappa_samples, histtype='stepfilled', \n",
    "         color = 'darkblue', bins=30, alpha=0.8, density=True)\n",
    "plt.ylabel('Probability Density');"
   ]
  },
  {
   "cell_type": "code",
   "execution_count": 24,
   "metadata": {},
   "outputs": [
    {
     "data": {
      "text/html": [
       "<div>\n",
       "<style scoped>\n",
       "    .dataframe tbody tr th:only-of-type {\n",
       "        vertical-align: middle;\n",
       "    }\n",
       "\n",
       "    .dataframe tbody tr th {\n",
       "        vertical-align: top;\n",
       "    }\n",
       "\n",
       "    .dataframe thead th {\n",
       "        text-align: right;\n",
       "    }\n",
       "</style>\n",
       "<table border=\"1\" class=\"dataframe\">\n",
       "  <thead>\n",
       "    <tr style=\"text-align: right;\">\n",
       "      <th></th>\n",
       "      <th>0</th>\n",
       "      <th>1</th>\n",
       "      <th>2</th>\n",
       "    </tr>\n",
       "  </thead>\n",
       "  <tbody>\n",
       "    <tr>\n",
       "      <td>0</td>\n",
       "      <td>0.368227</td>\n",
       "      <td>0.766301</td>\n",
       "      <td>0.343281</td>\n",
       "    </tr>\n",
       "    <tr>\n",
       "      <td>1</td>\n",
       "      <td>0.090715</td>\n",
       "      <td>0.171784</td>\n",
       "      <td>0.466023</td>\n",
       "    </tr>\n",
       "    <tr>\n",
       "      <td>2</td>\n",
       "      <td>0.267129</td>\n",
       "      <td>0.666895</td>\n",
       "      <td>0.832900</td>\n",
       "    </tr>\n",
       "    <tr>\n",
       "      <td>3</td>\n",
       "      <td>0.644762</td>\n",
       "      <td>0.695495</td>\n",
       "      <td>0.890064</td>\n",
       "    </tr>\n",
       "    <tr>\n",
       "      <td>4</td>\n",
       "      <td>0.340605</td>\n",
       "      <td>0.139212</td>\n",
       "      <td>0.222436</td>\n",
       "    </tr>\n",
       "    <tr>\n",
       "      <td>5</td>\n",
       "      <td>0.782661</td>\n",
       "      <td>0.862170</td>\n",
       "      <td>0.669657</td>\n",
       "    </tr>\n",
       "    <tr>\n",
       "      <td>6</td>\n",
       "      <td>0.924941</td>\n",
       "      <td>0.149860</td>\n",
       "      <td>0.453380</td>\n",
       "    </tr>\n",
       "    <tr>\n",
       "      <td>7</td>\n",
       "      <td>0.757717</td>\n",
       "      <td>0.359295</td>\n",
       "      <td>0.205341</td>\n",
       "    </tr>\n",
       "  </tbody>\n",
       "</table>\n",
       "</div>"
      ],
      "text/plain": [
       "          0         1         2\n",
       "0  0.368227  0.766301  0.343281\n",
       "1  0.090715  0.171784  0.466023\n",
       "2  0.267129  0.666895  0.832900\n",
       "3  0.644762  0.695495  0.890064\n",
       "4  0.340605  0.139212  0.222436\n",
       "5  0.782661  0.862170  0.669657\n",
       "6  0.924941  0.149860  0.453380\n",
       "7  0.757717  0.359295  0.205341"
      ]
     },
     "execution_count": 24,
     "metadata": {},
     "output_type": "execute_result"
    }
   ],
   "source": [
    "pd.DataFrame(meta_samples.mean(0)[0])"
   ]
  },
  {
   "cell_type": "code",
   "execution_count": 25,
   "metadata": {},
   "outputs": [
    {
     "data": {
      "text/html": [
       "<div>\n",
       "<style scoped>\n",
       "    .dataframe tbody tr th:only-of-type {\n",
       "        vertical-align: middle;\n",
       "    }\n",
       "\n",
       "    .dataframe tbody tr th {\n",
       "        vertical-align: top;\n",
       "    }\n",
       "\n",
       "    .dataframe thead th {\n",
       "        text-align: right;\n",
       "    }\n",
       "</style>\n",
       "<table border=\"1\" class=\"dataframe\">\n",
       "  <thead>\n",
       "    <tr style=\"text-align: right;\">\n",
       "      <th></th>\n",
       "      <th>0</th>\n",
       "      <th>1</th>\n",
       "      <th>2</th>\n",
       "    </tr>\n",
       "  </thead>\n",
       "  <tbody>\n",
       "    <tr>\n",
       "      <td>0</td>\n",
       "      <td>0.209442</td>\n",
       "      <td>0.837769</td>\n",
       "      <td>0.418884</td>\n",
       "    </tr>\n",
       "    <tr>\n",
       "      <td>1</td>\n",
       "      <td>0.603567</td>\n",
       "      <td>0.301783</td>\n",
       "      <td>0.150892</td>\n",
       "    </tr>\n",
       "    <tr>\n",
       "      <td>2</td>\n",
       "      <td>0.661974</td>\n",
       "      <td>0.165493</td>\n",
       "      <td>0.330987</td>\n",
       "    </tr>\n",
       "    <tr>\n",
       "      <td>3</td>\n",
       "      <td>0.321610</td>\n",
       "      <td>0.160805</td>\n",
       "      <td>0.643220</td>\n",
       "    </tr>\n",
       "    <tr>\n",
       "      <td>4</td>\n",
       "      <td>0.153184</td>\n",
       "      <td>0.306368</td>\n",
       "      <td>0.612735</td>\n",
       "    </tr>\n",
       "    <tr>\n",
       "      <td>5</td>\n",
       "      <td>0.447452</td>\n",
       "      <td>0.894904</td>\n",
       "      <td>0.223726</td>\n",
       "    </tr>\n",
       "    <tr>\n",
       "      <td>6</td>\n",
       "      <td>0.312030</td>\n",
       "      <td>0.624059</td>\n",
       "      <td>0.156015</td>\n",
       "    </tr>\n",
       "    <tr>\n",
       "      <td>7</td>\n",
       "      <td>0.859535</td>\n",
       "      <td>0.429768</td>\n",
       "      <td>0.214884</td>\n",
       "    </tr>\n",
       "  </tbody>\n",
       "</table>\n",
       "</div>"
      ],
      "text/plain": [
       "          0         1         2\n",
       "0  0.209442  0.837769  0.418884\n",
       "1  0.603567  0.301783  0.150892\n",
       "2  0.661974  0.165493  0.330987\n",
       "3  0.321610  0.160805  0.643220\n",
       "4  0.153184  0.306368  0.612735\n",
       "5  0.447452  0.894904  0.223726\n",
       "6  0.312030  0.624059  0.156015\n",
       "7  0.859535  0.429768  0.214884"
      ]
     },
     "execution_count": 25,
     "metadata": {},
     "output_type": "execute_result"
    }
   ],
   "source": [
    "pd.DataFrame(coherence_matrix)"
   ]
  },
  {
   "cell_type": "code",
   "execution_count": 26,
   "metadata": {},
   "outputs": [],
   "source": [
    "alpha_est = alpha_samples.mean()\n",
    "beta_est = beta_samples.mean()\n",
    "kappa_est = kappa_samples.mean()"
   ]
  },
  {
   "cell_type": "code",
   "execution_count": 27,
   "metadata": {},
   "outputs": [
    {
     "data": {
      "text/plain": [
       "0.5759215106551137"
      ]
     },
     "execution_count": 27,
     "metadata": {},
     "output_type": "execute_result"
    }
   ],
   "source": [
    "alpha_est"
   ]
  },
  {
   "cell_type": "code",
   "execution_count": null,
   "metadata": {},
   "outputs": [],
   "source": []
  },
  {
   "cell_type": "code",
   "execution_count": null,
   "metadata": {},
   "outputs": [],
   "source": []
  }
 ],
 "metadata": {
  "kernelspec": {
   "display_name": "Python 3",
   "language": "python",
   "name": "python3"
  },
  "language_info": {
   "codemirror_mode": {
    "name": "ipython",
    "version": 3
   },
   "file_extension": ".py",
   "mimetype": "text/x-python",
   "name": "python",
   "nbconvert_exporter": "python",
   "pygments_lexer": "ipython3",
   "version": "3.7.4"
  }
 },
 "nbformat": 4,
 "nbformat_minor": 2
}
