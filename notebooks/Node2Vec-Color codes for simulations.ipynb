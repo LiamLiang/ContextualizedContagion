{
 "cells": [
  {
   "cell_type": "markdown",
   "metadata": {},
   "source": [
    "### This notebook runs simulation with color coding using [node2vec](https://snap.stanford.edu/node2vec/) embedding"
   ]
  },
  {
   "cell_type": "code",
   "execution_count": 1,
   "metadata": {},
   "outputs": [],
   "source": [
    "import pandas as pd\n",
    "import numpy as np\n",
    "import random\n",
    "from random import shuffle, randrange\n",
    "from collections import defaultdict\n",
    "import utilities\n",
    "\n",
    "import matplotlib.pyplot as plt\n",
    "import seaborn as sns\n",
    "\n",
    "import json\n",
    "\n",
    "import AgentClass\n",
    "import const\n",
    "import networkx as nx\n",
    "from config import num_agents,number_of_bits\n",
    "from scipy import stats\n",
    "from collections import defaultdict\n",
    "import copy\n",
    "\n",
    "from sklearn.decomposition import TruncatedSVD"
   ]
  },
  {
   "cell_type": "code",
   "execution_count": 2,
   "metadata": {},
   "outputs": [],
   "source": [
    "%matplotlib inline"
   ]
  },
  {
   "cell_type": "code",
   "execution_count": 3,
   "metadata": {},
   "outputs": [],
   "source": [
    "random.seed(1)\n",
    "np.random.seed(1)"
   ]
  },
  {
   "cell_type": "code",
   "execution_count": 4,
   "metadata": {},
   "outputs": [],
   "source": [
    "def get_tau_distr():\n",
    "        lower = 0\n",
    "        upper = 1\n",
    "        mu = 0.5\n",
    "        sigma = 0.1\n",
    "        N = 1000\n",
    "        \n",
    "        samples = stats.truncnorm.rvs(\n",
    "          (lower-mu)/sigma,(upper-mu)/sigma,loc=mu,scale=sigma,size=N)\n",
    "        \n",
    "        return samples"
   ]
  },
  {
   "cell_type": "code",
   "execution_count": 5,
   "metadata": {},
   "outputs": [],
   "source": [
    "def create_environment():\n",
    "    list_agents = []\n",
    "    tau_distr = get_tau_distr()\n",
    "    \n",
    "    for i in range(num_agents):\n",
    "        in_state = [first_bit.pop(), second_bit.pop(), third_bit.pop(), fourth_bit.pop(), fifth_bit.pop()\n",
    "                   , sixth_bit.pop(), seventh_bit.pop(), eigth_bit.pop(), ninth_bit.pop(), tenth_bit.pop()]\n",
    "        a = AgentClass.Agent(name='agent{}'.format(i), tau=random.choice(tau_distr), initial_state=in_state)\n",
    "        list_agents.append(a)\n",
    "        \n",
    "    # create network\n",
    "    G = nx.newman_watts_strogatz_graph(num_agents, 10, 0.5, seed= 0)\n",
    "#    nx.draw(G, with_labels=True, font_weight='bold') # to draw agents\n",
    "    df = nx.to_pandas_adjacency(G, dtype=int)\n",
    "    \n",
    "    tmp_edges = df.apply(lambda row: row.to_numpy().nonzero()).to_dict()\n",
    "    edges = {k: v[0].tolist() for k, v in tmp_edges.items()}\n",
    "    \n",
    "    # make connections with the agents\n",
    "    for k, v in edges.items():\n",
    "        for ngh in v:\n",
    "            list_agents[k].add_neighbors(list_agents[ngh])\n",
    "            \n",
    "    return list_agents"
   ]
  },
  {
   "cell_type": "code",
   "execution_count": 6,
   "metadata": {},
   "outputs": [],
   "source": [
    "def get_network_df(list_agents):\n",
    "    network_df = pd.DataFrame({'Agent Name':[], 'Neighbors':[]})\n",
    "    for agt in list_agents:\n",
    "        neighbors = agt.get_neighbors_name()\n",
    "        network_df = network_df.append({'Agent Name':agt.name, \n",
    "                                        'Neighbors':neighbors}, ignore_index=True)\n",
    "    return network_df"
   ]
  },
  {
   "cell_type": "markdown",
   "metadata": {},
   "source": [
    "Generate coherence matrix for the simulations from 'const.py'"
   ]
  },
  {
   "cell_type": "code",
   "execution_count": 7,
   "metadata": {},
   "outputs": [],
   "source": [
    "random.seed(1)\n",
    "  \n",
    "constants = const.Constants()\n",
    "coherence_matrix = constants.get_coh_matrix().tolist()\n"
   ]
  },
  {
   "cell_type": "markdown",
   "metadata": {},
   "source": [
    "Get the network weight for knowledge transitions using the coherence matrix\n",
    "\n",
    "First create a dictionary for binary values of each states"
   ]
  },
  {
   "cell_type": "code",
   "execution_count": 8,
   "metadata": {},
   "outputs": [],
   "source": [
    "kbits_dict = defaultdict(list)\n",
    "\n",
    "for i in range(1024):\n",
    "    kbits_dict['State'].append(i)\n",
    "    kbits_dict['binary'].append('{0:010b}'.format(i))    \n",
    "    kbits_dict['binary_list'].append(list('{0:010b}'.format(i))[::-1])\n",
    "kbits_mapper_df = pd.DataFrame(kbits_dict)\n",
    "kbits_mapper_df.set_index('State', inplace=True)\n",
    "kbits_mapper_df.drop('binary', inplace=True, axis=1)\n",
    "kbits_mapper_df_dict = kbits_mapper_df.to_dict(orient='index')"
   ]
  },
  {
   "cell_type": "markdown",
   "metadata": {},
   "source": [
    "For each state, check every other states and see if bit has to be flipped. If it has to then get the probability value from coherence matrix if it need not then get probability value as 1-(value from coherence matrix).\n",
    "\n",
    "The total probability would be multiplication of all those."
   ]
  },
  {
   "cell_type": "code",
   "execution_count": 9,
   "metadata": {},
   "outputs": [],
   "source": [
    "prob_transitions_mapper = {}\n",
    "\n",
    "for i in kbits_mapper_df_dict:\n",
    "    in_state = kbits_mapper_df_dict[i]['binary_list']\n",
    "    next_state_val = []\n",
    "    for j in range(1024):\n",
    "        out_state = kbits_mapper_df_dict[j]['binary_list']\n",
    "        coh_prob = coherence_matrix[i]\n",
    "        prob_list = []\n",
    "        for bit_index in range(len(out_state)):\n",
    "            if in_state[bit_index] == out_state[bit_index]: # do not change\n",
    "                prob_bit = 1-coh_prob[bit_index]\n",
    "            else:\n",
    "                prob_bit = coh_prob[bit_index]\n",
    "                \n",
    "            prob_list.append(prob_bit)\n",
    "        next_state_val.append(np.prod(np.array(prob_list)))\n",
    "    prob_transitions_mapper[i] = next_state_val"
   ]
  },
  {
   "cell_type": "markdown",
   "metadata": {},
   "source": [
    "Create a adjancency matrix and then create networkx graph"
   ]
  },
  {
   "cell_type": "code",
   "execution_count": 10,
   "metadata": {},
   "outputs": [],
   "source": [
    "adjancency_df = pd.DataFrame(prob_transitions_mapper)"
   ]
  },
  {
   "cell_type": "code",
   "execution_count": 11,
   "metadata": {},
   "outputs": [],
   "source": [
    "tmp_dict = adjancency_df.to_dict(orient='records')"
   ]
  },
  {
   "cell_type": "code",
   "execution_count": 13,
   "metadata": {},
   "outputs": [],
   "source": [
    "weighted_dict = {k1:{k2:{'weight': v2} for k2, v2 in v1.items()} for k1, v1 in enumerate(tmp_dict) }"
   ]
  },
  {
   "cell_type": "markdown",
   "metadata": {},
   "source": [
    "Using weights now create edgelist graph such that it is fed to node2vec for embedding"
   ]
  },
  {
   "cell_type": "code",
   "execution_count": 14,
   "metadata": {},
   "outputs": [],
   "source": [
    "G = nx.from_dict_of_dicts(weighted_dict)"
   ]
  },
  {
   "cell_type": "code",
   "execution_count": 15,
   "metadata": {},
   "outputs": [],
   "source": [
    "nx.write_edgelist(G,'coherence.edgelist',data=['weight'])"
   ]
  },
  {
   "cell_type": "markdown",
   "metadata": {},
   "source": [
    "**Note**: Need two python files from [node2vec Github Repository](https://github.com/aditya-grover/node2vec/tree/master/src)\n",
    "\n",
    "Run main file from Node2Vec with setting as below: \n",
    "- directed = True\n",
    "- weighted = True\n",
    "\n",
    "**After completion of embedding by running main.py file**\n",
    "Then we read the embedding file"
   ]
  },
  {
   "cell_type": "code",
   "execution_count": 16,
   "metadata": {},
   "outputs": [
    {
     "data": {
      "text/html": [
       "<div>\n",
       "<style scoped>\n",
       "    .dataframe tbody tr th:only-of-type {\n",
       "        vertical-align: middle;\n",
       "    }\n",
       "\n",
       "    .dataframe tbody tr th {\n",
       "        vertical-align: top;\n",
       "    }\n",
       "\n",
       "    .dataframe thead th {\n",
       "        text-align: right;\n",
       "    }\n",
       "</style>\n",
       "<table border=\"1\" class=\"dataframe\">\n",
       "  <thead>\n",
       "    <tr style=\"text-align: right;\">\n",
       "      <th></th>\n",
       "      <th>state</th>\n",
       "      <th>r</th>\n",
       "      <th>g</th>\n",
       "      <th>b</th>\n",
       "    </tr>\n",
       "  </thead>\n",
       "  <tbody>\n",
       "    <tr>\n",
       "      <th>1019</th>\n",
       "      <td>0</td>\n",
       "      <td>0.286288</td>\n",
       "      <td>-0.545620</td>\n",
       "      <td>-0.464838</td>\n",
       "    </tr>\n",
       "    <tr>\n",
       "      <th>1013</th>\n",
       "      <td>1</td>\n",
       "      <td>0.189079</td>\n",
       "      <td>-0.431643</td>\n",
       "      <td>-0.578886</td>\n",
       "    </tr>\n",
       "    <tr>\n",
       "      <th>1004</th>\n",
       "      <td>2</td>\n",
       "      <td>0.224981</td>\n",
       "      <td>-0.493697</td>\n",
       "      <td>-0.547969</td>\n",
       "    </tr>\n",
       "    <tr>\n",
       "      <th>978</th>\n",
       "      <td>3</td>\n",
       "      <td>0.127008</td>\n",
       "      <td>-0.535516</td>\n",
       "      <td>-0.588007</td>\n",
       "    </tr>\n",
       "    <tr>\n",
       "      <th>995</th>\n",
       "      <td>4</td>\n",
       "      <td>0.331146</td>\n",
       "      <td>-0.367741</td>\n",
       "      <td>-0.644937</td>\n",
       "    </tr>\n",
       "  </tbody>\n",
       "</table>\n",
       "</div>"
      ],
      "text/plain": [
       "      state         r         g         b\n",
       "1019      0  0.286288 -0.545620 -0.464838\n",
       "1013      1  0.189079 -0.431643 -0.578886\n",
       "1004      2  0.224981 -0.493697 -0.547969\n",
       "978       3  0.127008 -0.535516 -0.588007\n",
       "995       4  0.331146 -0.367741 -0.644937"
      ]
     },
     "execution_count": 16,
     "metadata": {},
     "output_type": "execute_result"
    }
   ],
   "source": [
    "emb_df = pd.read_csv('emb/coherence.emb', sep=' ', skiprows=[0], header=None)\n",
    "emb_df.set_index(0, inplace=True)\n",
    "emb_df.reset_index(inplace=True)\n",
    "emb_df.columns = ['state', 'r', 'g', 'b']\n",
    "emb_df.sort_values('state', inplace=True)\n",
    "emb_df.head()"
   ]
  },
  {
   "cell_type": "markdown",
   "metadata": {},
   "source": [
    "Scaling the values in each column of embedding from 0, 255 for the color codes"
   ]
  },
  {
   "cell_type": "code",
   "execution_count": 17,
   "metadata": {},
   "outputs": [],
   "source": [
    "t = emb_df.values\n",
    "i_r = np.interp(t[:, 0], (t[:, 0].min(), t[:, 0].max()), (0, 255))\n",
    "i_g = np.interp(t[:, 1], (t[:, 1].min(), t[:, 1].max()), (0, 255))\n",
    "i_b = np.interp(t[:, 2], (t[:, 2].min(), t[:, 2].max()), (0, 255))\n",
    "i_r = i_r.astype(int)\n",
    "i_g = i_g.astype(int)\n",
    "i_b = i_b.astype(int)"
   ]
  },
  {
   "cell_type": "markdown",
   "metadata": {},
   "source": [
    "Viewing color descriptions:"
   ]
  },
  {
   "cell_type": "code",
   "execution_count": 18,
   "metadata": {},
   "outputs": [],
   "source": [
    "color_codes_node2Vec = {row_num: {'r':i_r[row_num], 'g':i_g[row_num], 'b':i_b[row_num], 'a': 0} for row_num in range(len(i_r))}"
   ]
  },
  {
   "cell_type": "code",
   "execution_count": 19,
   "metadata": {},
   "outputs": [
    {
     "data": {
      "text/html": [
       "<div>\n",
       "<style scoped>\n",
       "    .dataframe tbody tr th:only-of-type {\n",
       "        vertical-align: middle;\n",
       "    }\n",
       "\n",
       "    .dataframe tbody tr th {\n",
       "        vertical-align: top;\n",
       "    }\n",
       "\n",
       "    .dataframe thead th {\n",
       "        text-align: right;\n",
       "    }\n",
       "</style>\n",
       "<table border=\"1\" class=\"dataframe\">\n",
       "  <thead>\n",
       "    <tr style=\"text-align: right;\">\n",
       "      <th></th>\n",
       "      <th>b</th>\n",
       "      <th>g</th>\n",
       "      <th>r</th>\n",
       "    </tr>\n",
       "  </thead>\n",
       "  <tbody>\n",
       "    <tr>\n",
       "      <th>count</th>\n",
       "      <td>1024.000000</td>\n",
       "      <td>1024.000000</td>\n",
       "      <td>1024.000000</td>\n",
       "    </tr>\n",
       "    <tr>\n",
       "      <th>mean</th>\n",
       "      <td>204.174805</td>\n",
       "      <td>118.942383</td>\n",
       "      <td>127.001953</td>\n",
       "    </tr>\n",
       "    <tr>\n",
       "      <th>std</th>\n",
       "      <td>25.754759</td>\n",
       "      <td>24.313680</td>\n",
       "      <td>73.743406</td>\n",
       "    </tr>\n",
       "    <tr>\n",
       "      <th>min</th>\n",
       "      <td>0.000000</td>\n",
       "      <td>0.000000</td>\n",
       "      <td>0.000000</td>\n",
       "    </tr>\n",
       "    <tr>\n",
       "      <th>25%</th>\n",
       "      <td>200.000000</td>\n",
       "      <td>112.000000</td>\n",
       "      <td>63.000000</td>\n",
       "    </tr>\n",
       "    <tr>\n",
       "      <th>50%</th>\n",
       "      <td>209.000000</td>\n",
       "      <td>120.000000</td>\n",
       "      <td>127.000000</td>\n",
       "    </tr>\n",
       "    <tr>\n",
       "      <th>75%</th>\n",
       "      <td>215.000000</td>\n",
       "      <td>127.000000</td>\n",
       "      <td>191.000000</td>\n",
       "    </tr>\n",
       "    <tr>\n",
       "      <th>max</th>\n",
       "      <td>255.000000</td>\n",
       "      <td>255.000000</td>\n",
       "      <td>255.000000</td>\n",
       "    </tr>\n",
       "  </tbody>\n",
       "</table>\n",
       "</div>"
      ],
      "text/plain": [
       "                 b            g            r\n",
       "count  1024.000000  1024.000000  1024.000000\n",
       "mean    204.174805   118.942383   127.001953\n",
       "std      25.754759    24.313680    73.743406\n",
       "min       0.000000     0.000000     0.000000\n",
       "25%     200.000000   112.000000    63.000000\n",
       "50%     209.000000   120.000000   127.000000\n",
       "75%     215.000000   127.000000   191.000000\n",
       "max     255.000000   255.000000   255.000000"
      ]
     },
     "execution_count": 19,
     "metadata": {},
     "output_type": "execute_result"
    }
   ],
   "source": [
    "color_node2Vec_dataframe = pd.DataFrame(color_codes_node2Vec).T.drop('a', axis=1)\n",
    "color_node2Vec_dataframe.describe()"
   ]
  },
  {
   "cell_type": "code",
   "execution_count": 20,
   "metadata": {},
   "outputs": [],
   "source": [
    "# To store color_codes so that we can view in 3-D plots\n",
    "color_node2Vec_dataframe.to_csv('color_codesnode2Vec.csv', index=False)"
   ]
  },
  {
   "cell_type": "code",
   "execution_count": 21,
   "metadata": {},
   "outputs": [],
   "source": [
    "color_codes = color_codes_node2Vec"
   ]
  },
  {
   "cell_type": "markdown",
   "metadata": {},
   "source": [
    "Note folder named gephi is used to save or can change folder name below"
   ]
  },
  {
   "cell_type": "code",
   "execution_count": 22,
   "metadata": {},
   "outputs": [],
   "source": [
    "def run_simulation(alpha, coh_matrix, list_agents, end_time):\n",
    "    \n",
    "    d = []\n",
    "    selected_time_stamps = [0, 24, 49, 74, 99, 199, 299]\n",
    "    for t in range(end_time):    \n",
    "        # compute next state for all agents\n",
    "        for agt in list_agents:\n",
    "            agt.update_knowledge(alpha, coh_matrix) \n",
    "         \n",
    "        # keep record of current record and all other values\n",
    "        for agt in list_agents:\n",
    "            row = {'Agent_Name':agt.name,\n",
    "                   'Agent_Dissonance':agt.dissonance_lst,\n",
    "                   'Time':t,\n",
    "                   'Current State':agt.knowledge_state,\n",
    "                   'Next State':agt.next_state}\n",
    "            \n",
    "            d.append(row)\n",
    "        \n",
    "        agent_states = {agent.name: utilities.bool2int(agent.knowledge_state) for agent in list_agents}\n",
    "        if t in selected_time_stamps:\n",
    "            G=nx.Graph()\n",
    "\n",
    "            for agent in list_agents:\n",
    "                agent_num = int(''.join([ch for ch in agent.name if ch.isdigit()]))\n",
    "                agent_neighbors = [(int(''.join([ch for ch in neighbor_name if ch.isdigit()])), agent_states[neighbor_name]) for neighbor_name in agent.neighbors]\n",
    "                nghbrs = [int(''.join([ch for ch in neighbor_name if ch.isdigit()])) for neighbor_name in agent.neighbors]\n",
    "                agent_state = utilities.bool2int(agent.knowledge_state)\n",
    "                G.add_node(agent_num)\n",
    "                G.node[agent_num]['viz'] = {'color': color_codes[agent_state]}\n",
    "                G.node[agent_num]['state'] = agent_state\n",
    "\n",
    "                for n_agent in nghbrs:\n",
    "                    G.add_edge(agent_num, n_agent)\n",
    "\n",
    "            nx.write_gexf(G, \"gephi/network_alpha_{}_t_{}.gexf\".format(alpha,t))\n",
    "            \n",
    "        # now update all agents next state with computed next state\n",
    "        for agt in list_agents:\n",
    "            agt.knowledge_state = agt.next_state\n",
    "            agt.next_state = None\n",
    "            agt.dissonance_lst = None\n",
    "            \n",
    "    return pd.DataFrame(d)"
   ]
  },
  {
   "cell_type": "markdown",
   "metadata": {},
   "source": [
    "For n number of agent we split each bit to be half 0 and half 1"
   ]
  },
  {
   "cell_type": "code",
   "execution_count": 23,
   "metadata": {},
   "outputs": [],
   "source": [
    "first_bit = [0 for i in range(num_agents//2)] + [1 for i in range(num_agents//2)]\n",
    "second_bit = [0 for i in range(num_agents//2)] + [1 for i in range(num_agents//2)]\n",
    "third_bit = [0 for i in range(num_agents//2)] + [1 for i in range(num_agents//2)]\n",
    "fourth_bit = [0 for i in range(num_agents//2)] + [1 for i in range(num_agents//2)]\n",
    "fifth_bit = [0 for i in range(num_agents//2)] + [1 for i in range(num_agents//2)]\n",
    "sixth_bit = [0 for i in range(num_agents//2)] + [1 for i in range(num_agents//2)]\n",
    "seventh_bit = [0 for i in range(num_agents//2)] + [1 for i in range(num_agents//2)]\n",
    "eigth_bit = [0 for i in range(num_agents//2)] + [1 for i in range(num_agents//2)]\n",
    "ninth_bit = [0 for i in range(num_agents//2)] + [1 for i in range(num_agents//2)]\n",
    "tenth_bit = [0 for i in range(num_agents//2)] + [1 for i in range(num_agents//2)]\n",
    "\n",
    "shuffle(first_bit)\n",
    "shuffle(second_bit)\n",
    "shuffle(third_bit)\n",
    "shuffle(fourth_bit)\n",
    "shuffle(fifth_bit)\n",
    "shuffle(sixth_bit)\n",
    "shuffle(seventh_bit)\n",
    "shuffle(eigth_bit)\n",
    "shuffle(ninth_bit)\n",
    "shuffle(tenth_bit)"
   ]
  },
  {
   "cell_type": "markdown",
   "metadata": {},
   "source": [
    "Run simulations for different alpha values and t=0 to t=300"
   ]
  },
  {
   "cell_type": "code",
   "execution_count": 24,
   "metadata": {},
   "outputs": [],
   "source": [
    "end_simulation_time = 300\n",
    "alphas = [0,.25,.5,.75,1.0]\n",
    "    \n",
    "# first create environment\n",
    "agents_list = create_environment()\n",
    "    \n",
    "# get network of the agents\n",
    "agent_network_df = get_network_df(agents_list) \n",
    "    \n",
    "results = {}\n",
    "    \n",
    "# for saving\n",
    "agent_network_df.to_json('gephi/test_network.json',orient='records', lines=True)\n",
    "        \n",
    "results['seed'] = 1\n",
    "results['coherence_matrix'] = coherence_matrix\n",
    "        \n",
    "    \n",
    "results['alphas'] = defaultdict(list)\n",
    "all_df = pd.DataFrame()"
   ]
  },
  {
   "cell_type": "code",
   "execution_count": 25,
   "metadata": {},
   "outputs": [],
   "source": [
    "# run simulation\n",
    "for alpha in alphas:\n",
    "    record_df = None\n",
    "    record_df = run_simulation(alpha, coherence_matrix, copy.deepcopy(agents_list), end_simulation_time)\n",
    "    record_df['Current_Knowledge_State'] =  record_df['Current State']\n",
    "    record_df['Current State'] = record_df['Current State'].apply(lambda row: utilities.bool2int(row))\n",
    "    record_df['Next State'] = record_df['Next State'].apply(lambda row: utilities.bool2int(row))\n",
    "    record_df['alpha'] = str(alpha)\n",
    "    all_df = all_df.append(record_df)\n",
    "    df = record_df.groupby(['Current State', 'Next State']).size().to_frame('Count').reset_index()"
   ]
  },
  {
   "cell_type": "markdown",
   "metadata": {},
   "source": [
    "Save knowledge transition graph at t=300 for different alpha values"
   ]
  },
  {
   "cell_type": "code",
   "execution_count": 26,
   "metadata": {},
   "outputs": [],
   "source": [
    "for a in alphas:\n",
    "    G = nx.DiGraph()\n",
    "    x = all_df[all_df['alpha']==str(a)].groupby(['Current State', 'Next State']).size().to_frame('Count')\n",
    "    x.reset_index(inplace=True)\n",
    "    for _, row in x.iterrows():\n",
    "        curr_state = row['Current State']\n",
    "\n",
    "        G.add_node(curr_state)\n",
    "        G.node[curr_state]['viz'] = {'color': color_codes[curr_state]}\n",
    "        G.add_edge(curr_state, row['Next State'], weight=row['Count'])\n",
    "\n",
    "    nx.write_gexf(G, \"knowledge_{}.gexf\".format(a))"
   ]
  },
  {
   "cell_type": "code",
   "execution_count": 27,
   "metadata": {},
   "outputs": [],
   "source": [
    "pd.DataFrame(coherence_matrix).to_csv('gephi/coh_matrix.csv')"
   ]
  },
  {
   "cell_type": "code",
   "execution_count": null,
   "metadata": {},
   "outputs": [],
   "source": []
  }
 ],
 "metadata": {
  "kernelspec": {
   "display_name": "Python 3",
   "language": "python",
   "name": "python3"
  },
  "language_info": {
   "codemirror_mode": {
    "name": "ipython",
    "version": 3
   },
   "file_extension": ".py",
   "mimetype": "text/x-python",
   "name": "python",
   "nbconvert_exporter": "python",
   "pygments_lexer": "ipython3",
   "version": "3.7.3"
  }
 },
 "nbformat": 4,
 "nbformat_minor": 2
}
