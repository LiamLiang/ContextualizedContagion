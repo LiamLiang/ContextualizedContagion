{
 "cells": [
  {
   "cell_type": "markdown",
   "metadata": {},
   "source": [
    "### In this notebook, we run simulations for producing output files for Gephi to do graph analysis. The color codes were build with SVD."
   ]
  },
  {
   "cell_type": "code",
   "execution_count": 1,
   "metadata": {},
   "outputs": [],
   "source": [
    "import pandas as pd\n",
    "import numpy as np\n",
    "import random\n",
    "from random import shuffle, randrange\n",
    "from collections import defaultdict\n",
    "import utilities\n",
    "\n",
    "import matplotlib.pyplot as plt\n",
    "import seaborn as sns\n",
    "\n",
    "import json\n",
    "\n",
    "import AgentClass\n",
    "import const\n",
    "import networkx as nx\n",
    "from config import num_agents,number_of_bits\n",
    "from scipy import stats\n",
    "from collections import defaultdict\n",
    "import copy\n",
    "\n",
    "from sklearn.decomposition import TruncatedSVD"
   ]
  },
  {
   "cell_type": "code",
   "execution_count": 2,
   "metadata": {},
   "outputs": [],
   "source": [
    "%matplotlib inline"
   ]
  },
  {
   "cell_type": "code",
   "execution_count": 3,
   "metadata": {},
   "outputs": [],
   "source": [
    "random.seed(1)\n",
    "np.random.seed(1)"
   ]
  },
  {
   "cell_type": "code",
   "execution_count": 4,
   "metadata": {},
   "outputs": [],
   "source": [
    "def get_tau_distr():\n",
    "        lower = 0\n",
    "        upper = 1\n",
    "        mu = 0.5\n",
    "        sigma = 0.1\n",
    "        N = 1000\n",
    "        \n",
    "        samples = stats.truncnorm.rvs(\n",
    "          (lower-mu)/sigma,(upper-mu)/sigma,loc=mu,scale=sigma,size=N)\n",
    "        \n",
    "        return samples"
   ]
  },
  {
   "cell_type": "markdown",
   "metadata": {},
   "source": [
    "create environment with small world network graph"
   ]
  },
  {
   "cell_type": "code",
   "execution_count": 5,
   "metadata": {},
   "outputs": [],
   "source": [
    "def create_environment():\n",
    "    list_agents = []\n",
    "    tau_distr = get_tau_distr()\n",
    "    \n",
    "    for i in range(num_agents):\n",
    "        in_state = [first_bit.pop(), second_bit.pop(), third_bit.pop(), fourth_bit.pop(), fifth_bit.pop()\n",
    "                   , sixth_bit.pop(), seventh_bit.pop(), eigth_bit.pop(), ninth_bit.pop(), tenth_bit.pop()]\n",
    "        a = AgentClass.Agent(name='agent{}'.format(i), tau=random.choice(tau_distr), initial_state=in_state)\n",
    "        list_agents.append(a)\n",
    "        \n",
    "    # create network\n",
    "    G = nx.newman_watts_strogatz_graph(num_agents, 10, 0.5, seed= 0)\n",
    "#    nx.draw(G, with_labels=True, font_weight='bold') # to draw agents\n",
    "    df = nx.to_pandas_adjacency(G, dtype=int)\n",
    "    \n",
    "    tmp_edges = df.apply(lambda row: row.to_numpy().nonzero()).to_dict()\n",
    "    edges = {k: v[0].tolist() for k, v in tmp_edges.items()}\n",
    "    \n",
    "    # make random connections with agents\n",
    "    for k, v in edges.items():\n",
    "        for ngh in v:\n",
    "            list_agents[k].add_neighbors(list_agents[ngh])\n",
    "            \n",
    "    return list_agents"
   ]
  },
  {
   "cell_type": "code",
   "execution_count": 6,
   "metadata": {},
   "outputs": [],
   "source": [
    "def get_network_df(list_agents):\n",
    "    network_df = pd.DataFrame({'Agent Name':[], 'Neighbors':[]})\n",
    "    for agt in list_agents:\n",
    "        neighbors = agt.get_neighbors_name()\n",
    "        network_df = network_df.append({'Agent Name':agt.name, \n",
    "                                        'Neighbors':neighbors}, ignore_index=True)\n",
    "    return network_df"
   ]
  },
  {
   "cell_type": "markdown",
   "metadata": {},
   "source": [
    "Get the coherence matrix values"
   ]
  },
  {
   "cell_type": "code",
   "execution_count": 7,
   "metadata": {},
   "outputs": [],
   "source": [
    "random.seed(1)\n",
    "  \n",
    "constants = const.Constants()\n",
    "coherence_matrix = constants.get_coh_matrix().tolist()\n"
   ]
  },
  {
   "cell_type": "markdown",
   "metadata": {},
   "source": [
    "# Color codes"
   ]
  },
  {
   "cell_type": "markdown",
   "metadata": {},
   "source": [
    "Initialize the initial knowledge state for 300 agents with half having 1's and other with 0's for each knowledge bit"
   ]
  },
  {
   "cell_type": "code",
   "execution_count": 8,
   "metadata": {},
   "outputs": [],
   "source": [
    "sim_list_agents = []\n",
    "tau_distr = get_tau_distr()\n",
    "\n",
    "first_sim_bit = [0 for i in range(300//2)] + [1 for i in range(300//2)]\n",
    "second_sim_bit = [0 for i in range(300//2)] + [1 for i in range(300//2)]\n",
    "third_sim_bit = [0 for i in range(300//2)] + [1 for i in range(300//2)]\n",
    "fourth_sim_bit = [0 for i in range(300//2)] + [1 for i in range(300//2)]\n",
    "fifth_sim_bit = [0 for i in range(300//2)] + [1 for i in range(300//2)]\n",
    "sixth_sim_bit = [0 for i in range(300//2)] + [1 for i in range(300//2)]\n",
    "seventh_sim_bit = [0 for i in range(300//2)] + [1 for i in range(300//2)]\n",
    "eigth_sim_bit = [0 for i in range(300//2)] + [1 for i in range(300//2)]\n",
    "ninth_sim_bit = [0 for i in range(300//2)] + [1 for i in range(300//2)]\n",
    "tenth_sim_bit = [0 for i in range(300//2)] + [1 for i in range(300//2)]\n",
    "\n",
    "shuffle(first_sim_bit)\n",
    "shuffle(second_sim_bit)\n",
    "shuffle(third_sim_bit)\n",
    "shuffle(fourth_sim_bit)\n",
    "shuffle(fifth_sim_bit)\n",
    "shuffle(sixth_sim_bit)\n",
    "shuffle(seventh_sim_bit)\n",
    "shuffle(eigth_sim_bit)\n",
    "shuffle(ninth_sim_bit)\n",
    "shuffle(tenth_sim_bit)\n",
    "\n",
    "for i in range(300):\n",
    "    in_state = [first_sim_bit.pop(), second_sim_bit.pop(), third_sim_bit.pop(), fourth_sim_bit.pop(), fifth_sim_bit.pop()\n",
    "                   , sixth_sim_bit.pop(), seventh_sim_bit.pop(), eigth_sim_bit.pop(), ninth_sim_bit.pop(), tenth_sim_bit.pop()]\n",
    "    a = AgentClass.Agent(name='agent{}'.format(i), tau=random.choice(tau_distr), initial_state=in_state)\n",
    "    sim_list_agents.append(a)\n",
    "        \n",
    "# create network\n",
    "G = nx.newman_watts_strogatz_graph(300, 10, 0.5, seed= 0)\n",
    "#    nx.draw(G, with_labels=True, font_weight='bold') # to draw agents\n",
    "df = nx.to_pandas_adjacency(G, dtype=int)\n",
    "    \n",
    "tmp_edges = df.apply(lambda row: row.to_numpy().nonzero()).to_dict()\n",
    "edges = {k: v[0].tolist() for k, v in tmp_edges.items()}\n",
    "    \n",
    "# make random connections with agents\n",
    "for k, v in edges.items():\n",
    "    for ngh in v:\n",
    "        sim_list_agents[k].add_neighbors(sim_list_agents[ngh])\n",
    "            "
   ]
  },
  {
   "cell_type": "code",
   "execution_count": null,
   "metadata": {},
   "outputs": [],
   "source": []
  },
  {
   "cell_type": "code",
   "execution_count": 9,
   "metadata": {},
   "outputs": [],
   "source": [
    "def run_color_simulation(alpha, coh_matrix, list_agents, end_time):\n",
    "    \n",
    "    d = []\n",
    "    for t in range(end_time): \n",
    "        # compute next state for all agents\n",
    "        for agt in list_agents:\n",
    "            agt.update_knowledge(alpha, coh_matrix) \n",
    "         \n",
    "        # keep record of current record and all other values\n",
    "        for agt in list_agents:\n",
    "            row = {'Agent_Name':agt.name,\n",
    "                   'Agent_Dissonance':agt.dissonance_lst,\n",
    "                   'Time':t,\n",
    "                   'Current State':agt.knowledge_state,\n",
    "                   'Next State':agt.next_state}\n",
    "            \n",
    "            d.append(row)\n",
    "        \n",
    "        agent_states = {agent.name: utilities.bool2int(agent.knowledge_state) for agent in list_agents}\n",
    "       \n",
    "            \n",
    "        # now update all agents next state with computed next state\n",
    "        for agt in list_agents:\n",
    "            agt.knowledge_state = agt.next_state\n",
    "            agt.next_state = None\n",
    "            agt.dissonance_lst = None\n",
    "            \n",
    "    return pd.DataFrame(d)"
   ]
  },
  {
   "cell_type": "code",
   "execution_count": 10,
   "metadata": {},
   "outputs": [],
   "source": [
    "record__color_df = run_color_simulation(0, coherence_matrix, copy.deepcopy(sim_list_agents), 10000)\n",
    "record__color_df['Current_Knowledge_State'] =  record__color_df['Current State']\n",
    "record__color_df['Current State'] = record__color_df['Current State'].apply(lambda row: utilities.bool2int(row))\n",
    "record__color_df['Next State'] = record__color_df['Next State'].apply(lambda row: utilities.bool2int(row))\n",
    "record__color_df['alpha'] = str(0)\n",
    "color_df1 = record__color_df.groupby(['Current State', 'Next State']).size().to_frame('Count').reset_index()"
   ]
  },
  {
   "cell_type": "code",
   "execution_count": 11,
   "metadata": {},
   "outputs": [
    {
     "data": {
      "text/plain": [
       "3000000"
      ]
     },
     "execution_count": 11,
     "metadata": {},
     "output_type": "execute_result"
    }
   ],
   "source": [
    "len(record__color_df)"
   ]
  },
  {
   "cell_type": "markdown",
   "metadata": {},
   "source": [
    "Use SVD on state transition matrix to get the color codes"
   ]
  },
  {
   "cell_type": "code",
   "execution_count": 12,
   "metadata": {},
   "outputs": [],
   "source": [
    "color_df = pd.crosstab(record__color_df['Current State'], record__color_df['Agent_Name'])\n",
    "# get color codes\n",
    "# states_bin_df = pd.DataFrame.from_dict({v:[int(ch) for ch in '{0:010b}'.format(v)] for v in range(1024)}).T\n",
    "svd = TruncatedSVD(n_components=3, n_iter=7, random_state=42)\n",
    "t = svd.fit_transform(color_df)  \n",
    "i = np.interp(t, (t.min(), t.max()), (0, 255))\n",
    "i = i.astype(int)\n",
    "color_codes = {index: {'r':row[0], 'g':row[1], 'b':row[2], 'a': 0} for index, row in enumerate(i)}"
   ]
  },
  {
   "cell_type": "markdown",
   "metadata": {},
   "source": [
    "The script above ran the simulations only to get the color codes, while we run again for the simulations of 100 agents"
   ]
  },
  {
   "cell_type": "markdown",
   "metadata": {},
   "source": [
    "# Run Simulations"
   ]
  },
  {
   "cell_type": "markdown",
   "metadata": {},
   "source": [
    "The graphs for Gephi were produced when timestamp in [0,24, 49, 74, 99]"
   ]
  },
  {
   "cell_type": "code",
   "execution_count": 13,
   "metadata": {},
   "outputs": [],
   "source": [
    "def run_simulation(alpha, coh_matrix, list_agents, end_time):\n",
    "    \n",
    "    d = []\n",
    "    selected_time_stamps = [0,24, 49, 74, 99]\n",
    "    for t in range(end_time):    \n",
    "        # compute next state for all agents\n",
    "        for agt in list_agents:\n",
    "            agt.update_knowledge(alpha, coh_matrix) \n",
    "         \n",
    "        # keep record of current record and all other values\n",
    "        for agt in list_agents:\n",
    "            row = {'Agent_Name':agt.name,\n",
    "                   'Agent_Dissonance':agt.dissonance_lst,\n",
    "                   'Time':t,\n",
    "                   'Current State':agt.knowledge_state,\n",
    "                   'Next State':agt.next_state}\n",
    "            \n",
    "            d.append(row)\n",
    "        \n",
    "        agent_states = {agent.name: utilities.bool2int(agent.knowledge_state) for agent in list_agents}\n",
    "        if t in selected_time_stamps:\n",
    "            G=nx.Graph()\n",
    "\n",
    "            for agent in list_agents:\n",
    "                agent_num = int(''.join([ch for ch in agent.name if ch.isdigit()]))\n",
    "                agent_neighbors = [(int(''.join([ch for ch in neighbor_name if ch.isdigit()])), agent_states[neighbor_name]) for neighbor_name in agent.neighbors]\n",
    "                nghbrs = [int(''.join([ch for ch in neighbor_name if ch.isdigit()])) for neighbor_name in agent.neighbors]\n",
    "                agent_state = utilities.bool2int(agent.knowledge_state)\n",
    "                G.add_node(agent_num)\n",
    "                G.node[agent_num]['viz'] = {'color': color_codes[agent_state]}\n",
    "                G.node[agent_num]['state'] = agent_state\n",
    "\n",
    "                for n_agent in nghbrs:\n",
    "                    G.add_edge(agent_num, n_agent)\n",
    "\n",
    "            nx.write_gexf(G, \"poster_outputs/gephi/network_alpha_{}_t_{}.gexf\".format(alpha,t))\n",
    "            \n",
    "        # now update all agents next state with computed next state\n",
    "        for agt in list_agents:\n",
    "            agt.knowledge_state = agt.next_state\n",
    "            agt.next_state = None\n",
    "            agt.dissonance_lst = None\n",
    "            \n",
    "    return pd.DataFrame(d)"
   ]
  },
  {
   "cell_type": "code",
   "execution_count": 14,
   "metadata": {},
   "outputs": [],
   "source": [
    "first_bit = [0 for i in range(num_agents//2)] + [1 for i in range(num_agents//2)]\n",
    "second_bit = [0 for i in range(num_agents//2)] + [1 for i in range(num_agents//2)]\n",
    "third_bit = [0 for i in range(num_agents//2)] + [1 for i in range(num_agents//2)]\n",
    "fourth_bit = [0 for i in range(num_agents//2)] + [1 for i in range(num_agents//2)]\n",
    "fifth_bit = [0 for i in range(num_agents//2)] + [1 for i in range(num_agents//2)]\n",
    "sixth_bit = [0 for i in range(num_agents//2)] + [1 for i in range(num_agents//2)]\n",
    "seventh_bit = [0 for i in range(num_agents//2)] + [1 for i in range(num_agents//2)]\n",
    "eigth_bit = [0 for i in range(num_agents//2)] + [1 for i in range(num_agents//2)]\n",
    "ninth_bit = [0 for i in range(num_agents//2)] + [1 for i in range(num_agents//2)]\n",
    "tenth_bit = [0 for i in range(num_agents//2)] + [1 for i in range(num_agents//2)]\n",
    "\n",
    "shuffle(first_bit)\n",
    "shuffle(second_bit)\n",
    "shuffle(third_bit)\n",
    "shuffle(fourth_bit)\n",
    "shuffle(fifth_bit)\n",
    "shuffle(sixth_bit)\n",
    "shuffle(seventh_bit)\n",
    "shuffle(eigth_bit)\n",
    "shuffle(ninth_bit)\n",
    "shuffle(tenth_bit)"
   ]
  },
  {
   "cell_type": "code",
   "execution_count": 15,
   "metadata": {},
   "outputs": [],
   "source": [
    "end_simulation_time = 100\n",
    "alphas = [0,.25,.5,.75,1.0]\n",
    "    \n",
    "# first create environment\n",
    "agents_list = create_environment()\n",
    "    \n",
    "# get network of the agents\n",
    "agent_network_df = get_network_df(agents_list) \n",
    "    \n",
    "results = {}\n",
    "    \n",
    "# for saving\n",
    "agent_network_df.to_json('simulations_new/test_network.json',orient='records', lines=True)\n",
    "        \n",
    "results['seed'] = 1\n",
    "results['coherence_matrix'] = coherence_matrix\n",
    "        \n",
    "    \n",
    "results['alphas'] = defaultdict(list)\n",
    "all_df = pd.DataFrame()"
   ]
  },
  {
   "cell_type": "code",
   "execution_count": 16,
   "metadata": {},
   "outputs": [],
   "source": [
    "kbits_dict = defaultdict(list)\n",
    "\n",
    "for i in range(1024):\n",
    "    kbits_dict['State'].append(i)\n",
    "    kbits_dict['binary'].append('{0:010b}'.format(i))\n",
    "    \n",
    "    kbits_dict['binary_list'].append(list('{0:010b}'.format(i)))\n",
    "\n",
    "kbits_mapper_df = pd.DataFrame(kbits_dict)\n",
    "kbits_mapper_df.set_index('State', inplace=True)\n",
    "kbits_mapper_df.drop('binary', inplace=True, axis=1)\n",
    "kbits_mapper_df_dict = kbits_mapper_df.to_dict(orient='index')"
   ]
  },
  {
   "cell_type": "code",
   "execution_count": 17,
   "metadata": {},
   "outputs": [],
   "source": [
    "# run simulation\n",
    "for alpha in alphas:\n",
    "    record_df = None\n",
    "    record_df = run_simulation(alpha, coherence_matrix, copy.deepcopy(agents_list), end_simulation_time)\n",
    "    record_df['Current_Knowledge_State'] =  record_df['Current State']\n",
    "    record_df['Current State'] = record_df['Current State'].apply(lambda row: utilities.bool2int(row))\n",
    "    record_df['Next State'] = record_df['Next State'].apply(lambda row: utilities.bool2int(row))\n",
    "    record_df['alpha'] = str(alpha)\n",
    "    all_df = all_df.append(record_df)\n",
    "    df = record_df.groupby(['Current State', 'Next State']).size().to_frame('Count').reset_index()"
   ]
  },
  {
   "cell_type": "code",
   "execution_count": 18,
   "metadata": {},
   "outputs": [],
   "source": [
    "# t_df= all_df[all_df['alpha']=='0']\n",
    "# cross_df = pd.crosstab(t_df['Current State'], t_df['Next State'])"
   ]
  },
  {
   "cell_type": "markdown",
   "metadata": {},
   "source": [
    "After running simulations assign color codes to each node of __Knowledge__"
   ]
  },
  {
   "cell_type": "code",
   "execution_count": 19,
   "metadata": {},
   "outputs": [],
   "source": [
    "import networkx as nx"
   ]
  },
  {
   "cell_type": "code",
   "execution_count": null,
   "metadata": {},
   "outputs": [],
   "source": []
  },
  {
   "cell_type": "code",
   "execution_count": 20,
   "metadata": {},
   "outputs": [],
   "source": [
    "for a in alphas:\n",
    "    G = nx.DiGraph()\n",
    "    x = all_df[all_df['alpha']==str(a)].groupby(['Current State', 'Next State']).size().to_frame('Count')\n",
    "    x.reset_index(inplace=True)\n",
    "    for _, row in x.iterrows():\n",
    "        curr_state = row['Current State']\n",
    "\n",
    "        G.add_node(curr_state)\n",
    "        G.node[curr_state]['viz'] = {'color': color_codes[curr_state]}\n",
    "        G.add_edge(curr_state, row['Next State'], weight=row['Count'])\n",
    "\n",
    "    nx.write_gexf(G, \"poster_outputs/gephi/knowledge_{}.gexf\".format(a))"
   ]
  },
  {
   "cell_type": "code",
   "execution_count": 21,
   "metadata": {},
   "outputs": [],
   "source": [
    "pd.DataFrame(coherence_matrix).to_csv('coh_matrix.csv')"
   ]
  },
  {
   "cell_type": "code",
   "execution_count": null,
   "metadata": {},
   "outputs": [],
   "source": []
  }
 ],
 "metadata": {
  "kernelspec": {
   "display_name": "Python 3",
   "language": "python",
   "name": "python3"
  },
  "language_info": {
   "codemirror_mode": {
    "name": "ipython",
    "version": 3
   },
   "file_extension": ".py",
   "mimetype": "text/x-python",
   "name": "python",
   "nbconvert_exporter": "python",
   "pygments_lexer": "ipython3",
   "version": "3.7.3"
  }
 },
 "nbformat": 4,
 "nbformat_minor": 2
}
